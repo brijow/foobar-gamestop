{
 "cells": [
  {
   "cell_type": "code",
   "execution_count": 1,
   "metadata": {},
   "outputs": [],
   "source": [
    "import numpy as np\n",
    "import pandas as pd\n",
    "import os\n",
    "from datetime import datetime\n",
    "import matplotlib.pyplot as plt\n",
    "import seaborn as sns\n",
    "\n",
    "import torch\n",
    "import torch.nn as nn\n",
    "from torch.utils.data import TensorDataset, DataLoader\n",
    "\n",
    "from sklearn.preprocessing import MinMaxScaler, StandardScaler"
   ]
  },
  {
   "cell_type": "code",
   "execution_count": 4,
   "metadata": {},
   "outputs": [
    {
     "name": "stdout",
     "output_type": "stream",
     "text": [
      "(7692, 8)\n",
      "(6395, 8)\n",
      "(1297, 8)\n"
     ]
    }
   ],
   "source": [
    "# load raw financial data\n",
    "# hourly resolution\n",
    "gamestop_data = pd.read_csv('../foobar/data/raw/stock_candle_60_2020-03-01_2021-03-01.csv')\n",
    "\n",
    "gamestop_data = gamestop_data.sort_values(by=['timestamp'], axis=0)\n",
    "gamestop_data['datetime'] = pd.to_datetime(gamestop_data['timestamp'], unit='s')\n",
    "gamestop_data = gamestop_data.set_index('datetime')\n",
    "\n",
    "# resmaple the data hourly and pad the gaps with the previous record\n",
    "gamestop_data = gamestop_data.resample('H', label='right').pad()\n",
    "print(gamestop_data.shape)\n",
    "\n",
    "train_data = gamestop_data[gamestop_data.index.year == 2020]\n",
    "short_squeeze_data = gamestop_data[gamestop_data.index.year == 2021]\n",
    "print(train_data.shape)\n",
    "print(short_squeeze_data.shape)"
   ]
  },
  {
   "cell_type": "code",
   "execution_count": 5,
   "metadata": {},
   "outputs": [],
   "source": [
    "# loading wide table\n",
    "df_wide = pd.read_csv('../microservices/dash_app/wide.csv')\n",
    "df_wide['datetime'] = pd.to_datetime(df_wide['hour'], format='%Y-%m-%d %H:%M:%S')\n",
    "df_wide = df_wide.set_index('datetime')\n",
    "\n",
    "train_df_wide = df_wide[df_wide.index.year == 2020]\n",
    "test_df_wide = df_wide[df_wide.index.year == 2021]"
   ]
  },
  {
   "cell_type": "markdown",
   "metadata": {},
   "source": [
    "## Data Preprocessing"
   ]
  },
  {
   "cell_type": "code",
   "execution_count": 6,
   "metadata": {},
   "outputs": [
    {
     "name": "stdout",
     "output_type": "stream",
     "text": [
      "open_price     float64\n",
      "high-price     float64\n",
      "low-price      float64\n",
      "volume           int64\n",
      "close_price    float64\n",
      "dtype: object\n"
     ]
    },
    {
     "data": {
      "text/plain": [
       "['open_price', 'high-price', 'low-price', 'volume', 'close_price']"
      ]
     },
     "execution_count": 6,
     "metadata": {},
     "output_type": "execute_result"
    }
   ],
   "source": [
    "# create train and test dataset\n",
    "# sorted based on timestamp \n",
    "\n",
    "# extract timestamps for visualization\n",
    "train_datetime_list = list(train_data.index)\n",
    "target_datetime_list = list(short_squeeze_data.index)\n",
    "gamestop_datetime_list = list(gamestop_data.index)\n",
    "\n",
    "# reordering the columns: put the prediction column to the last column\n",
    "cols = ['open_price', 'high-price', 'low-price', 'volume','close_price']\n",
    "\n",
    "df_train = train_data[cols]\n",
    "df_target = short_squeeze_data[cols]\n",
    "df_gamestop = gamestop_data[cols]\n",
    "\n",
    "# check the df column types to ensure they have correct types\n",
    "print(df_train.dtypes)\n",
    "cols"
   ]
  },
  {
   "cell_type": "code",
   "execution_count": 7,
   "metadata": {},
   "outputs": [],
   "source": [
    "train_datetime_list = list(train_df_wide.index)\n",
    "test_datetime_list = list(test_df_wide.index)\n",
    "\n",
    "feature_set_narrow = [\"openprice\", \"highprice\", \"lowprice\", \"volume\", \"closeprice\"]\n",
    "\n",
    "feature_set_wide = [\n",
    "    \"avg_all_post_pos\",\n",
    "    \"avg_all_post_neg\",\n",
    "    \"avg_all_post_neu\",\n",
    "    \"cnt_all_user\",\n",
    "    \"cnt_all_tag\",\n",
    "    \"cnt_all_post\",\n",
    "    \"cnt_all_comments\",\n",
    "    \"avg_gme_post_pos\",\n",
    "    \"avg_gme_post_neg\",\n",
    "    \"avg_gme_post_neu\",\n",
    "    \"cnt_gme_user\",\n",
    "    \"cnt_gme_tag\",\n",
    "    \"cnt_gme_post\",\n",
    "    \"cnt_gme_comments\",\n",
    "    \"volume\",\n",
    "    \"openprice\",\n",
    "    \"highprice\",\n",
    "    \"lowprice\",\n",
    "    \"closeprice\"\n",
    "]\n",
    "\n",
    "\n"
   ]
  },
  {
   "cell_type": "code",
   "execution_count": 8,
   "metadata": {},
   "outputs": [
    {
     "data": {
      "text/plain": [
       "<AxesSubplot:xlabel='datetime'>"
      ]
     },
     "execution_count": 8,
     "metadata": {},
     "output_type": "execute_result"
    },
    {
     "data": {
      "image/png": "[encoded data removed]",
      "text/plain": [
       "<Figure size 432x288 with 1 Axes>"
      ]
     },
     "metadata": {
      "needs_background": "light"
     },
     "output_type": "display_data"
    }
   ],
   "source": [
    "df_train['close_price'].plot()\n",
    "df_target['close_price'].plot()"
   ]
  },
  {
   "cell_type": "code",
   "execution_count": 9,
   "metadata": {},
   "outputs": [
    {
     "data": {
      "text/plain": [
       "open_price     0\n",
       "high-price     0\n",
       "low-price      0\n",
       "volume         0\n",
       "close_price    0\n",
       "dtype: int64"
      ]
     },
     "execution_count": 9,
     "metadata": {},
     "output_type": "execute_result"
    }
   ],
   "source": [
    "# finding missing values\n",
    "df_train.isnull().sum()"
   ]
  },
  {
   "cell_type": "code",
   "execution_count": 10,
   "metadata": {},
   "outputs": [
    {
     "data": {
      "text/plain": [
       "open_price     0\n",
       "high-price     0\n",
       "low-price      0\n",
       "volume         0\n",
       "close_price    0\n",
       "dtype: int64"
      ]
     },
     "execution_count": 10,
     "metadata": {},
     "output_type": "execute_result"
    }
   ],
   "source": [
    "df_target.isnull().sum()"
   ]
  },
  {
   "cell_type": "code",
   "execution_count": 11,
   "metadata": {},
   "outputs": [
    {
     "data": {
      "image/png": "[encoded data removed]",
      "text/plain": [
       "<Figure size 864x432 with 1 Axes>"
      ]
     },
     "metadata": {
      "needs_background": "light"
     },
     "output_type": "display_data"
    }
   ],
   "source": [
    "# Visualize the ditribution of the features in the train dataset\n",
    "df_std = (df_train - df_train.mean()) / df_train.std()\n",
    "df_std = df_std.melt(var_name='Column', value_name='Normalized')\n",
    "\n",
    "plt.figure(figsize=(12, 6))\n",
    "ax = sns.violinplot(x='Column', y='Normalized', data=df_std)\n"
   ]
  },
  {
   "cell_type": "code",
   "execution_count": 12,
   "metadata": {},
   "outputs": [
    {
     "data": {
      "image/png": "[encoded data removed]",
      "text/plain": [
       "<Figure size 864x432 with 1 Axes>"
      ]
     },
     "metadata": {
      "needs_background": "light"
     },
     "output_type": "display_data"
    }
   ],
   "source": [
    "df_std = (df_target - df_target.mean()) / df_target.std()\n",
    "df_std = df_std.melt(var_name='Column', value_name='Normalized')\n",
    "\n",
    "plt.figure(figsize=(12, 6))\n",
    "ax = sns.violinplot(x='Column', y='Normalized', data=df_std)\n"
   ]
  },
  {
   "cell_type": "code",
   "execution_count": 66,
   "metadata": {},
   "outputs": [],
   "source": [
    "def scale(df, feature_set, scaler=None):\n",
    "    if scaler is None:\n",
    "        scaler = StandardScaler()\n",
    "#         scaler = MinMaxScaler()\n",
    "        scaled_arr = scaler.fit_transform(df[feature_set])\n",
    "    else:\n",
    "        scaled_arr = scaler.fit_transform(df[feature_set])\n",
    "    return scaled_arr, scaler\n",
    "\n",
    "def split(train_arr, train_ratio):\n",
    "    # split the data to train, validate\n",
    "    n = len(train_arr)\n",
    "    train_set = train_arr[:int(n*train_ratio)]\n",
    "    val_set = train_arr[int(n*train_ratio):]\n",
    "    return train_set, val_set"
   ]
  },
  {
   "cell_type": "markdown",
   "metadata": {},
   "source": [
    "### Data Windowing for time series forecasting\n",
    "\n",
    "> Refer to [Data Windowing](https://www.tensorflow.org/tutorials/structured_data/time_series#data_windowing) for more details\n"
   ]
  },
  {
   "cell_type": "code",
   "execution_count": 67,
   "metadata": {},
   "outputs": [],
   "source": [
    "# Generate time windows for time series forecasting with LSTM network\n",
    "def generate_window(dataset, train_window, pred_horizon):\n",
    "    dataset_seq = []\n",
    "    size = len(dataset)\n",
    "    x_arr = []\n",
    "    y_arr = []\n",
    "    for i in range(size - train_window - pred_horizon):\n",
    "        x = dataset[i:(i+train_window), :-1]\n",
    "        y = dataset[i+train_window+pred_horizon-1:i+train_window+pred_horizon, -1]\n",
    "        x_arr.append(x)\n",
    "        y_arr.append(y)\n",
    "\n",
    "    x_tensor = torch.tensor(x_arr).float()\n",
    "    y_tensor = torch.tensor(y_arr).float()\n",
    "    num_features = x_tensor.shape[2]\n",
    "    dataset_seq = (x_tensor, y_tensor)\n",
    "    return dataset_seq, num_features\n",
    "\n",
    "def create_batch_set(dataset_seq, batch_size = 100):\n",
    "    x_tensor, y_tensor = dataset_seq\n",
    "    tensor_dataset = TensorDataset(x_tensor,y_tensor)\n",
    "    tensor_dataloader = DataLoader(tensor_dataset, batch_size, False)\n",
    "    return tensor_dataloader"
   ]
  },
  {
   "cell_type": "code",
   "execution_count": 68,
   "metadata": {},
   "outputs": [
    {
     "name": "stdout",
     "output_type": "stream",
     "text": [
      "10\n",
      "2\n"
     ]
    }
   ],
   "source": [
    "# various feature sets for model selection\n",
    "feature_set1 = ['open_price', 'high-price', 'low-price', 'volume', 'close_price']\n",
    "feature_set2 = ['open_price', 'high-price', 'low-price', 'close_price']\n",
    "feature_set3 = ['open_price', 'volume', 'close_price']\n",
    "feature_set4 = ['volume', 'close_price']\n",
    "feature_sets = [feature_set1, feature_set1, feature_set3, feature_set4]\n",
    "\n",
    "# let's create sequential training dataset with various traning windows and prediction horizons\n",
    "# given that the times series data has 1-hour resolution\n",
    "# 24hours * (days)\n",
    "\n",
    "train_window_list = np.array([3, 5, 10, 24, 24*2, 24*5, 24*7])\n",
    "prediction_horizon_list = np.array([1, 2, 3, 5, 24*1, 24*2, 24*3])\n",
    "\n",
    "# choose these set for testing \n",
    "feature_set = feature_sets[0]\n",
    "train_window = train_window_list[2]\n",
    "prediction_horizon = prediction_horizon_list[1]\n",
    "print(train_window)\n",
    "print(prediction_horizon)\n",
    "\n",
    "train_set, train_scaler = scale(df_train, feature_set)\n",
    "target_set, _ = scale(df_target, feature_set, train_scaler)\n",
    "train_set , val_set = split(train_set, 0.8)\n",
    "\n",
    "gamestop_set, _ = scale(df_gamestop, feature_set, train_scaler)\n",
    "\n",
    "train_seq, num_features = generate_window(train_set, train_window, prediction_horizon)\n",
    "val_seq, _ = generate_window(val_set, train_window, prediction_horizon)\n",
    "\n",
    "x_train, _ =train_seq\n",
    "x_val, _ = val_seq\n",
    "train_batch_size = int(len(x_train)*0.5)\n",
    "val_batch_size = int(len(x_val)*1)\n",
    "\n",
    "train_batches = create_batch_set(train_seq, batch_size=100)\n",
    "val_batches = create_batch_set(val_seq, batch_size=2)\n",
    "\n",
    "target_seq, _ = generate_window(target_set, train_window, prediction_horizon)\n",
    "gamestop_seq, _ = generate_window(gamestop_set, train_window, prediction_horizon)\n",
    "\n",
    "datetime_target = target_datetime_list[train_window+prediction_horizon:]\n",
    "datetime_gamestop = gamestop_datetime_list[train_window+prediction_horizon:]\n"
   ]
  },
  {
   "cell_type": "markdown",
   "metadata": {},
   "source": [
    "## Creating LSTM Network"
   ]
  },
  {
   "cell_type": "code",
   "execution_count": 69,
   "metadata": {},
   "outputs": [],
   "source": [
    "class LSTM(nn.Module):\n",
    "    def __init__(self, input_size, seq_length, hidden_size=100, num_layers = 2, output_size=1):\n",
    "        super(LSTM, self).__init__()\n",
    "\n",
    "        self.input_size = input_size\n",
    "        self.num_layers = num_layers\n",
    "        self.hidden_size = hidden_size\n",
    "        self.output_size = output_size\n",
    "        self.seq_len = seq_length\n",
    "        \n",
    "        self.hidden_state = None\n",
    "        self.cell_state = None\n",
    "        self.hidden = (self.hidden_state, self.cell_state)\n",
    "\n",
    "        self.lstm = nn.LSTM(\n",
    "            input_size=self.input_size,\n",
    "            hidden_size=self.hidden_size,\n",
    "            num_layers=self.num_layers,\n",
    "            dropout=0.2,\n",
    "            batch_first=True\n",
    "        )\n",
    "\n",
    "        self.linear = nn.Linear(self.hidden_size * self.seq_len, self.output_size)\n",
    "\n",
    "    def init_hidden(self, batch_size, device):\n",
    "        self.hidden_state = torch.zeros(self.num_layers, batch_size ,self.hidden_size).to(device)\n",
    "        self.cell_state = torch.zeros(self.num_layers, batch_size ,self.hidden_size).to(device)\n",
    "        self.hidden = (self.hidden_state, self.cell_state)\n",
    "\n",
    "    def forward(self, x):\n",
    "        lstm_out, self.hidden = self.lstm(\n",
    "                x,\n",
    "                self.hidden\n",
    "            )\n",
    "        outputs = self.linear(lstm_out.reshape(x.size(0),-1))\n",
    "        return outputs\n"
   ]
  },
  {
   "cell_type": "markdown",
   "metadata": {},
   "source": [
    "## Traning LSTM model"
   ]
  },
  {
   "cell_type": "code",
   "execution_count": 70,
   "metadata": {},
   "outputs": [],
   "source": [
    "def train_model(model, device, train_batches, val_batches=None, num_epochs=50):\n",
    "\n",
    "    learning_rate = 1e-3\n",
    "    train_losses = []\n",
    "    val_losses = []\n",
    "    best_loss = np.Inf\n",
    "    val_loss = None\n",
    "    \n",
    "\n",
    "    criterion = torch.nn.MSELoss().to(device)\n",
    "    optimizer = torch.optim.Adam(model.parameters(), lr=learning_rate)\n",
    "    \n",
    "    for epoch in range(num_epochs):\n",
    "        batch_losses = []\n",
    "        for batch_ndx, train_batch in enumerate(train_batches):\n",
    "            model.train()\n",
    "            x_train, y_train = train_batch\n",
    "            batch_size = x_train.size(0)\n",
    "            x_train = x_train.to(device)\n",
    "            y_train = y_train.to(device)\n",
    "            model.init_hidden(batch_size, device)\n",
    "            outputs = model(x_train)\n",
    "            loss = criterion(outputs, y_train)\n",
    "            loss.backward()\n",
    "            optimizer.step()\n",
    "            optimizer.zero_grad()\n",
    "\n",
    "            batch_loss = loss.item()\n",
    "            batch_losses.append(batch_loss)\n",
    "            \n",
    "        if val_batches is not None:\n",
    "            model.eval()\n",
    "            with torch.no_grad():\n",
    "                val_batch_losses = []\n",
    "                for _, val_batch in enumerate(val_batches):\n",
    "                    x_val, y_val = val_batch\n",
    "                    batch_size = x_val.size(0)\n",
    "                    x_val = x_val.to(device)\n",
    "                    y_val = y_val.to(device)\n",
    "                    model.init_hidden(batch_size, device)\n",
    "                    pred = model(x_val)\n",
    "                    loss = criterion(pred, y_val)\n",
    "                    val_loss = loss.item()\n",
    "                    val_batch_losses.append(val_loss)\n",
    "                    if val_loss < best_loss:\n",
    "                        best_loss = val_loss\n",
    "        \n",
    "        val_losses_mean = np.mean(val_batch_losses)\n",
    "        batch_losses_mean = np.mean(batch_losses)\n",
    "        print(f\"Epoch {epoch}: train loss {batch_losses_mean}, val loss {val_losses_mean}\")\n",
    "        val_losses.append(val_losses_mean)\n",
    "        train_losses.append(batch_losses_mean)\n",
    "        \n",
    "        \n",
    "    return model.eval(), train_losses, val_losses"
   ]
  },
  {
   "cell_type": "code",
   "execution_count": 71,
   "metadata": {},
   "outputs": [
    {
     "name": "stdout",
     "output_type": "stream",
     "text": [
      "cuda\n",
      "Epoch 0: train loss 0.23026861065031531, val loss 0.3849351381470247\n",
      "Epoch 1: train loss 0.27790810494983675, val loss 0.818883686012086\n",
      "Epoch 2: train loss 0.052898843753120255, val loss 0.03381746663164911\n",
      "Epoch 3: train loss 0.023511745744774368, val loss 0.20778942862540273\n",
      "Epoch 4: train loss 0.02714608352443275, val loss 0.05541597168735145\n",
      "Epoch 5: train loss 0.012968618362300241, val loss 0.26506717267150776\n",
      "Epoch 6: train loss 0.025243741984013468, val loss 0.05644480747235375\n",
      "Epoch 7: train loss 0.016627700350139864, val loss 0.31610149893563017\n",
      "Epoch 8: train loss 0.031556616991180744, val loss 0.054720973822514174\n",
      "Epoch 9: train loss 0.019983250502823815, val loss 0.3682957435811191\n",
      "Epoch 10: train loss 0.03845204834774799, val loss 0.051215305726563194\n",
      "Epoch 11: train loss 0.022244430492999248, val loss 0.377320606092561\n",
      "Epoch 12: train loss 0.03920103679634989, val loss 0.05619993428178764\n",
      "Epoch 13: train loss 0.02055756390361169, val loss 0.3704256337952774\n",
      "Epoch 14: train loss 0.04092730976341185, val loss 0.0788249083253068\n",
      "Epoch 15: train loss 0.02025258889793454, val loss 0.3297776652482406\n",
      "Epoch 16: train loss 0.03753481235001415, val loss 0.08871725675108771\n",
      "Epoch 17: train loss 0.017269228634876736, val loss 0.28394319648055777\n",
      "Epoch 18: train loss 0.030595824591448315, val loss 0.08256170878788541\n",
      "Epoch 19: train loss 0.01513166213072299, val loss 0.2602050505508834\n",
      "Epoch 20: train loss 0.025795389805772666, val loss 0.07416080358674869\n",
      "Epoch 21: train loss 0.01271539751849979, val loss 0.22689074210574053\n",
      "Epoch 22: train loss 0.022020725060988646, val loss 0.06296283339561513\n",
      "Epoch 23: train loss 0.012149178907678176, val loss 0.22038954787009973\n",
      "Epoch 24: train loss 0.020839748955040704, val loss 0.05935763837046657\n",
      "Epoch 25: train loss 0.011544353596736282, val loss 0.22341225020861635\n",
      "Epoch 26: train loss 0.02042246558043049, val loss 0.05205910711276434\n",
      "Epoch 27: train loss 0.010681825557884831, val loss 0.22602725632370568\n",
      "Epoch 28: train loss 0.01789479611817604, val loss 0.049491208567412626\n",
      "Epoch 29: train loss 0.010073820340039674, val loss 0.18985469606243893\n",
      "Epoch 30: train loss 0.018808184517323613, val loss 0.04968385549141103\n",
      "Epoch 31: train loss 0.010938800299370017, val loss 0.19876100475034472\n",
      "Epoch 32: train loss 0.019440770718434718, val loss 0.0463702599583484\n",
      "Epoch 33: train loss 0.011231069361831313, val loss 0.19179714425970165\n",
      "Epoch 34: train loss 0.01786292657085981, val loss 0.04269081890636308\n",
      "Epoch 35: train loss 0.010411553017687626, val loss 0.18897652363976886\n",
      "Epoch 36: train loss 0.016986632044091284, val loss 0.041369681960012734\n",
      "Epoch 37: train loss 0.01001792540381967, val loss 0.18204961252068824\n",
      "Epoch 38: train loss 0.017187936749766007, val loss 0.04072680502551452\n",
      "Epoch 39: train loss 0.010384418692690535, val loss 0.18435888581633625\n",
      "Epoch 40: train loss 0.01738003387883789, val loss 0.03957958350528737\n",
      "Epoch 41: train loss 0.010507306350448813, val loss 0.18668636105562525\n",
      "Epoch 42: train loss 0.017349011380597055, val loss 0.03620985533297608\n",
      "Epoch 43: train loss 0.01058800761641648, val loss 0.18598515066733862\n",
      "Epoch 44: train loss 0.016384988460721124, val loss 0.037153361503536965\n",
      "Epoch 45: train loss 0.010032412981672678, val loss 0.1715598245726899\n",
      "Epoch 46: train loss 0.014991544652730227, val loss 0.03245810344604152\n",
      "Epoch 47: train loss 0.009689751049266376, val loss 0.1738259790184113\n",
      "Epoch 48: train loss 0.015946220690518834, val loss 0.032676486948439026\n",
      "Epoch 49: train loss 0.009831554926887084, val loss 0.1744491926995576\n"
     ]
    }
   ],
   "source": [
    "# RANDOM_SEED = 42\n",
    "# np.random.seed(RANDOM_SEED)\n",
    "# torch.manual_seed(RANDOM_SEED)\n",
    "# torch.cuda.empty_cache()\n",
    "device = torch.device(\"cuda\" if torch.cuda.is_available() else \"cpu\")\n",
    "print(device)\n",
    "\n",
    "model = LSTM(input_size=num_features, seq_length=train_window)\n",
    "model.to(device)\n",
    "\n",
    "model, train_losses, val_losses = train_model(model, device, train_batches, val_batches, num_epochs=50)"
   ]
  },
  {
   "cell_type": "code",
   "execution_count": 72,
   "metadata": {},
   "outputs": [
    {
     "data": {
      "text/plain": [
       "<matplotlib.legend.Legend at 0x7fc37c1ad400>"
      ]
     },
     "execution_count": 72,
     "metadata": {},
     "output_type": "execute_result"
    },
    {
     "data": {
      "image/png": "[encoded data removed]",
      "text/plain": [
       "<Figure size 432x288 with 1 Axes>"
      ]
     },
     "metadata": {
      "needs_background": "light"
     },
     "output_type": "display_data"
    }
   ],
   "source": [
    "plt.plot(train_losses, label=\"Training loss\")\n",
    "plt.plot(val_losses, label=\"Test loss\")\n",
    "plt.legend()"
   ]
  },
  {
   "cell_type": "markdown",
   "metadata": {},
   "source": [
    "## Predictions"
   ]
  },
  {
   "cell_type": "code",
   "execution_count": 64,
   "metadata": {
    "scrolled": true
   },
   "outputs": [
    {
     "name": "stdout",
     "output_type": "stream",
     "text": [
      "cpu\n"
     ]
    }
   ],
   "source": [
    "observed, predicted, losses = [], [], []\n",
    "# device = torch.device(\"cuda\" if torch.cuda.is_available() else \"cpu\")\n",
    "device = torch.device(\"cpu\")\n",
    "criterion = nn.L1Loss(reduction='sum').to(device)\n",
    "model.to(device)\n",
    "print(device)\n",
    "\n",
    "X_test, y_test = target_seq\n",
    "test_set_size = X_test.size(0)\n",
    "\n",
    "# model.init_hidden(X_test.size(0), device)\n",
    "# y_pred = model(X_test)\n",
    "\n",
    "with torch.no_grad():\n",
    "    model.eval()\n",
    "    for i in range(test_set_size):\n",
    "        x_i = X_test[i:i+1]\n",
    "        y_i = y_test[i:i+1]\n",
    "        x_i.to(device)\n",
    "        y_i.to(device)\n",
    "        model.init_hidden(x_i.size(0), device)\n",
    "        y_pred = model(x_i)\n",
    "        loss = criterion(y_pred, y_i)\n",
    "        predicted.append(y_pred.item())\n",
    "        losses.append(loss.item())\n",
    "        \n",
    "observed = y_test.cpu().numpy().flatten()\n",
    "# predictions = y_pred.cpu().numpy().flatten()\n",
    "predictions = np.array(predicted).flatten()"
   ]
  },
  {
   "cell_type": "code",
   "execution_count": 65,
   "metadata": {},
   "outputs": [
    {
     "data": {
      "text/plain": [
       "<matplotlib.legend.Legend at 0x7fc37c2385c0>"
      ]
     },
     "execution_count": 65,
     "metadata": {},
     "output_type": "execute_result"
    },
    {
     "data": {
      "image/png": "[encoded data removed]",
      "text/plain": [
       "<Figure size 432x288 with 1 Axes>"
      ]
     },
     "metadata": {
      "needs_background": "light"
     },
     "output_type": "display_data"
    }
   ],
   "source": [
    "\n",
    "plt.plot(datetime_target,predictions, label=\"Predicted\")\n",
    "plt.plot(datetime_target, observed, label=\"Observed\")\n",
    "plt.xticks(rotation=45)\n",
    "plt.legend()"
   ]
  },
  {
   "cell_type": "code",
   "execution_count": 28,
   "metadata": {},
   "outputs": [
    {
     "data": {
      "text/plain": [
       "0.25710924428913007"
      ]
     },
     "execution_count": 28,
     "metadata": {},
     "output_type": "execute_result"
    },
    {
     "data": {
      "image/png": "[encoded data removed]",
      "text/plain": [
       "<Figure size 432x288 with 1 Axes>"
      ]
     },
     "metadata": {
      "needs_background": "light"
     },
     "output_type": "display_data"
    }
   ],
   "source": [
    "plt.plot(datetime_target ,losses, label=\"Prediction Loss\")\n",
    "plt.xticks(rotation=45)\n",
    "plt.legend()\n",
    "np.mean(losses)"
   ]
  },
  {
   "cell_type": "code",
   "execution_count": 71,
   "metadata": {},
   "outputs": [],
   "source": [
    "# saving prediciton result as csv file for the entire dataset\n",
    "truth, predictions, losses = [], [], []\n",
    "device = torch.device(\"cpu\")\n",
    "criterion = nn.L1Loss(reduction='sum').to(device)\n",
    "model.to(device)\n",
    "\n",
    "X_test, y_test = gamestop_seq\n",
    "test_set_size = X_test.size(0)\n",
    "\n",
    "res = df_gamestop.copy()\n",
    "res['predictions'] = np.nan\n",
    "res['loss'] = np.nan\n",
    "\n",
    "with torch.no_grad():\n",
    "    model.eval()\n",
    "    for i in range(test_set_size):\n",
    "        x_i = X_test[i:i+1]\n",
    "        y_i = y_test[i:i+1]\n",
    "        x_i.to(device)\n",
    "        y_i.to(device)\n",
    "        model.init_hidden(x_i.size(0), device)\n",
    "        y_pred = model(x_i)\n",
    "        loss = criterion(y_pred, y_i)\n",
    "        res.at[datetime_gamestop[i], 'predictions'] = y_pred.cpu().numpy().flatten()\n",
    "        res.at[datetime_gamestop[i], 'loss'] = loss.item()\n",
    "        predictions.append(y_pred.cpu().numpy().flatten())\n",
    "        losses.append(loss.item())\n",
    "        \n",
    "        \n",
    "truth = y_test.cpu().numpy().flatten()\n",
    "predictions = np.array(predictions).flatten()"
   ]
  },
  {
   "cell_type": "code",
   "execution_count": null,
   "metadata": {},
   "outputs": [],
   "source": [
    "out_csv = res.drop('loss', axis=1)\n",
    "out_csv.to_csv('../foobar/data/processed/gme_predictions_m1.csv')\n",
    "res"
   ]
  },
  {
   "cell_type": "code",
   "execution_count": null,
   "metadata": {},
   "outputs": [],
   "source": [
    "plt.plot(datetime_gamestop,predictions, label=\"Predictions\")\n",
    "plt.plot(datetime_gamestop, truth, label=\"Truth\")\n",
    "plt.xticks(rotation=45)\n",
    "plt.legend()"
   ]
  },
  {
   "cell_type": "code",
   "execution_count": null,
   "metadata": {},
   "outputs": [],
   "source": [
    "print('Saving...')\n",
    "state = {\n",
    "    'model': model.state_dict(),\n",
    "    'scaler': train_scaler,\n",
    "    'feature_set': feature_set,\n",
    "    'history': history,\n",
    "    'pred_horizon': prediction_horizon,\n",
    "    'train_window': train_window\n",
    "}\n",
    "\n",
    "if not os.path.isdir('checkpoint'):\n",
    "    os.mkdir('checkpoint')\n",
    "torch.save(state, f'./checkpoint/m1.pth')"
   ]
  },
  {
   "cell_type": "code",
   "execution_count": null,
   "metadata": {},
   "outputs": [],
   "source": [
    "import os\n",
    "\n",
    "RANDOM_SEED = 42\n",
    "np.random.seed(RANDOM_SEED)\n",
    "torch.manual_seed(RANDOM_SEED)\n",
    "device = torch.device(\"cuda\" if torch.cuda.is_available() else \"cpu\")\n",
    "\n",
    "model_index = 0\n",
    "for train_window in train_window_list:\n",
    "    for prediction_horizon in prediction_horizon_list:\n",
    "#         for feature_set in feature_sets:\n",
    "        if prediction_horizon > train_window:\n",
    "            break\n",
    "            \n",
    "#         train_set, train_scaler = scale(df_train, feature_set)\n",
    "#         target_set, _ = scale(df_target, feature_set, train_scaler)\n",
    "#         train_set , val_set = split(train_set, 0.8)\n",
    "        \n",
    "        \n",
    "#         train_seq, num_features = generate_window(train_set, train_window, prediction_horizon)\n",
    "#         val_seq, _ = generate_window(val_set, train_window, prediction_horizon)\n",
    "\n",
    "#         train_batches = create_batch_set(train_seq)\n",
    "#         val_batches = create_batch_set(val_seq)\n",
    "\n",
    "#         target_seq, _ = generate_window(target_set, train_window, prediction_horizon)\n",
    "#         gamestop_seq, _ = generate_window(gamestop_set, train_window, prediction_horizon)\n",
    "\n",
    "#         datetime_target = target_datetime_list[train_window+prediction_horizon:]\n",
    "#         datetime_gamestop = gamestop_datetime_list[train_window+prediction_horizon:]\n",
    "\n",
    "        \n",
    "#         train_seq, num_features = generate_window(train_set, train_window, prediction_horizon)\n",
    "#         val_seq, _ = generate_window(val_set, train_window, prediction_horizon)\n",
    "#         target_seq, _ = generate_window(target_set, train_window, prediction_horizon)\n",
    "\n",
    "        datetime_target = target_datetime_list[train_window+prediction_horizon:]\n",
    "        \n",
    "        model = LSTM(input_size=num_features, seq_length=train_window)\n",
    "        model = model.to(device)\n",
    "\n",
    "        model, history, _ = train_model(model, device, train_seq, val_seq, num_epochs=100)\n",
    "        visualization(history)\n",
    "        model_index += 1\n",
    "\n",
    "        print('Saving...')\n",
    "        state = {\n",
    "            'model': model.state_dict(),\n",
    "            'scaler': train_scaler,\n",
    "            'feature_set': feature_set,\n",
    "            'history': history,\n",
    "            'pred_horizon': prediction_horizon,\n",
    "            'train_window': train_window\n",
    "        }\n",
    "\n",
    "        if not os.path.isdir('checkpoint'):\n",
    "            os.mkdir('checkpoint')\n",
    "        torch.save(state, f'./checkpoint/train_m{model_index}.pth')\n",
    "\n",
    "            \n",
    "        plt.plot(history['train'], label=\"Training loss\")\n",
    "        plt.plot(history['val'], label=\"Test loss\")\n",
    "        plt.legend()\n",
    "        \n",
    "        truth, predictions, losses = [], [], []\n",
    "\n",
    "        criterion = nn.L1Loss(reduction='sum').to(device)\n",
    "        model.to(device)\n",
    "\n",
    "        X_test, y_test = target_seq\n",
    "        test_set_size = X_test.size(0)\n",
    "\n",
    "        with torch.no_grad():\n",
    "            model.eval()\n",
    "            for i in range(test_set_size):\n",
    "                x_i = X_test[i:i+1]\n",
    "                y_i = y_test[i:i+1]\n",
    "                x_i.to(device)\n",
    "                y_i.to(device)\n",
    "                model.init_hidden(x_i.size(0), device)\n",
    "                y_pred = model(x_i)\n",
    "                predictions.append(y_pred.cpu().numpy().flatten())\n",
    "                loss = criterion(y_pred, y_i)\n",
    "                losses.append(loss.item())\n",
    "\n",
    "        truth = y_test.cpu().numpy().flatten()\n",
    "        predictions = np.array(predictions).flatten()\n",
    "        \n",
    "        plt.plot(datetime_target,predictions, label=\"Predictions\")\n",
    "        plt.plot(datetime_target, truth, label=\"Truth\")\n",
    "        plt.xticks(rotation=45)\n",
    "        plt.legend()"
   ]
  },
  {
   "cell_type": "code",
   "execution_count": null,
   "metadata": {},
   "outputs": [],
   "source": []
  }
 ],
 "metadata": {
  "kernelspec": {
   "display_name": "Python 3",
   "language": "python",
   "name": "python3"
  },
  "language_info": {
   "codemirror_mode": {
    "name": "ipython",
    "version": 3
   },
   "file_extension": ".py",
   "mimetype": "text/x-python",
   "name": "python",
   "nbconvert_exporter": "python",
   "pygments_lexer": "ipython3",
   "version": "3.7.3"
  }
 },
 "nbformat": 4,
 "nbformat_minor": 2
}
