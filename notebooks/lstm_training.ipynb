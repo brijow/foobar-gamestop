{
 "cells": [
  {
   "cell_type": "code",
   "execution_count": 1,
   "metadata": {},
   "outputs": [],
   "source": [
    "import numpy as np\n",
    "import pandas as pd\n",
    "import os\n",
    "from datetime import datetime\n",
    "import matplotlib.pyplot as plt\n",
    "import seaborn as sns\n",
    "\n",
    "import torch\n",
    "import torch.nn as nn\n",
    "from torch.utils.data import TensorDataset, DataLoader\n",
    "\n",
    "from sklearn.preprocessing import MinMaxScaler, StandardScaler"
   ]
  },
  {
   "cell_type": "code",
   "execution_count": 2,
   "metadata": {},
   "outputs": [
    {
     "name": "stdout",
     "output_type": "stream",
     "text": [
      "(7692, 8)\n",
      "(6395, 8)\n",
      "(1297, 8)\n"
     ]
    },
    {
     "data": {
      "text/html": [
       "<div>\n",
       "<style scoped>\n",
       "    .dataframe tbody tr th:only-of-type {\n",
       "        vertical-align: middle;\n",
       "    }\n",
       "\n",
       "    .dataframe tbody tr th {\n",
       "        vertical-align: top;\n",
       "    }\n",
       "\n",
       "    .dataframe thead th {\n",
       "        text-align: right;\n",
       "    }\n",
       "</style>\n",
       "<table border=\"1\" class=\"dataframe\">\n",
       "  <thead>\n",
       "    <tr style=\"text-align: right;\">\n",
       "      <th></th>\n",
       "      <th>Unnamed: 0</th>\n",
       "      <th>close_price</th>\n",
       "      <th>high-price</th>\n",
       "      <th>low-price</th>\n",
       "      <th>open_price</th>\n",
       "      <th>status</th>\n",
       "      <th>timestamp</th>\n",
       "      <th>volume</th>\n",
       "    </tr>\n",
       "    <tr>\n",
       "      <th>datetime</th>\n",
       "      <th></th>\n",
       "      <th></th>\n",
       "      <th></th>\n",
       "      <th></th>\n",
       "      <th></th>\n",
       "      <th></th>\n",
       "      <th></th>\n",
       "      <th></th>\n",
       "    </tr>\n",
       "  </thead>\n",
       "  <tbody>\n",
       "    <tr>\n",
       "      <th>2020-04-09 13:00:00</th>\n",
       "      <td>0</td>\n",
       "      <td>3.70</td>\n",
       "      <td>3.72</td>\n",
       "      <td>3.450</td>\n",
       "      <td>3.450</td>\n",
       "      <td>ok</td>\n",
       "      <td>1586437200</td>\n",
       "      <td>319130</td>\n",
       "    </tr>\n",
       "    <tr>\n",
       "      <th>2020-04-09 14:00:00</th>\n",
       "      <td>1</td>\n",
       "      <td>3.86</td>\n",
       "      <td>3.90</td>\n",
       "      <td>3.685</td>\n",
       "      <td>3.700</td>\n",
       "      <td>ok</td>\n",
       "      <td>1586440800</td>\n",
       "      <td>620809</td>\n",
       "    </tr>\n",
       "    <tr>\n",
       "      <th>2020-04-09 15:00:00</th>\n",
       "      <td>2</td>\n",
       "      <td>4.06</td>\n",
       "      <td>4.08</td>\n",
       "      <td>3.800</td>\n",
       "      <td>3.865</td>\n",
       "      <td>ok</td>\n",
       "      <td>1586444400</td>\n",
       "      <td>1023287</td>\n",
       "    </tr>\n",
       "    <tr>\n",
       "      <th>2020-04-09 16:00:00</th>\n",
       "      <td>3</td>\n",
       "      <td>4.12</td>\n",
       "      <td>4.19</td>\n",
       "      <td>3.890</td>\n",
       "      <td>4.060</td>\n",
       "      <td>ok</td>\n",
       "      <td>1586448000</td>\n",
       "      <td>602239</td>\n",
       "    </tr>\n",
       "    <tr>\n",
       "      <th>2020-04-09 17:00:00</th>\n",
       "      <td>4</td>\n",
       "      <td>4.03</td>\n",
       "      <td>4.25</td>\n",
       "      <td>3.870</td>\n",
       "      <td>4.130</td>\n",
       "      <td>ok</td>\n",
       "      <td>1586451600</td>\n",
       "      <td>1006734</td>\n",
       "    </tr>\n",
       "    <tr>\n",
       "      <th>...</th>\n",
       "      <td>...</td>\n",
       "      <td>...</td>\n",
       "      <td>...</td>\n",
       "      <td>...</td>\n",
       "      <td>...</td>\n",
       "      <td>...</td>\n",
       "      <td>...</td>\n",
       "      <td>...</td>\n",
       "    </tr>\n",
       "    <tr>\n",
       "      <th>2021-02-23 20:00:00</th>\n",
       "      <td>38</td>\n",
       "      <td>44.92</td>\n",
       "      <td>45.40</td>\n",
       "      <td>44.000</td>\n",
       "      <td>44.910</td>\n",
       "      <td>ok</td>\n",
       "      <td>1614110400</td>\n",
       "      <td>835553</td>\n",
       "    </tr>\n",
       "    <tr>\n",
       "      <th>2021-02-23 21:00:00</th>\n",
       "      <td>39</td>\n",
       "      <td>43.21</td>\n",
       "      <td>45.13</td>\n",
       "      <td>42.900</td>\n",
       "      <td>44.970</td>\n",
       "      <td>ok</td>\n",
       "      <td>1614114000</td>\n",
       "      <td>379831</td>\n",
       "    </tr>\n",
       "    <tr>\n",
       "      <th>2021-02-23 22:00:00</th>\n",
       "      <td>40</td>\n",
       "      <td>43.00</td>\n",
       "      <td>43.55</td>\n",
       "      <td>42.660</td>\n",
       "      <td>43.240</td>\n",
       "      <td>ok</td>\n",
       "      <td>1614117600</td>\n",
       "      <td>125100</td>\n",
       "    </tr>\n",
       "    <tr>\n",
       "      <th>2021-02-23 23:00:00</th>\n",
       "      <td>41</td>\n",
       "      <td>43.85</td>\n",
       "      <td>44.35</td>\n",
       "      <td>43.000</td>\n",
       "      <td>43.000</td>\n",
       "      <td>ok</td>\n",
       "      <td>1614121200</td>\n",
       "      <td>17172</td>\n",
       "    </tr>\n",
       "    <tr>\n",
       "      <th>2021-02-24 00:00:00</th>\n",
       "      <td>42</td>\n",
       "      <td>43.72</td>\n",
       "      <td>44.00</td>\n",
       "      <td>43.010</td>\n",
       "      <td>43.870</td>\n",
       "      <td>ok</td>\n",
       "      <td>1614124800</td>\n",
       "      <td>28059</td>\n",
       "    </tr>\n",
       "  </tbody>\n",
       "</table>\n",
       "<p>7692 rows × 8 columns</p>\n",
       "</div>"
      ],
      "text/plain": [
       "                     Unnamed: 0  close_price  high-price  low-price  \\\n",
       "datetime                                                              \n",
       "2020-04-09 13:00:00           0         3.70        3.72      3.450   \n",
       "2020-04-09 14:00:00           1         3.86        3.90      3.685   \n",
       "2020-04-09 15:00:00           2         4.06        4.08      3.800   \n",
       "2020-04-09 16:00:00           3         4.12        4.19      3.890   \n",
       "2020-04-09 17:00:00           4         4.03        4.25      3.870   \n",
       "...                         ...          ...         ...        ...   \n",
       "2021-02-23 20:00:00          38        44.92       45.40     44.000   \n",
       "2021-02-23 21:00:00          39        43.21       45.13     42.900   \n",
       "2021-02-23 22:00:00          40        43.00       43.55     42.660   \n",
       "2021-02-23 23:00:00          41        43.85       44.35     43.000   \n",
       "2021-02-24 00:00:00          42        43.72       44.00     43.010   \n",
       "\n",
       "                     open_price status   timestamp   volume  \n",
       "datetime                                                     \n",
       "2020-04-09 13:00:00       3.450     ok  1586437200   319130  \n",
       "2020-04-09 14:00:00       3.700     ok  1586440800   620809  \n",
       "2020-04-09 15:00:00       3.865     ok  1586444400  1023287  \n",
       "2020-04-09 16:00:00       4.060     ok  1586448000   602239  \n",
       "2020-04-09 17:00:00       4.130     ok  1586451600  1006734  \n",
       "...                         ...    ...         ...      ...  \n",
       "2021-02-23 20:00:00      44.910     ok  1614110400   835553  \n",
       "2021-02-23 21:00:00      44.970     ok  1614114000   379831  \n",
       "2021-02-23 22:00:00      43.240     ok  1614117600   125100  \n",
       "2021-02-23 23:00:00      43.000     ok  1614121200    17172  \n",
       "2021-02-24 00:00:00      43.870     ok  1614124800    28059  \n",
       "\n",
       "[7692 rows x 8 columns]"
      ]
     },
     "execution_count": 2,
     "metadata": {},
     "output_type": "execute_result"
    }
   ],
   "source": [
    "# load raw financial data\n",
    "# hourly resolution\n",
    "gamestop_data = pd.read_csv('../foobar/data/raw/stock_candle_60_2020-03-01_2021-03-01.csv')\n",
    "\n",
    "gamestop_data = gamestop_data.sort_values(by=['timestamp'], axis=0)\n",
    "gamestop_data['datetime'] = pd.to_datetime(gamestop_data['timestamp'], unit='s')\n",
    "gamestop_data = gamestop_data.set_index('datetime')\n",
    "\n",
    "# resmaple the data hourly and pad the gaps with the previous record\n",
    "gamestop_data = gamestop_data.resample('H', label='right').pad()\n",
    "print(gamestop_data.shape)\n",
    "\n",
    "train_data = gamestop_data[gamestop_data.index.year == 2020]\n",
    "short_squeeze_data = gamestop_data[gamestop_data.index.year == 2021]\n",
    "print(train_data.shape)\n",
    "print(short_squeeze_data.shape)\n",
    "gamestop_data"
   ]
  },
  {
   "cell_type": "markdown",
   "metadata": {},
   "source": [
    "## Data Preprocessing"
   ]
  },
  {
   "cell_type": "code",
   "execution_count": 3,
   "metadata": {},
   "outputs": [
    {
     "name": "stdout",
     "output_type": "stream",
     "text": [
      "open_price     float64\n",
      "high-price     float64\n",
      "low-price      float64\n",
      "volume           int64\n",
      "close_price    float64\n",
      "dtype: object\n"
     ]
    },
    {
     "data": {
      "text/plain": [
       "['open_price', 'high-price', 'low-price', 'volume', 'close_price']"
      ]
     },
     "execution_count": 3,
     "metadata": {},
     "output_type": "execute_result"
    }
   ],
   "source": [
    "# create train and test dataset\n",
    "# sorted based on timestamp \n",
    "\n",
    "# extract timestamps for visualization\n",
    "train_datetime_list = list(train_data.index)\n",
    "target_datetime_list = list(short_squeeze_data.index)\n",
    "gamestop_datetime_list = list(gamestop_data.index)\n",
    "\n",
    "# reordering the columns: put the prediction column to the last column\n",
    "cols = ['open_price', 'high-price', 'low-price', 'volume','close_price']\n",
    "df_train = train_data[cols]\n",
    "df_target = short_squeeze_data[cols]\n",
    "df_gamestop = gamestop_data[cols]\n",
    "\n",
    "# check the df column types to ensure they have correct types\n",
    "print(df_train.dtypes)\n",
    "cols"
   ]
  },
  {
   "cell_type": "code",
   "execution_count": 4,
   "metadata": {},
   "outputs": [
    {
     "data": {
      "text/plain": [
       "<AxesSubplot:xlabel='datetime'>"
      ]
     },
     "execution_count": 4,
     "metadata": {},
     "output_type": "execute_result"
    },
    {
     "data": {
      "image/png": "[encoded data removed]",
      "text/plain": [
       "<Figure size 432x288 with 1 Axes>"
      ]
     },
     "metadata": {
      "needs_background": "light"
     },
     "output_type": "display_data"
    }
   ],
   "source": [
    "df_train['close_price'].plot()\n",
    "df_target['close_price'].plot()"
   ]
  },
  {
   "cell_type": "code",
   "execution_count": 5,
   "metadata": {},
   "outputs": [
    {
     "data": {
      "text/plain": [
       "open_price     0\n",
       "high-price     0\n",
       "low-price      0\n",
       "volume         0\n",
       "close_price    0\n",
       "dtype: int64"
      ]
     },
     "execution_count": 5,
     "metadata": {},
     "output_type": "execute_result"
    }
   ],
   "source": [
    "# finding missing values\n",
    "df_train.isnull().sum()"
   ]
  },
  {
   "cell_type": "code",
   "execution_count": 6,
   "metadata": {},
   "outputs": [
    {
     "data": {
      "text/plain": [
       "open_price     0\n",
       "high-price     0\n",
       "low-price      0\n",
       "volume         0\n",
       "close_price    0\n",
       "dtype: int64"
      ]
     },
     "execution_count": 6,
     "metadata": {},
     "output_type": "execute_result"
    }
   ],
   "source": [
    "df_target.isnull().sum()"
   ]
  },
  {
   "cell_type": "code",
   "execution_count": 7,
   "metadata": {},
   "outputs": [
    {
     "data": {
      "image/png": "[encoded data removed]",
      "text/plain": [
       "<Figure size 864x432 with 1 Axes>"
      ]
     },
     "metadata": {
      "needs_background": "light"
     },
     "output_type": "display_data"
    }
   ],
   "source": [
    "# Visualize the ditribution of the features in the train dataset\n",
    "df_std = (df_train - df_train.mean()) / df_train.std()\n",
    "df_std = df_std.melt(var_name='Column', value_name='Normalized')\n",
    "\n",
    "plt.figure(figsize=(12, 6))\n",
    "ax = sns.violinplot(x='Column', y='Normalized', data=df_std)\n"
   ]
  },
  {
   "cell_type": "code",
   "execution_count": 8,
   "metadata": {},
   "outputs": [
    {
     "data": {
      "image/png": "[encoded data removed]",
      "text/plain": [
       "<Figure size 864x432 with 1 Axes>"
      ]
     },
     "metadata": {
      "needs_background": "light"
     },
     "output_type": "display_data"
    }
   ],
   "source": [
    "df_std = (df_target - df_target.mean()) / df_target.std()\n",
    "df_std = df_std.melt(var_name='Column', value_name='Normalized')\n",
    "\n",
    "plt.figure(figsize=(12, 6))\n",
    "ax = sns.violinplot(x='Column', y='Normalized', data=df_std)\n"
   ]
  },
  {
   "cell_type": "code",
   "execution_count": 10,
   "metadata": {},
   "outputs": [],
   "source": [
    "def scale(df, feature_set, scaler=None):\n",
    "    if scaler is None:\n",
    "        scaler = StandardScaler()\n",
    "        scaled_arr = scaler.fit_transform(df[feature_set])\n",
    "    else:\n",
    "        scaled_arr = scaler.fit_transform(df[feature_set])\n",
    "    return scaled_arr, scaler\n",
    "\n",
    "def split(train_arr, train_ratio):\n",
    "    # split the data to train, validate\n",
    "    n = len(train_arr)\n",
    "    train_set = train_arr[:int(n*train_ratio)]\n",
    "    val_set = train_arr[int(n*train_ratio):]\n",
    "    return train_set, val_set"
   ]
  },
  {
   "cell_type": "markdown",
   "metadata": {},
   "source": [
    "### Data Windowing for time series forecasting\n",
    "\n",
    "> Refer to [Data Windowing](https://www.tensorflow.org/tutorials/structured_data/time_series#data_windowing) for more details\n"
   ]
  },
  {
   "cell_type": "code",
   "execution_count": 11,
   "metadata": {},
   "outputs": [],
   "source": [
    "# Generate time windows for time series forecasting with LSTM network\n",
    "def generate_window(dataset, train_window, pred_horizon):\n",
    "    dataset_seq = []\n",
    "    size = len(dataset)\n",
    "    x_arr = []\n",
    "    y_arr = []\n",
    "    for i in range(size - train_window - pred_horizon):\n",
    "        x = dataset[i:(i+train_window), :-1]\n",
    "        y = dataset[i+train_window+pred_horizon-1:i+train_window+pred_horizon, -1]\n",
    "        x_arr.append(x)\n",
    "        y_arr.append(y)\n",
    "\n",
    "    x_tensor = torch.tensor(x_arr).float()\n",
    "    y_tensor = torch.tensor(y_arr).float()\n",
    "    num_features = x_tensor.shape[2]\n",
    "    dataset_seq = (x_tensor, y_tensor)\n",
    "    return dataset_seq, num_features\n",
    "\n",
    "def create_batch_set(dataset_seq, batch_size = 100):\n",
    "    x_tensor, y_tensor = dataset_seq\n",
    "    tensor_dataset = TensorDataset(x_tensor,y_tensor)\n",
    "    tensor_dataloader = DataLoader(tensor_dataset, batch_size, False)\n",
    "    return tensor_dataloader"
   ]
  },
  {
   "cell_type": "code",
   "execution_count": 54,
   "metadata": {},
   "outputs": [
    {
     "name": "stdout",
     "output_type": "stream",
     "text": [
      "5\n",
      "2\n"
     ]
    }
   ],
   "source": [
    "# various feature sets for model selection\n",
    "feature_set1 = ['open_price', 'high-price', 'low-price', 'volume', 'close_price']\n",
    "feature_set2 = ['open_price', 'high-price', 'low-price', 'close_price']\n",
    "feature_set3 = ['open_price', 'volume', 'close_price']\n",
    "feature_set4 = ['volume', 'close_price']\n",
    "feature_sets = [feature_set1, feature_set1, feature_set3, feature_set4]\n",
    "\n",
    "# let's create sequential training dataset with various traning windows and prediction horizons\n",
    "# given that the times series data has 1-hour resolution\n",
    "# 24hours * (days)\n",
    "\n",
    "train_window_list = np.array([3, 5, 10, 24, 24*2, 24*5, 24*7])\n",
    "prediction_horizon_list = np.array([1, 2, 3, 5, 24*1, 24*2, 24*3])\n",
    "\n",
    "# choose these set for testing \n",
    "feature_set = feature_sets[0]\n",
    "train_window = train_window_list[1]\n",
    "prediction_horizon = prediction_horizon_list[1]\n",
    "print(train_window)\n",
    "print(prediction_horizon)\n",
    "\n",
    "train_set, train_scaler = scale(df_train, feature_set)\n",
    "target_set, _ = scale(df_target, feature_set, train_scaler)\n",
    "train_set , val_set = split(train_set, 0.8)\n",
    "\n",
    "gamestop_set, _ = scale(df_gamestop, feature_set, train_scaler)\n",
    "\n",
    "train_seq, num_features = generate_window(train_set, train_window, prediction_horizon)\n",
    "val_seq, _ = generate_window(val_set, train_window, prediction_horizon)\n",
    "\n",
    "x_train, _ =train_seq\n",
    "x_val, _ = val_seq\n",
    "train_batch_size = int(len(x_train)*0.5)\n",
    "val_batch_size = int(len(x_val)*1)\n",
    "\n",
    "train_batches = create_batch_set(train_seq, batch_size=train_batch_size)\n",
    "val_batches = create_batch_set(val_seq, batch_size=val_batch_size)\n",
    "\n",
    "target_seq, _ = generate_window(target_set, train_window, prediction_horizon)\n",
    "gamestop_seq, _ = generate_window(gamestop_set, train_window, prediction_horizon)\n",
    "\n",
    "datetime_target = target_datetime_list[train_window+prediction_horizon:]\n",
    "datetime_gamestop = gamestop_datetime_list[train_window+prediction_horizon:]\n"
   ]
  },
  {
   "cell_type": "markdown",
   "metadata": {},
   "source": [
    "## Creating LSTM Network"
   ]
  },
  {
   "cell_type": "code",
   "execution_count": 55,
   "metadata": {},
   "outputs": [],
   "source": [
    "class LSTM(nn.Module):\n",
    "    def __init__(self, input_size, seq_length, hidden_size=100, num_layers = 2, output_size=1):\n",
    "        super(LSTM, self).__init__()\n",
    "\n",
    "        self.input_size = input_size\n",
    "        self.num_layers = num_layers\n",
    "        self.hidden_size = hidden_size\n",
    "        self.output_size = output_size\n",
    "        self.seq_len = seq_length\n",
    "        \n",
    "        self.hidden_state = None\n",
    "        self.cell_state = None\n",
    "        self.hidden = (self.hidden_state, self.cell_state)\n",
    "\n",
    "        self.lstm = nn.LSTM(\n",
    "            input_size=self.input_size,\n",
    "            hidden_size=self.hidden_size,\n",
    "            num_layers=self.num_layers,\n",
    "            dropout=0.2,\n",
    "            batch_first=True\n",
    "        )\n",
    "\n",
    "        self.linear = nn.Linear(self.hidden_size * self.seq_len, self.output_size)\n",
    "\n",
    "    def init_hidden(self, batch_size, device):\n",
    "        self.hidden_state = torch.zeros(self.num_layers, batch_size ,self.hidden_size).to(device)\n",
    "        self.cell_state = torch.zeros(self.num_layers, batch_size ,self.hidden_size).to(device)\n",
    "        self.hidden = (self.hidden_state, self.cell_state)\n",
    "\n",
    "    def forward(self, x):\n",
    "        lstm_out, self.hidden = self.lstm(\n",
    "                x,\n",
    "                self.hidden\n",
    "            )\n",
    "        outputs = self.linear(lstm_out.reshape(x.size(0),-1))\n",
    "        return outputs\n"
   ]
  },
  {
   "cell_type": "markdown",
   "metadata": {},
   "source": [
    "## Traning LSTM model"
   ]
  },
  {
   "cell_type": "code",
   "execution_count": 56,
   "metadata": {},
   "outputs": [],
   "source": [
    "def train_model(model, device, train_batches, val_batches=None, num_epochs=50):\n",
    "\n",
    "    learning_rate = 1e-3\n",
    "    train_losses = []\n",
    "    val_losses = []\n",
    "    best_loss = np.Inf\n",
    "    val_loss = None\n",
    "    \n",
    "\n",
    "    criterion = torch.nn.MSELoss().to(device)\n",
    "    optimizer = torch.optim.Adam(model.parameters(), lr=learning_rate)\n",
    "    \n",
    "    for epoch in range(num_epochs):\n",
    "        batch_losses = []\n",
    "        for batch_ndx, train_batch in enumerate(train_batches):\n",
    "            model.train()\n",
    "            x_train, y_train = train_batch\n",
    "            batch_size = x_train.size(0)\n",
    "            x_train = x_train.to(device)\n",
    "            y_train = y_train.to(device)\n",
    "            model.init_hidden(batch_size, device)\n",
    "            outputs = model(x_train)\n",
    "            loss = criterion(outputs, y_train)\n",
    "            loss.backward()\n",
    "            optimizer.step()\n",
    "            optimizer.zero_grad()\n",
    "\n",
    "            batch_loss = loss.item()\n",
    "            batch_losses.append(batch_loss)\n",
    "            \n",
    "        if val_batches is not None:\n",
    "            model.eval()\n",
    "            with torch.no_grad():\n",
    "                val_batch_losses = []\n",
    "                for _, val_batch in enumerate(val_batches):\n",
    "                    x_val, y_val = val_batch\n",
    "                    batch_size = x_val.size(0)\n",
    "                    x_val = x_val.to(device)\n",
    "                    y_val = y_val.to(device)\n",
    "                    model.init_hidden(batch_size, device)\n",
    "                    pred = model(x_val)\n",
    "                    loss = criterion(pred, y_val)\n",
    "                    val_loss = loss.item()\n",
    "                    val_batch_losses.append(val_loss)\n",
    "                    if val_loss < best_loss:\n",
    "                        best_loss = val_loss\n",
    "        \n",
    "        val_losses_mean = np.mean(val_batch_losses)\n",
    "        batch_losses_mean = np.mean(batch_losses)\n",
    "        print(f\"Epoch {epoch}: train loss {batch_losses_mean}, val loss {val_losses_mean}\")\n",
    "        val_losses.append(val_losses_mean)\n",
    "        train_losses.append(batch_losses_mean)\n",
    "        \n",
    "        \n",
    "    return model.eval(), train_losses, val_losses"
   ]
  },
  {
   "cell_type": "code",
   "execution_count": 57,
   "metadata": {},
   "outputs": [
    {
     "name": "stdout",
     "output_type": "stream",
     "text": [
      "cuda\n",
      "Epoch 0: train loss 0.6367330551147461, val loss 2.7042431831359863\n",
      "Epoch 1: train loss 0.5926182866096497, val loss 2.598207712173462\n",
      "Epoch 2: train loss 0.5606578985850016, val loss 2.4622278213500977\n",
      "Epoch 3: train loss 0.5239428778489431, val loss 2.2753374576568604\n",
      "Epoch 4: train loss 0.4707288642724355, val loss 2.008904218673706\n",
      "Epoch 5: train loss 0.395747313896815, val loss 1.6323872804641724\n",
      "Epoch 6: train loss 0.29809874296188354, val loss 1.1332885026931763\n",
      "Epoch 7: train loss 0.15465488533178964, val loss 0.5704843401908875\n",
      "Epoch 8: train loss 0.02898709833001097, val loss 0.15160270035266876\n",
      "Epoch 9: train loss 0.029960445283601683, val loss 0.07793018221855164\n",
      "Epoch 10: train loss 0.08052547772725423, val loss 0.07810512185096741\n",
      "Epoch 11: train loss 0.030897873143355053, val loss 0.12582755088806152\n",
      "Epoch 12: train loss 0.00370612876516437, val loss 0.24537380039691925\n",
      "Epoch 13: train loss 0.013414079633851847, val loss 0.33552438020706177\n",
      "Epoch 14: train loss 0.022444937999049824, val loss 0.34205013513565063\n",
      "Epoch 15: train loss 0.01997719518840313, val loss 0.28222793340682983\n",
      "Epoch 16: train loss 0.00808860066657265, val loss 0.20144830644130707\n",
      "Epoch 17: train loss 0.0035725770479378602, val loss 0.14442527294158936\n",
      "Epoch 18: train loss 0.009270360538115105, val loss 0.12577953934669495\n",
      "Epoch 19: train loss 0.010170646787931522, val loss 0.1408112347126007\n",
      "Epoch 20: train loss 0.005507419196267922, val loss 0.18155933916568756\n",
      "Epoch 21: train loss 0.004117798913891117, val loss 0.2213587462902069\n",
      "Epoch 22: train loss 0.00487557160280024, val loss 0.22893494367599487\n",
      "Epoch 23: train loss 0.006137284372622768, val loss 0.20780320465564728\n",
      "Epoch 24: train loss 0.003724585815386187, val loss 0.17209318280220032\n",
      "Epoch 25: train loss 0.003832598178026577, val loss 0.14888343214988708\n",
      "Epoch 26: train loss 0.00427256691424797, val loss 0.1465705782175064\n",
      "Epoch 27: train loss 0.0032612362022822103, val loss 0.1570703536272049\n",
      "Epoch 28: train loss 0.0033835513362040124, val loss 0.17049197852611542\n",
      "Epoch 29: train loss 0.003183166552844341, val loss 0.18181559443473816\n",
      "Epoch 30: train loss 0.00336146366801889, val loss 0.1814364492893219\n",
      "Epoch 31: train loss 0.003560647814689825, val loss 0.16858121752738953\n",
      "Epoch 32: train loss 0.003079453813067327, val loss 0.14640100300312042\n",
      "Epoch 33: train loss 0.003042132108627508, val loss 0.1286170929670334\n",
      "Epoch 34: train loss 0.0036996022099629045, val loss 0.12569937109947205\n",
      "Epoch 35: train loss 0.0034289104708780846, val loss 0.137379989027977\n",
      "Epoch 36: train loss 0.00298442505300045, val loss 0.15515725314617157\n",
      "Epoch 37: train loss 0.004089595012677212, val loss 0.16030988097190857\n",
      "Epoch 38: train loss 0.0032526661719505987, val loss 0.14794251322746277\n",
      "Epoch 39: train loss 0.002910732864544722, val loss 0.13748827576637268\n",
      "Epoch 40: train loss 0.002809622928907629, val loss 0.12759388983249664\n",
      "Epoch 41: train loss 0.0027460442305861457, val loss 0.12030116468667984\n",
      "Epoch 42: train loss 0.0029544587596319616, val loss 0.11702243238687515\n",
      "Epoch 43: train loss 0.003292638963709275, val loss 0.1241990327835083\n",
      "Epoch 44: train loss 0.0028115338645875454, val loss 0.13701961934566498\n",
      "Epoch 45: train loss 0.0029364879956119694, val loss 0.14448174834251404\n",
      "Epoch 46: train loss 0.002985007543126509, val loss 0.14265063405036926\n",
      "Epoch 47: train loss 0.0032396430615335703, val loss 0.1284049153327942\n",
      "Epoch 48: train loss 0.002704541777347913, val loss 0.10933475941419601\n",
      "Epoch 49: train loss 0.0035119790118187666, val loss 0.10332344472408295\n"
     ]
    }
   ],
   "source": [
    "# RANDOM_SEED = 42\n",
    "# np.random.seed(RANDOM_SEED)\n",
    "# torch.manual_seed(RANDOM_SEED)\n",
    "# torch.cuda.empty_cache()\n",
    "device = torch.device(\"cuda\" if torch.cuda.is_available() else \"cpu\")\n",
    "print(device)\n",
    "\n",
    "model = LSTM(input_size=num_features, seq_length=train_window)\n",
    "model.to(device)\n",
    "\n",
    "model, train_losses, val_losses = train_model(model, device, train_batches, val_batches, num_epochs=50)"
   ]
  },
  {
   "cell_type": "code",
   "execution_count": 58,
   "metadata": {},
   "outputs": [
    {
     "data": {
      "text/plain": [
       "<matplotlib.legend.Legend at 0x7ff914eb5eb8>"
      ]
     },
     "execution_count": 58,
     "metadata": {},
     "output_type": "execute_result"
    },
    {
     "data": {
      "image/png": "[encoded data removed]",
      "text/plain": [
       "<Figure size 432x288 with 1 Axes>"
      ]
     },
     "metadata": {
      "needs_background": "light"
     },
     "output_type": "display_data"
    }
   ],
   "source": [
    "plt.plot(train_losses, label=\"Training loss\")\n",
    "plt.plot(val_losses, label=\"Test loss\")\n",
    "plt.legend()"
   ]
  },
  {
   "cell_type": "markdown",
   "metadata": {},
   "source": [
    "## Predictions"
   ]
  },
  {
   "cell_type": "code",
   "execution_count": 59,
   "metadata": {
    "scrolled": true
   },
   "outputs": [
    {
     "name": "stdout",
     "output_type": "stream",
     "text": [
      "cpu\n"
     ]
    }
   ],
   "source": [
    "observed, predicted, losses = [], [], []\n",
    "# device = torch.device(\"cuda\" if torch.cuda.is_available() else \"cpu\")\n",
    "device = torch.device(\"cpu\")\n",
    "criterion = nn.L1Loss(reduction='sum').to(device)\n",
    "model.to(device)\n",
    "print(device)\n",
    "\n",
    "X_test, y_test = target_seq\n",
    "test_set_size = X_test.size(0)\n",
    "\n",
    "# model.init_hidden(X_test.size(0), device)\n",
    "# y_pred = model(X_test)\n",
    "\n",
    "with torch.no_grad():\n",
    "    model.eval()\n",
    "    for i in range(test_set_size):\n",
    "        x_i = X_test[i:i+1]\n",
    "        y_i = y_test[i:i+1]\n",
    "        x_i.to(device)\n",
    "        y_i.to(device)\n",
    "        model.init_hidden(x_i.size(0), device)\n",
    "        y_pred = model(x_i)\n",
    "        loss = criterion(y_pred, y_i)\n",
    "        predicted.append(y_pred.item())\n",
    "        losses.append(loss.item())\n",
    "        \n",
    "observed = y_test.cpu().numpy().flatten()\n",
    "# predictions = y_pred.cpu().numpy().flatten()\n",
    "predictions = np.array(predicted).flatten()"
   ]
  },
  {
   "cell_type": "code",
   "execution_count": 60,
   "metadata": {},
   "outputs": [
    {
     "data": {
      "text/plain": [
       "<matplotlib.legend.Legend at 0x7ff914de23c8>"
      ]
     },
     "execution_count": 60,
     "metadata": {},
     "output_type": "execute_result"
    },
    {
     "data": {
      "image/png": "[encoded data removed]",
      "text/plain": [
       "<Figure size 432x288 with 1 Axes>"
      ]
     },
     "metadata": {
      "needs_background": "light"
     },
     "output_type": "display_data"
    }
   ],
   "source": [
    "\n",
    "plt.plot(datetime_target,predictions, label=\"Predicted\")\n",
    "plt.plot(datetime_target, observed, label=\"Observed\")\n",
    "plt.xticks(rotation=45)\n",
    "plt.legend()"
   ]
  },
  {
   "cell_type": "code",
   "execution_count": 28,
   "metadata": {},
   "outputs": [
    {
     "data": {
      "text/plain": [
       "0.25710924428913007"
      ]
     },
     "execution_count": 28,
     "metadata": {},
     "output_type": "execute_result"
    },
    {
     "data": {
      "image/png": "[encoded data removed]",
      "text/plain": [
       "<Figure size 432x288 with 1 Axes>"
      ]
     },
     "metadata": {
      "needs_background": "light"
     },
     "output_type": "display_data"
    }
   ],
   "source": [
    "plt.plot(datetime_target ,losses, label=\"Prediction Loss\")\n",
    "plt.xticks(rotation=45)\n",
    "plt.legend()\n",
    "np.mean(losses)"
   ]
  },
  {
   "cell_type": "code",
   "execution_count": 71,
   "metadata": {},
   "outputs": [],
   "source": [
    "# saving prediciton result as csv file for the entire dataset\n",
    "truth, predictions, losses = [], [], []\n",
    "device = torch.device(\"cpu\")\n",
    "criterion = nn.L1Loss(reduction='sum').to(device)\n",
    "model.to(device)\n",
    "\n",
    "X_test, y_test = gamestop_seq\n",
    "test_set_size = X_test.size(0)\n",
    "\n",
    "res = df_gamestop.copy()\n",
    "res['predictions'] = np.nan\n",
    "res['loss'] = np.nan\n",
    "\n",
    "with torch.no_grad():\n",
    "    model.eval()\n",
    "    for i in range(test_set_size):\n",
    "        x_i = X_test[i:i+1]\n",
    "        y_i = y_test[i:i+1]\n",
    "        x_i.to(device)\n",
    "        y_i.to(device)\n",
    "        model.init_hidden(x_i.size(0), device)\n",
    "        y_pred = model(x_i)\n",
    "        loss = criterion(y_pred, y_i)\n",
    "        res.at[datetime_gamestop[i], 'predictions'] = y_pred.cpu().numpy().flatten()\n",
    "        res.at[datetime_gamestop[i], 'loss'] = loss.item()\n",
    "        predictions.append(y_pred.cpu().numpy().flatten())\n",
    "        losses.append(loss.item())\n",
    "        \n",
    "        \n",
    "truth = y_test.cpu().numpy().flatten()\n",
    "predictions = np.array(predictions).flatten()"
   ]
  },
  {
   "cell_type": "code",
   "execution_count": null,
   "metadata": {},
   "outputs": [],
   "source": [
    "out_csv = res.drop('loss', axis=1)\n",
    "out_csv.to_csv('../foobar/data/processed/gme_predictions_m1.csv')\n",
    "res"
   ]
  },
  {
   "cell_type": "code",
   "execution_count": null,
   "metadata": {},
   "outputs": [],
   "source": [
    "plt.plot(datetime_gamestop,predictions, label=\"Predictions\")\n",
    "plt.plot(datetime_gamestop, truth, label=\"Truth\")\n",
    "plt.xticks(rotation=45)\n",
    "plt.legend()"
   ]
  },
  {
   "cell_type": "code",
   "execution_count": null,
   "metadata": {},
   "outputs": [],
   "source": [
    "print('Saving...')\n",
    "state = {\n",
    "    'model': model.state_dict(),\n",
    "    'scaler': train_scaler,\n",
    "    'feature_set': feature_set,\n",
    "    'history': history,\n",
    "    'pred_horizon': prediction_horizon,\n",
    "    'train_window': train_window\n",
    "}\n",
    "\n",
    "if not os.path.isdir('checkpoint'):\n",
    "    os.mkdir('checkpoint')\n",
    "torch.save(state, f'./checkpoint/m1.pth')"
   ]
  },
  {
   "cell_type": "code",
   "execution_count": null,
   "metadata": {},
   "outputs": [],
   "source": [
    "import os\n",
    "\n",
    "RANDOM_SEED = 42\n",
    "np.random.seed(RANDOM_SEED)\n",
    "torch.manual_seed(RANDOM_SEED)\n",
    "device = torch.device(\"cuda\" if torch.cuda.is_available() else \"cpu\")\n",
    "\n",
    "model_index = 0\n",
    "for train_window in train_window_list:\n",
    "    for prediction_horizon in prediction_horizon_list:\n",
    "#         for feature_set in feature_sets:\n",
    "        if prediction_horizon > train_window:\n",
    "            break\n",
    "            \n",
    "#         train_set, train_scaler = scale(df_train, feature_set)\n",
    "#         target_set, _ = scale(df_target, feature_set, train_scaler)\n",
    "#         train_set , val_set = split(train_set, 0.8)\n",
    "        \n",
    "        \n",
    "#         train_seq, num_features = generate_window(train_set, train_window, prediction_horizon)\n",
    "#         val_seq, _ = generate_window(val_set, train_window, prediction_horizon)\n",
    "\n",
    "#         train_batches = create_batch_set(train_seq)\n",
    "#         val_batches = create_batch_set(val_seq)\n",
    "\n",
    "#         target_seq, _ = generate_window(target_set, train_window, prediction_horizon)\n",
    "#         gamestop_seq, _ = generate_window(gamestop_set, train_window, prediction_horizon)\n",
    "\n",
    "#         datetime_target = target_datetime_list[train_window+prediction_horizon:]\n",
    "#         datetime_gamestop = gamestop_datetime_list[train_window+prediction_horizon:]\n",
    "\n",
    "        \n",
    "#         train_seq, num_features = generate_window(train_set, train_window, prediction_horizon)\n",
    "#         val_seq, _ = generate_window(val_set, train_window, prediction_horizon)\n",
    "#         target_seq, _ = generate_window(target_set, train_window, prediction_horizon)\n",
    "\n",
    "        datetime_target = target_datetime_list[train_window+prediction_horizon:]\n",
    "        \n",
    "        model = LSTM(input_size=num_features, seq_length=train_window)\n",
    "        model = model.to(device)\n",
    "\n",
    "        model, history, _ = train_model(model, device, train_seq, val_seq, num_epochs=100)\n",
    "        visualization(history)\n",
    "        model_index += 1\n",
    "\n",
    "        print('Saving...')\n",
    "        state = {\n",
    "            'model': model.state_dict(),\n",
    "            'scaler': train_scaler,\n",
    "            'feature_set': feature_set,\n",
    "            'history': history,\n",
    "            'pred_horizon': prediction_horizon,\n",
    "            'train_window': train_window\n",
    "        }\n",
    "\n",
    "        if not os.path.isdir('checkpoint'):\n",
    "            os.mkdir('checkpoint')\n",
    "        torch.save(state, f'./checkpoint/train_m{model_index}.pth')\n",
    "\n",
    "            \n",
    "        plt.plot(history['train'], label=\"Training loss\")\n",
    "        plt.plot(history['val'], label=\"Test loss\")\n",
    "        plt.legend()\n",
    "        \n",
    "        truth, predictions, losses = [], [], []\n",
    "\n",
    "        criterion = nn.L1Loss(reduction='sum').to(device)\n",
    "        model.to(device)\n",
    "\n",
    "        X_test, y_test = target_seq\n",
    "        test_set_size = X_test.size(0)\n",
    "\n",
    "        with torch.no_grad():\n",
    "            model.eval()\n",
    "            for i in range(test_set_size):\n",
    "                x_i = X_test[i:i+1]\n",
    "                y_i = y_test[i:i+1]\n",
    "                x_i.to(device)\n",
    "                y_i.to(device)\n",
    "                model.init_hidden(x_i.size(0), device)\n",
    "                y_pred = model(x_i)\n",
    "                predictions.append(y_pred.cpu().numpy().flatten())\n",
    "                loss = criterion(y_pred, y_i)\n",
    "                losses.append(loss.item())\n",
    "\n",
    "        truth = y_test.cpu().numpy().flatten()\n",
    "        predictions = np.array(predictions).flatten()\n",
    "        \n",
    "        plt.plot(datetime_target,predictions, label=\"Predictions\")\n",
    "        plt.plot(datetime_target, truth, label=\"Truth\")\n",
    "        plt.xticks(rotation=45)\n",
    "        plt.legend()"
   ]
  },
  {
   "cell_type": "code",
   "execution_count": null,
   "metadata": {},
   "outputs": [],
   "source": []
  }
 ],
 "metadata": {
  "kernelspec": {
   "display_name": "Python 3",
   "language": "python",
   "name": "python3"
  },
  "language_info": {
   "codemirror_mode": {
    "name": "ipython",
    "version": 3
   },
   "file_extension": ".py",
   "mimetype": "text/x-python",
   "name": "python",
   "nbconvert_exporter": "python",
   "pygments_lexer": "ipython3",
   "version": "3.7.3"
  }
 },
 "nbformat": 4,
 "nbformat_minor": 2
}
