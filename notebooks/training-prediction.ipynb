{
 "cells": [
  {
   "cell_type": "code",
   "execution_count": 1,
   "metadata": {},
   "outputs": [],
   "source": [
    "import numpy as np\n",
    "import pandas as pd\n",
    "import os\n",
    "from datetime import datetime\n",
    "import matplotlib.pyplot as plt\n",
    "import seaborn as sns\n",
    "\n",
    "import torch\n",
    "import torch.nn as nn\n",
    "from torch.utils.data import TensorDataset, DataLoader\n",
    "\n",
    "from sklearn.preprocessing import MinMaxScaler, StandardScaler"
   ]
  },
  {
   "cell_type": "code",
   "execution_count": 2,
   "metadata": {},
   "outputs": [
    {
     "data": {
      "text/html": [
       "<div>\n",
       "<style scoped>\n",
       "    .dataframe tbody tr th:only-of-type {\n",
       "        vertical-align: middle;\n",
       "    }\n",
       "\n",
       "    .dataframe tbody tr th {\n",
       "        vertical-align: top;\n",
       "    }\n",
       "\n",
       "    .dataframe thead th {\n",
       "        text-align: right;\n",
       "    }\n",
       "</style>\n",
       "<table border=\"1\" class=\"dataframe\">\n",
       "  <thead>\n",
       "    <tr style=\"text-align: right;\">\n",
       "      <th></th>\n",
       "      <th>hour</th>\n",
       "      <th>avg_all_post_pos</th>\n",
       "      <th>avg_all_post_neg</th>\n",
       "      <th>avg_all_post_neu</th>\n",
       "      <th>cnt_all_user</th>\n",
       "      <th>cnt_all_tag</th>\n",
       "      <th>cnt_all_post</th>\n",
       "      <th>cnt_all_comments</th>\n",
       "      <th>avg_gme_post_pos</th>\n",
       "      <th>avg_gme_post_neg</th>\n",
       "      <th>...</th>\n",
       "      <th>cnt_gme_tag</th>\n",
       "      <th>cnt_gme_post</th>\n",
       "      <th>cnt_gme_comments</th>\n",
       "      <th>id</th>\n",
       "      <th>volume</th>\n",
       "      <th>openprice</th>\n",
       "      <th>closeprice</th>\n",
       "      <th>highprice</th>\n",
       "      <th>lowprice</th>\n",
       "      <th>prediction</th>\n",
       "    </tr>\n",
       "    <tr>\n",
       "      <th>datetime</th>\n",
       "      <th></th>\n",
       "      <th></th>\n",
       "      <th></th>\n",
       "      <th></th>\n",
       "      <th></th>\n",
       "      <th></th>\n",
       "      <th></th>\n",
       "      <th></th>\n",
       "      <th></th>\n",
       "      <th></th>\n",
       "      <th></th>\n",
       "      <th></th>\n",
       "      <th></th>\n",
       "      <th></th>\n",
       "      <th></th>\n",
       "      <th></th>\n",
       "      <th></th>\n",
       "      <th></th>\n",
       "      <th></th>\n",
       "      <th></th>\n",
       "      <th></th>\n",
       "    </tr>\n",
       "  </thead>\n",
       "  <tbody>\n",
       "    <tr>\n",
       "      <th>2021-01-04 00:00:00</th>\n",
       "      <td>2021-01-04 00:00:00</td>\n",
       "      <td>0.079373</td>\n",
       "      <td>0.079935</td>\n",
       "      <td>0.833351</td>\n",
       "      <td>92.0</td>\n",
       "      <td>45.0</td>\n",
       "      <td>137.0</td>\n",
       "      <td>134.0</td>\n",
       "      <td>0.000001</td>\n",
       "      <td>0.000001</td>\n",
       "      <td>...</td>\n",
       "      <td>1.0</td>\n",
       "      <td>1.0</td>\n",
       "      <td>1.0</td>\n",
       "      <td>1604.0</td>\n",
       "      <td>1695.0</td>\n",
       "      <td>19.1</td>\n",
       "      <td>19.4</td>\n",
       "      <td>19.4</td>\n",
       "      <td>19.1</td>\n",
       "      <td>-1.0</td>\n",
       "    </tr>\n",
       "    <tr>\n",
       "      <th>2021-01-04 01:00:00</th>\n",
       "      <td>2021-01-04 01:00:00</td>\n",
       "      <td>0.090065</td>\n",
       "      <td>0.086522</td>\n",
       "      <td>0.819869</td>\n",
       "      <td>147.0</td>\n",
       "      <td>62.0</td>\n",
       "      <td>280.0</td>\n",
       "      <td>277.0</td>\n",
       "      <td>0.120668</td>\n",
       "      <td>0.102334</td>\n",
       "      <td>...</td>\n",
       "      <td>1.0</td>\n",
       "      <td>3.0</td>\n",
       "      <td>3.0</td>\n",
       "      <td>1604.0</td>\n",
       "      <td>1695.0</td>\n",
       "      <td>19.1</td>\n",
       "      <td>19.4</td>\n",
       "      <td>19.4</td>\n",
       "      <td>19.1</td>\n",
       "      <td>-1.0</td>\n",
       "    </tr>\n",
       "    <tr>\n",
       "      <th>2021-01-04 02:00:00</th>\n",
       "      <td>2021-01-04 02:00:00</td>\n",
       "      <td>0.103936</td>\n",
       "      <td>0.079856</td>\n",
       "      <td>0.813165</td>\n",
       "      <td>169.0</td>\n",
       "      <td>84.0</td>\n",
       "      <td>324.0</td>\n",
       "      <td>319.0</td>\n",
       "      <td>0.065751</td>\n",
       "      <td>0.007501</td>\n",
       "      <td>...</td>\n",
       "      <td>1.0</td>\n",
       "      <td>4.0</td>\n",
       "      <td>3.0</td>\n",
       "      <td>1604.0</td>\n",
       "      <td>1695.0</td>\n",
       "      <td>19.1</td>\n",
       "      <td>19.4</td>\n",
       "      <td>19.4</td>\n",
       "      <td>19.1</td>\n",
       "      <td>-1.0</td>\n",
       "    </tr>\n",
       "    <tr>\n",
       "      <th>2021-01-04 03:00:00</th>\n",
       "      <td>2021-01-04 03:00:00</td>\n",
       "      <td>0.086609</td>\n",
       "      <td>0.081172</td>\n",
       "      <td>0.813798</td>\n",
       "      <td>120.0</td>\n",
       "      <td>56.0</td>\n",
       "      <td>217.0</td>\n",
       "      <td>211.0</td>\n",
       "      <td>0.000000</td>\n",
       "      <td>0.000000</td>\n",
       "      <td>...</td>\n",
       "      <td>0.0</td>\n",
       "      <td>0.0</td>\n",
       "      <td>0.0</td>\n",
       "      <td>1604.0</td>\n",
       "      <td>1695.0</td>\n",
       "      <td>19.1</td>\n",
       "      <td>19.4</td>\n",
       "      <td>19.4</td>\n",
       "      <td>19.1</td>\n",
       "      <td>-1.0</td>\n",
       "    </tr>\n",
       "    <tr>\n",
       "      <th>2021-01-04 04:00:00</th>\n",
       "      <td>2021-01-04 04:00:00</td>\n",
       "      <td>0.117629</td>\n",
       "      <td>0.058659</td>\n",
       "      <td>0.811240</td>\n",
       "      <td>197.0</td>\n",
       "      <td>88.0</td>\n",
       "      <td>401.0</td>\n",
       "      <td>385.0</td>\n",
       "      <td>0.200501</td>\n",
       "      <td>0.000001</td>\n",
       "      <td>...</td>\n",
       "      <td>1.0</td>\n",
       "      <td>4.0</td>\n",
       "      <td>3.0</td>\n",
       "      <td>1604.0</td>\n",
       "      <td>1695.0</td>\n",
       "      <td>19.1</td>\n",
       "      <td>19.4</td>\n",
       "      <td>19.4</td>\n",
       "      <td>19.1</td>\n",
       "      <td>-1.0</td>\n",
       "    </tr>\n",
       "  </tbody>\n",
       "</table>\n",
       "<p>5 rows × 22 columns</p>\n",
       "</div>"
      ],
      "text/plain": [
       "                                    hour  avg_all_post_pos  avg_all_post_neg  \\\n",
       "datetime                                                                       \n",
       "2021-01-04 00:00:00  2021-01-04 00:00:00          0.079373          0.079935   \n",
       "2021-01-04 01:00:00  2021-01-04 01:00:00          0.090065          0.086522   \n",
       "2021-01-04 02:00:00  2021-01-04 02:00:00          0.103936          0.079856   \n",
       "2021-01-04 03:00:00  2021-01-04 03:00:00          0.086609          0.081172   \n",
       "2021-01-04 04:00:00  2021-01-04 04:00:00          0.117629          0.058659   \n",
       "\n",
       "                     avg_all_post_neu  cnt_all_user  cnt_all_tag  \\\n",
       "datetime                                                           \n",
       "2021-01-04 00:00:00          0.833351          92.0         45.0   \n",
       "2021-01-04 01:00:00          0.819869         147.0         62.0   \n",
       "2021-01-04 02:00:00          0.813165         169.0         84.0   \n",
       "2021-01-04 03:00:00          0.813798         120.0         56.0   \n",
       "2021-01-04 04:00:00          0.811240         197.0         88.0   \n",
       "\n",
       "                     cnt_all_post  cnt_all_comments  avg_gme_post_pos  \\\n",
       "datetime                                                                \n",
       "2021-01-04 00:00:00         137.0             134.0          0.000001   \n",
       "2021-01-04 01:00:00         280.0             277.0          0.120668   \n",
       "2021-01-04 02:00:00         324.0             319.0          0.065751   \n",
       "2021-01-04 03:00:00         217.0             211.0          0.000000   \n",
       "2021-01-04 04:00:00         401.0             385.0          0.200501   \n",
       "\n",
       "                     avg_gme_post_neg  ...  cnt_gme_tag  cnt_gme_post  \\\n",
       "datetime                               ...                              \n",
       "2021-01-04 00:00:00          0.000001  ...          1.0           1.0   \n",
       "2021-01-04 01:00:00          0.102334  ...          1.0           3.0   \n",
       "2021-01-04 02:00:00          0.007501  ...          1.0           4.0   \n",
       "2021-01-04 03:00:00          0.000000  ...          0.0           0.0   \n",
       "2021-01-04 04:00:00          0.000001  ...          1.0           4.0   \n",
       "\n",
       "                     cnt_gme_comments      id  volume  openprice  closeprice  \\\n",
       "datetime                                                                       \n",
       "2021-01-04 00:00:00               1.0  1604.0  1695.0       19.1        19.4   \n",
       "2021-01-04 01:00:00               3.0  1604.0  1695.0       19.1        19.4   \n",
       "2021-01-04 02:00:00               3.0  1604.0  1695.0       19.1        19.4   \n",
       "2021-01-04 03:00:00               0.0  1604.0  1695.0       19.1        19.4   \n",
       "2021-01-04 04:00:00               3.0  1604.0  1695.0       19.1        19.4   \n",
       "\n",
       "                     highprice  lowprice  prediction  \n",
       "datetime                                              \n",
       "2021-01-04 00:00:00       19.4      19.1        -1.0  \n",
       "2021-01-04 01:00:00       19.4      19.1        -1.0  \n",
       "2021-01-04 02:00:00       19.4      19.1        -1.0  \n",
       "2021-01-04 03:00:00       19.4      19.1        -1.0  \n",
       "2021-01-04 04:00:00       19.4      19.1        -1.0  \n",
       "\n",
       "[5 rows x 22 columns]"
      ]
     },
     "execution_count": 2,
     "metadata": {},
     "output_type": "execute_result"
    }
   ],
   "source": [
    "# loading wide table\n",
    "df_wide = pd.read_csv('../microservices/dash_app/wide.csv')\n",
    "df_wide['datetime'] = pd.to_datetime(df_wide['hour'], format='%Y-%m-%d %H:%M:%S')\n",
    "df_gamestop = df_wide.set_index('datetime')\n",
    "\n",
    "train_org_df = df_gamestop[df_gamestop.index.year == 2020]\n",
    "test_org_df = df_gamestop[df_gamestop.index.year == 2021]\n",
    "test_org_df.head()"
   ]
  },
  {
   "cell_type": "markdown",
   "metadata": {},
   "source": [
    "## Data Preprocessing"
   ]
  },
  {
   "cell_type": "code",
   "execution_count": 3,
   "metadata": {},
   "outputs": [
    {
     "data": {
      "text/plain": [
       "hour                0\n",
       "avg_all_post_pos    0\n",
       "avg_all_post_neg    0\n",
       "avg_all_post_neu    0\n",
       "cnt_all_user        0\n",
       "cnt_all_tag         0\n",
       "cnt_all_post        0\n",
       "cnt_all_comments    0\n",
       "avg_gme_post_pos    0\n",
       "avg_gme_post_neg    0\n",
       "avg_gme_post_neu    0\n",
       "cnt_gme_user        0\n",
       "cnt_gme_tag         0\n",
       "cnt_gme_post        0\n",
       "cnt_gme_comments    0\n",
       "id                  0\n",
       "volume              0\n",
       "openprice           0\n",
       "closeprice          0\n",
       "highprice           0\n",
       "lowprice            0\n",
       "prediction          0\n",
       "datetime            0\n",
       "dtype: int64"
      ]
     },
     "execution_count": 3,
     "metadata": {},
     "output_type": "execute_result"
    }
   ],
   "source": [
    "# finding missing values\n",
    "df_wide.isnull().sum()"
   ]
  },
  {
   "cell_type": "code",
   "execution_count": 4,
   "metadata": {},
   "outputs": [],
   "source": [
    "# datatime for visualization\n",
    "train_datetime_list = list(train_org_df.index)\n",
    "test_datetime_list = list(test_org_df.index)\n",
    "gamestop_datetime_list = list(df_gamestop.index)"
   ]
  },
  {
   "cell_type": "code",
   "execution_count": 74,
   "metadata": {},
   "outputs": [],
   "source": [
    "# choose a feature set for training and testing \n",
    "feature_set_finn = [\"openprice\", \"highprice\", \"lowprice\", \"volume\", \"closeprice\"]\n",
    "\n",
    "feature_set_wide = [\n",
    "    \"avg_all_post_pos\",\n",
    "    \"avg_all_post_neg\",\n",
    "    \"avg_all_post_neu\",\n",
    "    \"cnt_all_user\",\n",
    "    \"cnt_all_tag\",\n",
    "    \"cnt_all_post\",\n",
    "    \"cnt_all_comments\",\n",
    "    \"avg_gme_post_pos\",\n",
    "    \"avg_gme_post_neg\",\n",
    "    \"avg_gme_post_neu\",\n",
    "    \"cnt_gme_user\",\n",
    "    \"cnt_gme_tag\",\n",
    "    \"cnt_gme_post\",\n",
    "    \"cnt_gme_comments\",\n",
    "    \"volume\",\n",
    "    \"openprice\",\n",
    "    \"highprice\",\n",
    "    \"lowprice\",\n",
    "    \"closeprice\"\n",
    "]\n",
    "feature_set_eng = [\n",
    "    \"avg_all_post_pos\",\n",
    "    \"avg_all_post_neg\",\n",
    "    \"avg_all_post_neu\",\n",
    "    \"cnt_all_user\",\n",
    "    \"cnt_all_tag\",\n",
    "    \"cnt_all_post\",\n",
    "    \"cnt_all_comments\",\n",
    "    \"avg_gme_post_pos\",\n",
    "    \"avg_gme_post_neg\",\n",
    "    \"avg_gme_post_neu\",\n",
    "    \"cnt_gme_user\",\n",
    "    \"cnt_gme_tag\",\n",
    "    \"cnt_gme_post\",\n",
    "    \"cnt_gme_comments\",\n",
    "    \"closeprice\"\n",
    "]\n",
    "\n",
    "feature_label_cols = feature_set_wide\n",
    "feature_cols = feature_label_cols[:-1]\n",
    "label_cols = feature_label_cols[-1]"
   ]
  },
  {
   "cell_type": "code",
   "execution_count": 75,
   "metadata": {},
   "outputs": [],
   "source": [
    "train_df = train_org_df[feature_label_cols]\n",
    "test_df = test_org_df[feature_label_cols]\n",
    "\n",
    "concat_df = df_gamestop[feature_label_cols]"
   ]
  },
  {
   "cell_type": "code",
   "execution_count": 76,
   "metadata": {},
   "outputs": [],
   "source": [
    "def scale(df, feature_set, scaler=None):\n",
    "    if scaler is None:\n",
    "        scaler = StandardScaler()\n",
    "        scaled_arr = scaler.fit_transform(df[feature_set])\n",
    "    else:\n",
    "        scaled_arr = scaler.transform(df[feature_set])\n",
    "    return scaled_arr, scaler\n",
    "\n",
    "def split(train_arr, train_ratio):\n",
    "    # split the data to train, validate\n",
    "    n = len(train_arr)\n",
    "    train_set = train_arr[:int(n*train_ratio)]\n",
    "    val_set = train_arr[int(n*train_ratio):]\n",
    "    return train_set, val_set"
   ]
  },
  {
   "cell_type": "markdown",
   "metadata": {},
   "source": [
    "### Data Windowing for time series forecasting\n",
    "\n",
    "> Refer to [Data Windowing](https://www.tensorflow.org/tutorials/structured_data/time_series#data_windowing) for more details\n"
   ]
  },
  {
   "cell_type": "code",
   "execution_count": 77,
   "metadata": {},
   "outputs": [],
   "source": [
    "# Generate time windows for time series forecasting with LSTM network\n",
    "def generate_window(dataset, label, train_window, pred_horizon):\n",
    "    dataset_seq = []\n",
    "    size = len(dataset)\n",
    "    x_arr = []\n",
    "    y_arr = []\n",
    "    for i in range(size - train_window - pred_horizon):\n",
    "        x = dataset[i:(i+train_window), :]\n",
    "        y = label[i+train_window+pred_horizon-1:i+train_window+pred_horizon]\n",
    "        x_arr.append(x)\n",
    "        y_arr.append(y)\n",
    "\n",
    "    x_tensor = torch.tensor(x_arr).float()\n",
    "    y_tensor = torch.tensor(y_arr).float()\n",
    "    num_features = x_tensor.shape[2]\n",
    "    dataset_seq = (x_tensor, y_tensor)\n",
    "    return dataset_seq, num_features\n",
    "\n",
    "def create_batch_set(dataset_seq, batch_size = 100):\n",
    "    x_tensor, y_tensor = dataset_seq\n",
    "    tensor_dataset = TensorDataset(x_tensor,y_tensor)\n",
    "    tensor_dataloader = DataLoader(tensor_dataset, batch_size, False)\n",
    "    return tensor_dataloader"
   ]
  },
  {
   "cell_type": "code",
   "execution_count": 78,
   "metadata": {},
   "outputs": [
    {
     "name": "stdout",
     "output_type": "stream",
     "text": [
      "train window:  24\n",
      "prediction horizon:  1\n"
     ]
    }
   ],
   "source": [
    "# let's create sequential training dataset with various traning windows and prediction horizons\n",
    "# given that the times series data has 1-hour resolution\n",
    "# 24hours * (days)\n",
    "train_window_list = [3, 5, 10, 24, 24*2, 24*5, 24*7]\n",
    "prediction_horizon_list = [1, 2, 3, 5, 24*1, 24*2, 24*3]\n",
    "\n",
    "# choose these set for testing \n",
    "train_window = train_window_list[3]\n",
    "prediction_horizon = prediction_horizon_list[0]\n",
    "print('train window: ', train_window)\n",
    "print('prediction horizon: ', prediction_horizon)"
   ]
  },
  {
   "cell_type": "code",
   "execution_count": 114,
   "metadata": {},
   "outputs": [
    {
     "data": {
      "text/plain": [
       "torch.Size([3623, 24, 18])"
      ]
     },
     "execution_count": 114,
     "metadata": {},
     "output_type": "execute_result"
    }
   ],
   "source": [
    "label_train = train_df[label_cols]\n",
    "label_test = test_df[label_cols]\n",
    "label_all = concat_df[label_cols]\n",
    "\n",
    "\n",
    "\n",
    "train_set, train_scaler = scale(train_df, feature_cols)\n",
    "target_set, _ = scale(test_df, feature_cols, train_scaler)\n",
    "train_set , val_set = split(train_set, 0.8)\n",
    "label_train , label_val = split(label_train, 0.8)\n",
    "\n",
    "gamestop_set, _ = scale(concat_df, feature_cols)\n",
    "\n",
    "train_seq, num_features = generate_window(train_set, label_train, train_window, prediction_horizon)\n",
    "val_seq, _ = generate_window(val_set, label_val, train_window, prediction_horizon)\n",
    "\n",
    "x_train, _ =train_seq\n",
    "x_val, _ = val_seq\n",
    "train_batch_size = int(len(x_train)*0.5)\n",
    "val_batch_size = int(len(x_val)*1)\n",
    "\n",
    "train_batches = create_batch_set(train_seq, batch_size=300)\n",
    "val_batches = create_batch_set(val_seq, batch_size=100)\n",
    "\n",
    "target_seq, _ = generate_window(target_set, label_test, train_window, prediction_horizon)\n",
    "gamestop_seq, _ = generate_window(gamestop_set, label_all, train_window, prediction_horizon)\n",
    "\n",
    "datetime_target = test_datetime_list[train_window+prediction_horizon:]\n",
    "datetime_gamestop = gamestop_datetime_list[train_window+prediction_horizon:]\n",
    "\n",
    "x_train.shape"
   ]
  },
  {
   "cell_type": "markdown",
   "metadata": {},
   "source": [
    "## Creating LSTM Network"
   ]
  },
  {
   "cell_type": "code",
   "execution_count": 115,
   "metadata": {},
   "outputs": [],
   "source": [
    "class LSTM(nn.Module):\n",
    "    def __init__(self, input_size, seq_length, hidden_size=100, num_layers = 2, output_size=1):\n",
    "        super(LSTM, self).__init__()\n",
    "\n",
    "        self.input_size = input_size\n",
    "        self.num_layers = num_layers\n",
    "        self.hidden_size = hidden_size\n",
    "        self.output_size = output_size\n",
    "        self.seq_len = seq_length\n",
    "        \n",
    "        self.hidden_state = None\n",
    "        self.cell_state = None\n",
    "        self.hidden = (self.hidden_state, self.cell_state)\n",
    "\n",
    "        self.lstm = nn.LSTM(\n",
    "            input_size=self.input_size,\n",
    "            hidden_size=self.hidden_size,\n",
    "            num_layers=self.num_layers,\n",
    "            dropout=0.2,\n",
    "            batch_first=True\n",
    "        )\n",
    "\n",
    "        self.linear = nn.Linear(self.hidden_size * self.seq_len, self.output_size)\n",
    "\n",
    "    def init_hidden(self, batch_size, device):\n",
    "        self.hidden_state = torch.zeros(self.num_layers, batch_size ,self.hidden_size).to(device)\n",
    "        self.cell_state = torch.zeros(self.num_layers, batch_size ,self.hidden_size).to(device)\n",
    "        self.hidden = (self.hidden_state, self.cell_state)\n",
    "\n",
    "    def forward(self, x):\n",
    "        lstm_out, self.hidden = self.lstm(\n",
    "                x,\n",
    "                self.hidden\n",
    "            )\n",
    "        outputs = self.linear(lstm_out.reshape(x.size(0),-1))\n",
    "        return outputs\n"
   ]
  },
  {
   "cell_type": "markdown",
   "metadata": {},
   "source": [
    "## Traning LSTM model"
   ]
  },
  {
   "cell_type": "code",
   "execution_count": 116,
   "metadata": {},
   "outputs": [],
   "source": [
    "def train_model(model, device, train_batches, val_batches=None, num_epochs=50):\n",
    "\n",
    "    learning_rate = 1e-3\n",
    "    train_losses = []\n",
    "    val_losses = []\n",
    "    best_loss = np.Inf\n",
    "    val_loss = None\n",
    "    \n",
    "\n",
    "    criterion = torch.nn.MSELoss().to(device)\n",
    "    optimizer = torch.optim.Adam(model.parameters(), lr=learning_rate)\n",
    "    \n",
    "    for epoch in range(num_epochs):\n",
    "        batch_losses = []\n",
    "        for batch_ndx, train_batch in enumerate(train_batches):\n",
    "            model.train()\n",
    "            x_train, y_train = train_batch\n",
    "            batch_size = x_train.size(0)\n",
    "            x_train = x_train.to(device)\n",
    "            y_train = y_train.to(device)\n",
    "            model.init_hidden(batch_size, device)\n",
    "            outputs = model(x_train)\n",
    "            loss = criterion(outputs, y_train)\n",
    "            loss.backward()\n",
    "            optimizer.step()\n",
    "            optimizer.zero_grad()\n",
    "\n",
    "            batch_loss = loss.item()\n",
    "            batch_losses.append(batch_loss)\n",
    "            \n",
    "        if val_batches is not None:\n",
    "            model.eval()\n",
    "            with torch.no_grad():\n",
    "                val_batch_losses = []\n",
    "                for _, val_batch in enumerate(val_batches):\n",
    "                    x_val, y_val = val_batch\n",
    "                    batch_size = x_val.size(0)\n",
    "                    x_val = x_val.to(device)\n",
    "                    y_val = y_val.to(device)\n",
    "                    model.init_hidden(batch_size, device)\n",
    "                    pred = model(x_val)\n",
    "                    loss = criterion(pred, y_val)\n",
    "                    val_loss = loss.item()\n",
    "                    val_batch_losses.append(val_loss)\n",
    "                    if val_loss < best_loss:\n",
    "                        best_loss = val_loss\n",
    "        \n",
    "        val_losses_mean = np.mean(val_batch_losses)\n",
    "        batch_losses_mean = np.mean(batch_losses)\n",
    "        print(f\"Epoch {epoch}: train loss {batch_losses_mean}, val loss {val_losses_mean}\")\n",
    "        val_losses.append(val_losses_mean)\n",
    "        train_losses.append(batch_losses_mean)\n",
    "        \n",
    "        \n",
    "    return model.eval(), train_losses, val_losses"
   ]
  },
  {
   "cell_type": "code",
   "execution_count": 117,
   "metadata": {},
   "outputs": [
    {
     "name": "stdout",
     "output_type": "stream",
     "text": [
      "cuda\n",
      "Epoch 0: train loss 49.262789432819076, val loss 201.1686282687717\n",
      "Epoch 1: train loss 14.620362985592623, val loss 46.65917576683892\n",
      "Epoch 2: train loss 3.077020619924252, val loss 7.93181178967158\n",
      "Epoch 3: train loss 4.713598764859713, val loss 10.817027726107174\n",
      "Epoch 4: train loss 2.7133997839230757, val loss 5.646798259682125\n",
      "Epoch 5: train loss 1.0806461366323323, val loss 3.2277697357866497\n",
      "Epoch 6: train loss 0.6106647008027022, val loss 3.828120685285992\n",
      "Epoch 7: train loss 0.7148672783604035, val loss 3.9161566893259683\n",
      "Epoch 8: train loss 1.1331555396318436, val loss 2.6087397734324136\n",
      "Epoch 9: train loss 1.5227544869367893, val loss 6.561952975061205\n",
      "Epoch 10: train loss 4.915398515187777, val loss 9.817904392878214\n",
      "Epoch 11: train loss 3.05311026939979, val loss 6.2962748474544945\n",
      "Epoch 12: train loss 7.392380508092733, val loss 22.936596552530926\n",
      "Epoch 13: train loss 1.7451925312097256, val loss 3.9971573286586337\n",
      "Epoch 14: train loss 2.5904721497343135, val loss 15.412493467330933\n",
      "Epoch 15: train loss 0.7357807403000501, val loss 3.946834749645657\n",
      "Epoch 16: train loss 0.7922632648394659, val loss 8.48865571949217\n",
      "Epoch 17: train loss 0.3961009823072415, val loss 4.284679139653842\n",
      "Epoch 18: train loss 0.40315202723902005, val loss 6.3792464716566935\n",
      "Epoch 19: train loss 0.30447843871437585, val loss 4.316123265359137\n",
      "Epoch 20: train loss 0.2999004449408788, val loss 5.4620592047770815\n",
      "Epoch 21: train loss 0.2711585115354795, val loss 4.300251389543216\n",
      "Epoch 22: train loss 0.27060041748560393, val loss 5.006242422593965\n",
      "Epoch 23: train loss 0.2531286644247862, val loss 4.206972665256924\n",
      "Epoch 24: train loss 0.24878911645366594, val loss 4.637475814256403\n",
      "Epoch 25: train loss 0.23898968673669374, val loss 4.133845784597927\n",
      "Epoch 26: train loss 0.22672219588779485, val loss 4.320621117949486\n",
      "Epoch 27: train loss 0.22092474423922026, val loss 4.004434784253438\n",
      "Epoch 28: train loss 0.2036524239497689, val loss 3.9662709401713476\n",
      "Epoch 29: train loss 0.201058463121836, val loss 3.920329198241234\n",
      "Epoch 30: train loss 0.19597649696068123, val loss 3.6788385493887796\n",
      "Epoch 31: train loss 0.22741787873495084, val loss 3.853364529709021\n",
      "Epoch 32: train loss 0.2688802019334756, val loss 3.5233599791924157\n",
      "Epoch 33: train loss 0.39464715194816774, val loss 4.112843894296223\n",
      "Epoch 34: train loss 0.4790271767056905, val loss 3.542993408110407\n",
      "Epoch 35: train loss 0.7136086500608004, val loss 4.321877673268318\n",
      "Epoch 36: train loss 0.6945540217252878, val loss 3.3919524119959936\n",
      "Epoch 37: train loss 0.6203723698854446, val loss 3.288818637530009\n",
      "Epoch 38: train loss 0.49110069469763684, val loss 3.1174128502607346\n",
      "Epoch 39: train loss 0.3087977506220341, val loss 2.7911366762386427\n",
      "Epoch 40: train loss 0.47834042731959087, val loss 3.315772896839513\n",
      "Epoch 41: train loss 0.7798072432096188, val loss 3.7802650034427643\n",
      "Epoch 42: train loss 2.125729902432515, val loss 6.519717646969689\n",
      "Epoch 43: train loss 1.781184535760146, val loss 4.510653826925489\n",
      "Epoch 44: train loss 3.504044459416316, val loss 8.940562579366896\n",
      "Epoch 45: train loss 1.7370434632668128, val loss 4.090852717558543\n",
      "Epoch 46: train loss 2.5427255492943983, val loss 9.129031949573093\n",
      "Epoch 47: train loss 1.4852730729258978, val loss 3.6603404581546783\n",
      "Epoch 48: train loss 2.4595347677285853, val loss 12.441353731685215\n",
      "Epoch 49: train loss 1.0262872530863836, val loss 3.651529891623391\n",
      "Epoch 50: train loss 1.0729703805767572, val loss 8.925236496660444\n",
      "Epoch 51: train loss 0.5356478957602611, val loss 3.8916038870811462\n",
      "Epoch 52: train loss 0.5136930489769349, val loss 6.9684031837516365\n",
      "Epoch 53: train loss 0.33594913293535894, val loss 4.043179591496785\n",
      "Epoch 54: train loss 0.3144593296142725, val loss 5.804772176676327\n",
      "Epoch 55: train loss 0.2552189465898734, val loss 4.088770242200957\n",
      "Epoch 56: train loss 0.24510922927695972, val loss 5.183326298991839\n",
      "Epoch 57: train loss 0.22315419723208135, val loss 4.0064740098185005\n",
      "Epoch 58: train loss 0.2122176854799573, val loss 4.757673154274623\n",
      "Epoch 59: train loss 0.1981625038270767, val loss 3.912448769642247\n",
      "Epoch 60: train loss 0.19173280192682376, val loss 4.354285462035073\n",
      "Epoch 61: train loss 0.18650252372026443, val loss 3.7819128185510635\n",
      "Epoch 62: train loss 0.18170922629248637, val loss 4.1027691505021515\n",
      "Epoch 63: train loss 0.18030335209690607, val loss 3.6062175441119404\n",
      "Epoch 64: train loss 0.1810990026793801, val loss 3.933288967443837\n",
      "Epoch 65: train loss 0.1824472239957406, val loss 3.4751853760745792\n",
      "Epoch 66: train loss 0.18034437091018146, val loss 3.735464612642924\n",
      "Epoch 67: train loss 0.1836354210972786, val loss 3.299228018356694\n",
      "Epoch 68: train loss 0.18639208971021268, val loss 3.5700266195668116\n",
      "Epoch 69: train loss 0.19074498403530854, val loss 3.1387751955125065\n",
      "Epoch 70: train loss 0.18900539453786153, val loss 3.4445509951975612\n",
      "Epoch 71: train loss 0.19615968975883263, val loss 3.0336209386587143\n",
      "Epoch 72: train loss 0.1975361193315341, val loss 3.284243932200803\n",
      "Epoch 73: train loss 0.20447481308992094, val loss 2.901974303026994\n",
      "Epoch 74: train loss 0.20786412031604692, val loss 3.1651644102401204\n",
      "Epoch 75: train loss 0.21403262620935073, val loss 2.8017329341835446\n",
      "Epoch 76: train loss 0.2137556534547072, val loss 2.989183425075478\n",
      "Epoch 77: train loss 0.2213784811588434, val loss 2.7224280585845313\n",
      "Epoch 78: train loss 0.23013122179187262, val loss 2.8912509597010083\n",
      "Epoch 79: train loss 0.241061621847061, val loss 2.6359615408711963\n",
      "Epoch 80: train loss 0.25622685769429576, val loss 2.798252605729633\n",
      "Epoch 81: train loss 0.27322291009701216, val loss 2.576005215446154\n",
      "Epoch 82: train loss 0.3134544944533935, val loss 2.76845293574863\n",
      "Epoch 83: train loss 0.3471250276152904, val loss 2.587218971716033\n",
      "Epoch 84: train loss 0.4516245825932576, val loss 2.9223502005139985\n",
      "Epoch 85: train loss 0.496460086451127, val loss 2.705700839559237\n",
      "Epoch 86: train loss 0.7321019745790042, val loss 3.3648142284817166\n",
      "Epoch 87: train loss 0.7411710425065114, val loss 2.952542836467425\n",
      "Epoch 88: train loss 1.1881505021682153, val loss 4.256357956263754\n",
      "Epoch 89: train loss 1.0490581393241882, val loss 3.1831610202789307\n",
      "Epoch 90: train loss 1.7484393578309279, val loss 5.8114798631933\n",
      "Epoch 91: train loss 1.2965430273459508, val loss 3.338163165582551\n",
      "Epoch 92: train loss 2.1541479848898373, val loss 8.138742506504059\n",
      "Epoch 93: train loss 1.2966086807159276, val loss 3.3215256366464825\n",
      "Epoch 94: train loss 1.8135327009054332, val loss 9.059259427918327\n",
      "Epoch 95: train loss 0.9493241602411637, val loss 3.3353000746832953\n",
      "Epoch 96: train loss 1.0686269585902874, val loss 7.980232397715251\n",
      "Epoch 97: train loss 0.5748707067507964, val loss 3.443891629576683\n",
      "Epoch 98: train loss 0.5553354042080733, val loss 6.461894836690691\n",
      "Epoch 99: train loss 0.3636420455116492, val loss 3.560407163368331\n"
     ]
    }
   ],
   "source": [
    "# RANDOM_SEED = 42\n",
    "# np.random.seed(RANDOM_SEED)\n",
    "# torch.manual_seed(RANDOM_SEED)\n",
    "# torch.cuda.empty_cache()\n",
    "device = torch.device(\"cuda\" if torch.cuda.is_available() else \"cpu\")\n",
    "print(device)\n",
    "\n",
    "model = LSTM(input_size=num_features, seq_length=train_window)\n",
    "model.to(device)\n",
    "\n",
    "model, train_losses, val_losses = train_model(model, device, train_batches, val_batches, num_epochs=100)"
   ]
  },
  {
   "cell_type": "code",
   "execution_count": 118,
   "metadata": {},
   "outputs": [
    {
     "data": {
      "text/plain": [
       "<matplotlib.legend.Legend at 0x7f342834e7f0>"
      ]
     },
     "execution_count": 118,
     "metadata": {},
     "output_type": "execute_result"
    },
    {
     "data": {
      "image/png": "[encoded data removed]",
      "text/plain": [
       "<Figure size 432x288 with 1 Axes>"
      ]
     },
     "metadata": {
      "needs_background": "light"
     },
     "output_type": "display_data"
    }
   ],
   "source": [
    "plt.plot(train_losses, label=\"Training loss\")\n",
    "plt.plot(val_losses, label=\"Test loss\")\n",
    "plt.legend()"
   ]
  },
  {
   "cell_type": "code",
   "execution_count": 119,
   "metadata": {},
   "outputs": [
    {
     "data": {
      "text/plain": [
       "(0.0, 20.0)"
      ]
     },
     "execution_count": 119,
     "metadata": {},
     "output_type": "execute_result"
    },
    {
     "data": {
      "image/png": "[encoded data removed]",
      "text/plain": [
       "<Figure size 360x360 with 1 Axes>"
      ]
     },
     "metadata": {
      "needs_background": "light"
     },
     "output_type": "display_data"
    }
   ],
   "source": [
    "# fig_dims = (16, 9)\n",
    "# fig, ax = plt.subplots(figsize=fig_dims)\n",
    "sns_plot = sns.displot(train_losses, bins=100, kde=True)\n",
    "plt.title(\"Loss Distribution on Normal Dataset\", fontsize=14)\n",
    "plt.xlim([0, 20])\n",
    "\n",
    "# if not os.path.isdir('figures'):\n",
    "#     os.mkdir('figures')\n",
    "# sns_plot.savefig(\"figures/train-loss-dist.pdf\",dpi=300, bbox_inches='tight')"
   ]
  },
  {
   "cell_type": "markdown",
   "metadata": {},
   "source": [
    "## Predictions"
   ]
  },
  {
   "cell_type": "code",
   "execution_count": 120,
   "metadata": {},
   "outputs": [],
   "source": [
    "def predict(model, target_seq):\n",
    "    observed, predicted, losses = [], [], []\n",
    "    # device = torch.device(\"cuda\" if torch.cuda.is_available() else \"cpu\")\n",
    "    device = torch.device(\"cpu\")\n",
    "    criterion = nn.L1Loss(reduction='sum').to(device)\n",
    "    model.to(device)\n",
    "    print(device)\n",
    "\n",
    "    X_test, y_test = target_seq\n",
    "    set_size = X_test.size(0)\n",
    "\n",
    "    # model.init_hidden(X_test.size(0), device)\n",
    "    # y_pred = model(X_test)\n",
    "\n",
    "    with torch.no_grad():\n",
    "        model.eval()\n",
    "        for i in range(set_size):\n",
    "            x_i = X_test[i:i+1]\n",
    "            y_i = y_test[i:i+1]\n",
    "            x_i.to(device)\n",
    "            y_i.to(device)\n",
    "            model.init_hidden(x_i.size(0), device)\n",
    "            y_pred = model(x_i)\n",
    "            loss = criterion(y_pred, y_i)\n",
    "            predicted.append(y_pred.item())\n",
    "            losses.append(loss.item())\n",
    "            \n",
    "    observed = y_test.cpu().numpy().flatten()\n",
    "    predictions = np.array(predicted).flatten()\n",
    "    losses = np.array(losses).flatten()\n",
    "    return predictions, observed, losses"
   ]
  },
  {
   "cell_type": "code",
   "execution_count": 121,
   "metadata": {
    "scrolled": true
   },
   "outputs": [
    {
     "name": "stdout",
     "output_type": "stream",
     "text": [
      "cpu\n"
     ]
    }
   ],
   "source": [
    "predictions, observed, pred_losses = predict(model, target_seq)"
   ]
  },
  {
   "cell_type": "code",
   "execution_count": 122,
   "metadata": {},
   "outputs": [
    {
     "data": {
      "text/plain": [
       "<matplotlib.legend.Legend at 0x7f34204f91d0>"
      ]
     },
     "execution_count": 122,
     "metadata": {},
     "output_type": "execute_result"
    },
    {
     "data": {
      "image/png": "[encoded data removed]",
      "text/plain": [
       "<Figure size 432x288 with 1 Axes>"
      ]
     },
     "metadata": {
      "needs_background": "light"
     },
     "output_type": "display_data"
    }
   ],
   "source": [
    "plt.plot(datetime_target,predictions, label=\"Predicted\")\n",
    "plt.plot(datetime_target, observed, label=\"Observed\")\n",
    "plt.xticks(rotation=45)\n",
    "plt.legend()"
   ]
  },
  {
   "cell_type": "code",
   "execution_count": 64,
   "metadata": {},
   "outputs": [
    {
     "name": "stdout",
     "output_type": "stream",
     "text": [
      "Prediction loss mean = 77.96931171537803\n"
     ]
    },
    {
     "data": {
      "image/png": "[encoded data removed]",
      "text/plain": [
       "<Figure size 432x288 with 1 Axes>"
      ]
     },
     "metadata": {
      "needs_background": "light"
     },
     "output_type": "display_data"
    }
   ],
   "source": [
    "plt.plot(datetime_target ,pred_losses, label=\"Prediction Loss\")\n",
    "plt.xticks(rotation=45)\n",
    "plt.legend()\n",
    "print(f\"Prediction loss mean = {np.mean(pred_losses)}\")"
   ]
  },
  {
   "cell_type": "code",
   "execution_count": 73,
   "metadata": {},
   "outputs": [
    {
     "data": {
      "text/plain": [
       "<Figure size 1152x648 with 0 Axes>"
      ]
     },
     "metadata": {},
     "output_type": "display_data"
    },
    {
     "data": {
      "image/png": "[encoded data removed]",
      "text/plain": [
       "<Figure size 360x360 with 1 Axes>"
      ]
     },
     "metadata": {
      "needs_background": "light"
     },
     "output_type": "display_data"
    }
   ],
   "source": [
    "plt.figure(figsize=(16, 9))\n",
    "sns.displot(pred_losses, bins=100, kde=True)\n",
    "plt.title('Loss Distribution on Short Squeeze Dataset', fontsize=14)\n",
    "\n",
    "if not os.path.isdir('figures'):\n",
    "    os.mkdir('figures')\n",
    "# sns_plot.savefig(\"figures/anomaly-loss-dist.pdf\",dpi=300, bbox_inches='tight')"
   ]
  },
  {
   "cell_type": "code",
   "execution_count": null,
   "metadata": {},
   "outputs": [],
   "source": [
    "test_org_df[label_cols].plot()\n",
    "test_org_df['prediction'].plot()"
   ]
  },
  {
   "cell_type": "code",
   "execution_count": null,
   "metadata": {},
   "outputs": [],
   "source": [
    "# add a prediciton column to the original dataframe\n",
    "predictions, observed, losses = predict(model, gamestop_seq)"
   ]
  },
  {
   "cell_type": "code",
   "execution_count": null,
   "metadata": {},
   "outputs": [],
   "source": [
    "df_gamestop['prediction'] = np.nan\n",
    "X_test, y_test = gamestop_seq\n",
    "set_size = X_test.size(0)\n",
    "for i in range(set_size)\n",
    "    df_gamestop.at[datetime_gamestop[i], 'prediction'] = predictions(i)\n",
    "\n",
    "df_gamestop.to_csv('../foobar/data/processed/wide.csv')\n",
    "print('The wide table is updated with the prediction results')"
   ]
  },
  {
   "cell_type": "code",
   "execution_count": null,
   "metadata": {},
   "outputs": [],
   "source": [
    "plt.plot(datetime_gamestop,predictions, label=\"Predictions\")\n",
    "plt.plot(datetime_gamestop, truth, label=\"Truth\")\n",
    "plt.xticks(rotation=45)\n",
    "plt.legend()"
   ]
  },
  {
   "cell_type": "code",
   "execution_count": null,
   "metadata": {},
   "outputs": [],
   "source": [
    "print('Saving...')\n",
    "state = {\n",
    "    'model': model.state_dict(),\n",
    "    'scaler': train_scaler,\n",
    "    'feature_set': feature_set_wide,\n",
    "    'train_loss': train_losses,\n",
    "    'val_loss': val_losses,\n",
    "    'pred_horizon': prediction_horizon,\n",
    "    'train_window': train_window\n",
    "}\n",
    "\n",
    "if not os.path.isdir('checkpoint'):\n",
    "    os.mkdir('checkpoint')\n",
    "torch.save(state, f'./checkpoint/m2.pth')"
   ]
  }
 ],
 "metadata": {
  "kernelspec": {
   "display_name": "Python 3",
   "language": "python",
   "name": "python3"
  },
  "language_info": {
   "codemirror_mode": {
    "name": "ipython",
    "version": 3
   },
   "file_extension": ".py",
   "mimetype": "text/x-python",
   "name": "python",
   "nbconvert_exporter": "python",
   "pygments_lexer": "ipython3",
   "version": "3.7.3"
  }
 },
 "nbformat": 4,
 "nbformat_minor": 2
}
