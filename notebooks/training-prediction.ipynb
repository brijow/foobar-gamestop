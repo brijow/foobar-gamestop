{
 "cells": [
  {
   "cell_type": "code",
   "execution_count": 1,
   "metadata": {},
   "outputs": [],
   "source": [
    "import numpy as np\n",
    "import pandas as pd\n",
    "import os\n",
    "from datetime import datetime\n",
    "import matplotlib.pyplot as plt\n",
    "import seaborn as sns\n",
    "\n",
    "import torch\n",
    "import torch.nn as nn\n",
    "from torch.utils.data import TensorDataset, DataLoader\n",
    "\n",
    "from sklearn.preprocessing import MinMaxScaler, StandardScaler"
   ]
  },
  {
   "cell_type": "code",
   "execution_count": 2,
   "metadata": {},
   "outputs": [
    {
     "data": {
      "text/html": [
       "<div>\n",
       "<style scoped>\n",
       "    .dataframe tbody tr th:only-of-type {\n",
       "        vertical-align: middle;\n",
       "    }\n",
       "\n",
       "    .dataframe tbody tr th {\n",
       "        vertical-align: top;\n",
       "    }\n",
       "\n",
       "    .dataframe thead th {\n",
       "        text-align: right;\n",
       "    }\n",
       "</style>\n",
       "<table border=\"1\" class=\"dataframe\">\n",
       "  <thead>\n",
       "    <tr style=\"text-align: right;\">\n",
       "      <th></th>\n",
       "      <th>hour</th>\n",
       "      <th>avg_all_post_pos</th>\n",
       "      <th>avg_all_post_neg</th>\n",
       "      <th>avg_all_post_neu</th>\n",
       "      <th>cnt_all_user</th>\n",
       "      <th>cnt_all_tag</th>\n",
       "      <th>cnt_all_post</th>\n",
       "      <th>cnt_all_comments</th>\n",
       "      <th>avg_gme_post_pos</th>\n",
       "      <th>avg_gme_post_neg</th>\n",
       "      <th>...</th>\n",
       "      <th>cnt_gme_tag</th>\n",
       "      <th>cnt_gme_post</th>\n",
       "      <th>cnt_gme_comments</th>\n",
       "      <th>id</th>\n",
       "      <th>volume</th>\n",
       "      <th>openprice</th>\n",
       "      <th>closeprice</th>\n",
       "      <th>highprice</th>\n",
       "      <th>lowprice</th>\n",
       "      <th>prediction</th>\n",
       "    </tr>\n",
       "    <tr>\n",
       "      <th>datetime</th>\n",
       "      <th></th>\n",
       "      <th></th>\n",
       "      <th></th>\n",
       "      <th></th>\n",
       "      <th></th>\n",
       "      <th></th>\n",
       "      <th></th>\n",
       "      <th></th>\n",
       "      <th></th>\n",
       "      <th></th>\n",
       "      <th></th>\n",
       "      <th></th>\n",
       "      <th></th>\n",
       "      <th></th>\n",
       "      <th></th>\n",
       "      <th></th>\n",
       "      <th></th>\n",
       "      <th></th>\n",
       "      <th></th>\n",
       "      <th></th>\n",
       "      <th></th>\n",
       "    </tr>\n",
       "  </thead>\n",
       "  <tbody>\n",
       "    <tr>\n",
       "      <th>2021-01-04 00:00:00</th>\n",
       "      <td>2021-01-04 00:00:00</td>\n",
       "      <td>0.079373</td>\n",
       "      <td>0.079935</td>\n",
       "      <td>0.833351</td>\n",
       "      <td>92.0</td>\n",
       "      <td>45.0</td>\n",
       "      <td>137.0</td>\n",
       "      <td>134.0</td>\n",
       "      <td>0.000001</td>\n",
       "      <td>0.000001</td>\n",
       "      <td>...</td>\n",
       "      <td>1.0</td>\n",
       "      <td>1.0</td>\n",
       "      <td>1.0</td>\n",
       "      <td>1604.0</td>\n",
       "      <td>1695.0</td>\n",
       "      <td>19.1</td>\n",
       "      <td>19.4</td>\n",
       "      <td>19.4</td>\n",
       "      <td>19.1</td>\n",
       "      <td>-1.0</td>\n",
       "    </tr>\n",
       "    <tr>\n",
       "      <th>2021-01-04 01:00:00</th>\n",
       "      <td>2021-01-04 01:00:00</td>\n",
       "      <td>0.090065</td>\n",
       "      <td>0.086522</td>\n",
       "      <td>0.819869</td>\n",
       "      <td>147.0</td>\n",
       "      <td>62.0</td>\n",
       "      <td>280.0</td>\n",
       "      <td>277.0</td>\n",
       "      <td>0.120668</td>\n",
       "      <td>0.102334</td>\n",
       "      <td>...</td>\n",
       "      <td>1.0</td>\n",
       "      <td>3.0</td>\n",
       "      <td>3.0</td>\n",
       "      <td>1604.0</td>\n",
       "      <td>1695.0</td>\n",
       "      <td>19.1</td>\n",
       "      <td>19.4</td>\n",
       "      <td>19.4</td>\n",
       "      <td>19.1</td>\n",
       "      <td>-1.0</td>\n",
       "    </tr>\n",
       "    <tr>\n",
       "      <th>2021-01-04 02:00:00</th>\n",
       "      <td>2021-01-04 02:00:00</td>\n",
       "      <td>0.103936</td>\n",
       "      <td>0.079856</td>\n",
       "      <td>0.813165</td>\n",
       "      <td>169.0</td>\n",
       "      <td>84.0</td>\n",
       "      <td>324.0</td>\n",
       "      <td>319.0</td>\n",
       "      <td>0.065751</td>\n",
       "      <td>0.007501</td>\n",
       "      <td>...</td>\n",
       "      <td>1.0</td>\n",
       "      <td>4.0</td>\n",
       "      <td>3.0</td>\n",
       "      <td>1604.0</td>\n",
       "      <td>1695.0</td>\n",
       "      <td>19.1</td>\n",
       "      <td>19.4</td>\n",
       "      <td>19.4</td>\n",
       "      <td>19.1</td>\n",
       "      <td>-1.0</td>\n",
       "    </tr>\n",
       "    <tr>\n",
       "      <th>2021-01-04 03:00:00</th>\n",
       "      <td>2021-01-04 03:00:00</td>\n",
       "      <td>0.086609</td>\n",
       "      <td>0.081172</td>\n",
       "      <td>0.813798</td>\n",
       "      <td>120.0</td>\n",
       "      <td>56.0</td>\n",
       "      <td>217.0</td>\n",
       "      <td>211.0</td>\n",
       "      <td>0.000000</td>\n",
       "      <td>0.000000</td>\n",
       "      <td>...</td>\n",
       "      <td>0.0</td>\n",
       "      <td>0.0</td>\n",
       "      <td>0.0</td>\n",
       "      <td>1604.0</td>\n",
       "      <td>1695.0</td>\n",
       "      <td>19.1</td>\n",
       "      <td>19.4</td>\n",
       "      <td>19.4</td>\n",
       "      <td>19.1</td>\n",
       "      <td>-1.0</td>\n",
       "    </tr>\n",
       "    <tr>\n",
       "      <th>2021-01-04 04:00:00</th>\n",
       "      <td>2021-01-04 04:00:00</td>\n",
       "      <td>0.117629</td>\n",
       "      <td>0.058659</td>\n",
       "      <td>0.811240</td>\n",
       "      <td>197.0</td>\n",
       "      <td>88.0</td>\n",
       "      <td>401.0</td>\n",
       "      <td>385.0</td>\n",
       "      <td>0.200501</td>\n",
       "      <td>0.000001</td>\n",
       "      <td>...</td>\n",
       "      <td>1.0</td>\n",
       "      <td>4.0</td>\n",
       "      <td>3.0</td>\n",
       "      <td>1604.0</td>\n",
       "      <td>1695.0</td>\n",
       "      <td>19.1</td>\n",
       "      <td>19.4</td>\n",
       "      <td>19.4</td>\n",
       "      <td>19.1</td>\n",
       "      <td>-1.0</td>\n",
       "    </tr>\n",
       "  </tbody>\n",
       "</table>\n",
       "<p>5 rows × 22 columns</p>\n",
       "</div>"
      ],
      "text/plain": [
       "                                    hour  avg_all_post_pos  avg_all_post_neg  \\\n",
       "datetime                                                                       \n",
       "2021-01-04 00:00:00  2021-01-04 00:00:00          0.079373          0.079935   \n",
       "2021-01-04 01:00:00  2021-01-04 01:00:00          0.090065          0.086522   \n",
       "2021-01-04 02:00:00  2021-01-04 02:00:00          0.103936          0.079856   \n",
       "2021-01-04 03:00:00  2021-01-04 03:00:00          0.086609          0.081172   \n",
       "2021-01-04 04:00:00  2021-01-04 04:00:00          0.117629          0.058659   \n",
       "\n",
       "                     avg_all_post_neu  cnt_all_user  cnt_all_tag  \\\n",
       "datetime                                                           \n",
       "2021-01-04 00:00:00          0.833351          92.0         45.0   \n",
       "2021-01-04 01:00:00          0.819869         147.0         62.0   \n",
       "2021-01-04 02:00:00          0.813165         169.0         84.0   \n",
       "2021-01-04 03:00:00          0.813798         120.0         56.0   \n",
       "2021-01-04 04:00:00          0.811240         197.0         88.0   \n",
       "\n",
       "                     cnt_all_post  cnt_all_comments  avg_gme_post_pos  \\\n",
       "datetime                                                                \n",
       "2021-01-04 00:00:00         137.0             134.0          0.000001   \n",
       "2021-01-04 01:00:00         280.0             277.0          0.120668   \n",
       "2021-01-04 02:00:00         324.0             319.0          0.065751   \n",
       "2021-01-04 03:00:00         217.0             211.0          0.000000   \n",
       "2021-01-04 04:00:00         401.0             385.0          0.200501   \n",
       "\n",
       "                     avg_gme_post_neg  ...  cnt_gme_tag  cnt_gme_post  \\\n",
       "datetime                               ...                              \n",
       "2021-01-04 00:00:00          0.000001  ...          1.0           1.0   \n",
       "2021-01-04 01:00:00          0.102334  ...          1.0           3.0   \n",
       "2021-01-04 02:00:00          0.007501  ...          1.0           4.0   \n",
       "2021-01-04 03:00:00          0.000000  ...          0.0           0.0   \n",
       "2021-01-04 04:00:00          0.000001  ...          1.0           4.0   \n",
       "\n",
       "                     cnt_gme_comments      id  volume  openprice  closeprice  \\\n",
       "datetime                                                                       \n",
       "2021-01-04 00:00:00               1.0  1604.0  1695.0       19.1        19.4   \n",
       "2021-01-04 01:00:00               3.0  1604.0  1695.0       19.1        19.4   \n",
       "2021-01-04 02:00:00               3.0  1604.0  1695.0       19.1        19.4   \n",
       "2021-01-04 03:00:00               0.0  1604.0  1695.0       19.1        19.4   \n",
       "2021-01-04 04:00:00               3.0  1604.0  1695.0       19.1        19.4   \n",
       "\n",
       "                     highprice  lowprice  prediction  \n",
       "datetime                                              \n",
       "2021-01-04 00:00:00       19.4      19.1        -1.0  \n",
       "2021-01-04 01:00:00       19.4      19.1        -1.0  \n",
       "2021-01-04 02:00:00       19.4      19.1        -1.0  \n",
       "2021-01-04 03:00:00       19.4      19.1        -1.0  \n",
       "2021-01-04 04:00:00       19.4      19.1        -1.0  \n",
       "\n",
       "[5 rows x 22 columns]"
      ]
     },
     "execution_count": 2,
     "metadata": {},
     "output_type": "execute_result"
    }
   ],
   "source": [
    "# loading wide table\n",
    "df_wide = pd.read_csv('../microservices/dash_app/wide.csv')\n",
    "df_wide['datetime'] = pd.to_datetime(df_wide['hour'], format='%Y-%m-%d %H:%M:%S')\n",
    "df_gamestop = df_wide.set_index('datetime')\n",
    "\n",
    "train_org_df = df_gamestop[df_gamestop.index.year == 2020]\n",
    "test_org_df = df_gamestop[df_gamestop.index.year == 2021]\n",
    "test_org_df.head()"
   ]
  },
  {
   "cell_type": "markdown",
   "metadata": {},
   "source": [
    "## Data Preprocessing"
   ]
  },
  {
   "cell_type": "code",
   "execution_count": 3,
   "metadata": {},
   "outputs": [
    {
     "data": {
      "text/plain": [
       "hour                0\n",
       "avg_all_post_pos    0\n",
       "avg_all_post_neg    0\n",
       "avg_all_post_neu    0\n",
       "cnt_all_user        0\n",
       "cnt_all_tag         0\n",
       "cnt_all_post        0\n",
       "cnt_all_comments    0\n",
       "avg_gme_post_pos    0\n",
       "avg_gme_post_neg    0\n",
       "avg_gme_post_neu    0\n",
       "cnt_gme_user        0\n",
       "cnt_gme_tag         0\n",
       "cnt_gme_post        0\n",
       "cnt_gme_comments    0\n",
       "id                  0\n",
       "volume              0\n",
       "openprice           0\n",
       "closeprice          0\n",
       "highprice           0\n",
       "lowprice            0\n",
       "prediction          0\n",
       "datetime            0\n",
       "dtype: int64"
      ]
     },
     "execution_count": 3,
     "metadata": {},
     "output_type": "execute_result"
    }
   ],
   "source": [
    "# finding missing values\n",
    "df_wide.isnull().sum()"
   ]
  },
  {
   "cell_type": "code",
   "execution_count": 4,
   "metadata": {},
   "outputs": [],
   "source": [
    "# datatime for visualization\n",
    "train_datetime_list = list(train_org_df.index)\n",
    "test_datetime_list = list(test_org_df.index)\n",
    "gamestop_datetime_list = list(df_gamestop.index)"
   ]
  },
  {
   "cell_type": "code",
   "execution_count": 8,
   "metadata": {},
   "outputs": [],
   "source": [
    "# choose a feature set for training and testing \n",
    "feature_set_finn = [\"openprice\", \"highprice\", \"lowprice\", \"volume\", \"closeprice\"]\n",
    "\n",
    "feature_set_wide = [\n",
    "    \"avg_all_post_pos\",\n",
    "    \"avg_all_post_neg\",\n",
    "    \"avg_all_post_neu\",\n",
    "    \"cnt_all_user\",\n",
    "    \"cnt_all_tag\",\n",
    "    \"cnt_all_post\",\n",
    "    \"cnt_all_comments\",\n",
    "    \"avg_gme_post_pos\",\n",
    "    \"avg_gme_post_neg\",\n",
    "    \"avg_gme_post_neu\",\n",
    "    \"cnt_gme_user\",\n",
    "    \"cnt_gme_tag\",\n",
    "    \"cnt_gme_post\",\n",
    "    \"cnt_gme_comments\",\n",
    "    \"volume\",\n",
    "    \"openprice\",\n",
    "    \"highprice\",\n",
    "    \"lowprice\",\n",
    "    \"closeprice\"\n",
    "]\n",
    "feature_set_eng = [\n",
    "    \"avg_all_post_pos\",\n",
    "    \"avg_all_post_neg\",\n",
    "    \"avg_all_post_neu\",\n",
    "    \"cnt_all_user\",\n",
    "    \"cnt_all_tag\",\n",
    "    \"cnt_all_post\",\n",
    "    \"cnt_all_comments\",\n",
    "    \"avg_gme_post_pos\",\n",
    "    \"avg_gme_post_neg\",\n",
    "    \"avg_gme_post_neu\",\n",
    "    \"cnt_gme_user\",\n",
    "    \"cnt_gme_tag\",\n",
    "    \"cnt_gme_post\",\n",
    "    \"cnt_gme_comments\",\n",
    "    \"closeprice\"\n",
    "]\n",
    "\n",
    "feature_label_cols = feature_set_wide\n",
    "feature_cols = feature_label_cols[:-1]\n",
    "label_cols = feature_label_cols[-1]"
   ]
  },
  {
   "cell_type": "code",
   "execution_count": 9,
   "metadata": {},
   "outputs": [],
   "source": [
    "train_df = train_org_df[feature_label_cols]\n",
    "test_df = test_org_df[feature_label_cols]\n",
    "\n",
    "concat_df = df_gamestop[feature_label_cols]"
   ]
  },
  {
   "cell_type": "code",
   "execution_count": 10,
   "metadata": {},
   "outputs": [],
   "source": [
    "def scale(df, feature_set, scaler=None):\n",
    "    if scaler is None:\n",
    "        scaler = StandardScaler()\n",
    "        scaled_arr = scaler.fit_transform(df[feature_set])\n",
    "    else:\n",
    "        scaled_arr = scaler.transform(df[feature_set])\n",
    "    return scaled_arr, scaler\n",
    "\n",
    "def split(train_arr, train_ratio):\n",
    "    # split the data to train, validate\n",
    "    n = len(train_arr)\n",
    "    train_set = train_arr[:int(n*train_ratio)]\n",
    "    val_set = train_arr[int(n*train_ratio):]\n",
    "    return train_set, val_set"
   ]
  },
  {
   "cell_type": "markdown",
   "metadata": {},
   "source": [
    "### Data Windowing for time series forecasting\n",
    "\n",
    "> Refer to [Data Windowing](https://www.tensorflow.org/tutorials/structured_data/time_series#data_windowing) for more details\n"
   ]
  },
  {
   "cell_type": "code",
   "execution_count": 11,
   "metadata": {},
   "outputs": [],
   "source": [
    "# Generate time windows for time series forecasting with LSTM network\n",
    "def generate_window(dataset, label, train_window, pred_horizon):\n",
    "    dataset_seq = []\n",
    "    size = len(dataset)\n",
    "    x_arr = []\n",
    "    y_arr = []\n",
    "    for i in range(size - train_window - pred_horizon):\n",
    "        x = dataset[i:(i+train_window), :]\n",
    "        y = label[i+train_window+pred_horizon-1:i+train_window+pred_horizon]\n",
    "        x_arr.append(x)\n",
    "        y_arr.append(y)\n",
    "\n",
    "    x_tensor = torch.tensor(x_arr).float()\n",
    "    y_tensor = torch.tensor(y_arr).float()\n",
    "    num_features = x_tensor.shape[2]\n",
    "    dataset_seq = (x_tensor, y_tensor)\n",
    "    return dataset_seq, num_features\n",
    "\n",
    "def create_batch_set(dataset_seq, batch_size = 100):\n",
    "    x_tensor, y_tensor = dataset_seq\n",
    "    tensor_dataset = TensorDataset(x_tensor,y_tensor)\n",
    "    tensor_dataloader = DataLoader(tensor_dataset, batch_size, False)\n",
    "    return tensor_dataloader"
   ]
  },
  {
   "cell_type": "code",
   "execution_count": 12,
   "metadata": {},
   "outputs": [
    {
     "name": "stdout",
     "output_type": "stream",
     "text": [
      "train window:  24\n",
      "prediction horizon:  1\n"
     ]
    }
   ],
   "source": [
    "# let's create sequential training dataset with various traning windows and prediction horizons\n",
    "# given that the times series data has 1-hour resolution\n",
    "# 24hours * (days)\n",
    "train_window_list = [3, 5, 10, 24, 24*2, 24*5, 24*7]\n",
    "prediction_horizon_list = [1, 2, 3, 5, 24*1, 24*2, 24*3]\n",
    "\n",
    "# choose these set for testing \n",
    "train_window = train_window_list[3]\n",
    "prediction_horizon = prediction_horizon_list[0]\n",
    "print('train window: ', train_window)\n",
    "print('prediction horizon: ', prediction_horizon)"
   ]
  },
  {
   "cell_type": "code",
   "execution_count": 13,
   "metadata": {},
   "outputs": [
    {
     "data": {
      "text/plain": [
       "torch.Size([3623, 24, 18])"
      ]
     },
     "execution_count": 13,
     "metadata": {},
     "output_type": "execute_result"
    }
   ],
   "source": [
    "label_train = train_df[label_cols]\n",
    "label_test = test_df[label_cols]\n",
    "label_all = concat_df[label_cols]\n",
    "\n",
    "\n",
    "\n",
    "train_set, train_scaler = scale(train_df, feature_cols)\n",
    "target_set, _ = scale(test_df, feature_cols, train_scaler)\n",
    "train_set , val_set = split(train_set, 0.8)\n",
    "label_train , label_val = split(label_train, 0.8)\n",
    "\n",
    "gamestop_set, _ = scale(concat_df, feature_cols)\n",
    "\n",
    "train_seq, num_features = generate_window(train_set, label_train, train_window, prediction_horizon)\n",
    "val_seq, _ = generate_window(val_set, label_val, train_window, prediction_horizon)\n",
    "\n",
    "x_train, _ =train_seq\n",
    "x_val, _ = val_seq\n",
    "train_batch_size = int(len(x_train)*0.5)\n",
    "val_batch_size = int(len(x_val)*1)\n",
    "\n",
    "train_batches = create_batch_set(train_seq, batch_size=300)\n",
    "val_batches = create_batch_set(val_seq, batch_size=100)\n",
    "\n",
    "target_seq, _ = generate_window(target_set, label_test, train_window, prediction_horizon)\n",
    "gamestop_seq, _ = generate_window(gamestop_set, label_all, train_window, prediction_horizon)\n",
    "\n",
    "datetime_target = test_datetime_list[train_window+prediction_horizon:]\n",
    "datetime_gamestop = gamestop_datetime_list[train_window+prediction_horizon:]\n",
    "\n",
    "x_train.shape"
   ]
  },
  {
   "cell_type": "markdown",
   "metadata": {},
   "source": [
    "## Creating LSTM Network"
   ]
  },
  {
   "cell_type": "code",
   "execution_count": 14,
   "metadata": {},
   "outputs": [],
   "source": [
    "class LSTM(nn.Module):\n",
    "    def __init__(self, input_size, seq_length, hidden_size=100, num_layers = 2, output_size=1):\n",
    "        super(LSTM, self).__init__()\n",
    "\n",
    "        self.input_size = input_size\n",
    "        self.num_layers = num_layers\n",
    "        self.hidden_size = hidden_size\n",
    "        self.output_size = output_size\n",
    "        self.seq_len = seq_length\n",
    "        \n",
    "        self.hidden_state = None\n",
    "        self.cell_state = None\n",
    "        self.hidden = (self.hidden_state, self.cell_state)\n",
    "\n",
    "        self.lstm = nn.LSTM(\n",
    "            input_size=self.input_size,\n",
    "            hidden_size=self.hidden_size,\n",
    "            num_layers=self.num_layers,\n",
    "            dropout=0.2,\n",
    "            batch_first=True\n",
    "        )\n",
    "\n",
    "        self.linear = nn.Linear(self.hidden_size * self.seq_len, self.output_size)\n",
    "\n",
    "    def init_hidden(self, batch_size, device):\n",
    "        self.hidden_state = torch.zeros(self.num_layers, batch_size ,self.hidden_size).to(device)\n",
    "        self.cell_state = torch.zeros(self.num_layers, batch_size ,self.hidden_size).to(device)\n",
    "        self.hidden = (self.hidden_state, self.cell_state)\n",
    "\n",
    "    def forward(self, x):\n",
    "        lstm_out, self.hidden = self.lstm(\n",
    "                x,\n",
    "                self.hidden\n",
    "            )\n",
    "        outputs = self.linear(lstm_out.reshape(x.size(0),-1))\n",
    "        return outputs\n"
   ]
  },
  {
   "cell_type": "markdown",
   "metadata": {},
   "source": [
    "## Traning LSTM model"
   ]
  },
  {
   "cell_type": "code",
   "execution_count": 15,
   "metadata": {},
   "outputs": [],
   "source": [
    "def train_model(model, device, train_batches, val_batches=None, num_epochs=50):\n",
    "\n",
    "    learning_rate = 1e-3\n",
    "    train_losses = []\n",
    "    val_losses = []\n",
    "    best_loss = np.Inf\n",
    "    val_loss = None\n",
    "    \n",
    "\n",
    "    criterion = torch.nn.MSELoss().to(device)\n",
    "    optimizer = torch.optim.Adam(model.parameters(), lr=learning_rate)\n",
    "    \n",
    "    for epoch in range(num_epochs):\n",
    "        batch_losses = []\n",
    "        for batch_ndx, train_batch in enumerate(train_batches):\n",
    "            model.train()\n",
    "            x_train, y_train = train_batch\n",
    "            batch_size = x_train.size(0)\n",
    "            x_train = x_train.to(device)\n",
    "            y_train = y_train.to(device)\n",
    "            model.init_hidden(batch_size, device)\n",
    "            outputs = model(x_train)\n",
    "            loss = criterion(outputs, y_train)\n",
    "            loss.backward()\n",
    "            optimizer.step()\n",
    "            optimizer.zero_grad()\n",
    "\n",
    "            batch_loss = loss.item()\n",
    "            batch_losses.append(batch_loss)\n",
    "            \n",
    "        if val_batches is not None:\n",
    "            model.eval()\n",
    "            with torch.no_grad():\n",
    "                val_batch_losses = []\n",
    "                for _, val_batch in enumerate(val_batches):\n",
    "                    x_val, y_val = val_batch\n",
    "                    batch_size = x_val.size(0)\n",
    "                    x_val = x_val.to(device)\n",
    "                    y_val = y_val.to(device)\n",
    "                    model.init_hidden(batch_size, device)\n",
    "                    pred = model(x_val)\n",
    "                    loss = criterion(pred, y_val)\n",
    "                    val_loss = loss.item()\n",
    "                    val_batch_losses.append(val_loss)\n",
    "                    if val_loss < best_loss:\n",
    "                        best_loss = val_loss\n",
    "        \n",
    "        val_losses_mean = np.mean(val_batch_losses)\n",
    "        batch_losses_mean = np.mean(batch_losses)\n",
    "        print(f\"Epoch {epoch}: train loss {batch_losses_mean}, val loss {val_losses_mean}\")\n",
    "        val_losses.append(val_losses_mean)\n",
    "        train_losses.append(batch_losses_mean)\n",
    "        \n",
    "        \n",
    "    return model.eval(), train_losses, val_losses"
   ]
  },
  {
   "cell_type": "code",
   "execution_count": 16,
   "metadata": {},
   "outputs": [
    {
     "name": "stdout",
     "output_type": "stream",
     "text": [
      "cuda\n",
      "Epoch 0: train loss 44.04519748687744, val loss 169.88248358832465\n",
      "Epoch 1: train loss 17.032594272723564, val loss 62.20089191860623\n",
      "Epoch 2: train loss 1.4789279584701245, val loss 7.020456032620536\n",
      "Epoch 3: train loss 2.945977884989518, val loss 12.212389985720316\n",
      "Epoch 4: train loss 1.6010798066854477, val loss 6.4485545920001135\n",
      "Epoch 5: train loss 0.8938527978383578, val loss 4.798223280244404\n",
      "Epoch 6: train loss 0.5678198956526243, val loss 4.659507527947426\n",
      "Epoch 7: train loss 0.35835538962139535, val loss 4.043447928296195\n",
      "Epoch 8: train loss 0.4602910532401158, val loss 3.662146619624562\n",
      "Epoch 9: train loss 0.6274038985944711, val loss 5.072498907645543\n",
      "Epoch 10: train loss 1.3418138130353048, val loss 4.285326315297021\n",
      "Epoch 11: train loss 1.5368989551296601, val loss 4.763315512074365\n",
      "Epoch 12: train loss 2.4116086661815643, val loss 3.578213501307699\n",
      "Epoch 13: train loss 1.5075584395000567, val loss 4.739198661512798\n",
      "Epoch 14: train loss 1.7723212070189989, val loss 2.763305382596122\n",
      "Epoch 15: train loss 1.663340691763621, val loss 7.113523085912068\n",
      "Epoch 16: train loss 5.54488711632215, val loss 14.33578790558709\n",
      "Epoch 17: train loss 3.0271487155785928, val loss 5.560901499456829\n",
      "Epoch 18: train loss 6.038762596937326, val loss 21.86362600326538\n",
      "Epoch 19: train loss 1.4173490456663644, val loss 4.329221253593762\n",
      "Epoch 20: train loss 1.4826569883869245, val loss 12.005099058151245\n",
      "Epoch 21: train loss 0.575767571822955, val loss 4.6100479662418365\n",
      "Epoch 22: train loss 0.588288396023787, val loss 8.465738475322723\n",
      "Epoch 23: train loss 0.33284880077609647, val loss 4.990889736347729\n",
      "Epoch 24: train loss 0.31923292047129226, val loss 6.623915746808052\n",
      "Epoch 25: train loss 0.25228364736987996, val loss 5.053605970409182\n",
      "Epoch 26: train loss 0.2452540947124362, val loss 5.748098944624265\n",
      "Epoch 27: train loss 0.2273531945852133, val loss 4.872783794999123\n",
      "Epoch 28: train loss 0.22368350617874128, val loss 5.317681059241295\n",
      "Epoch 29: train loss 0.21498115418049005, val loss 4.670655447575781\n",
      "Epoch 30: train loss 0.20953418486393416, val loss 4.951161505447494\n",
      "Epoch 31: train loss 0.20661094297583288, val loss 4.506316689981355\n",
      "Epoch 32: train loss 0.19873727134500557, val loss 4.62027572426531\n",
      "Epoch 33: train loss 0.19749564276291773, val loss 4.301765910453266\n",
      "Epoch 34: train loss 0.19276416251579157, val loss 4.3768605970674095\n",
      "Epoch 35: train loss 0.19310502077524477, val loss 4.1105726808309555\n",
      "Epoch 36: train loss 0.18517381984453934, val loss 4.122728139162064\n",
      "Epoch 37: train loss 0.18592515530494544, val loss 3.9424967964490256\n",
      "Epoch 38: train loss 0.17602585857877365, val loss 3.8841801832119622\n",
      "Epoch 39: train loss 0.17789484259600824, val loss 3.7722029901213117\n",
      "Epoch 40: train loss 0.17269160555532345, val loss 3.599050189057986\n",
      "Epoch 41: train loss 0.1795590525636306, val loss 3.623185427652465\n",
      "Epoch 42: train loss 0.19407480396330357, val loss 3.4086792783604727\n",
      "Epoch 43: train loss 0.23396723731779134, val loss 3.596064027812746\n",
      "Epoch 44: train loss 0.3016105076441398, val loss 3.354686713880963\n",
      "Epoch 45: train loss 0.46294252001322234, val loss 3.8505753113163843\n",
      "Epoch 46: train loss 0.5555482008136235, val loss 3.2899349431196847\n",
      "Epoch 47: train loss 0.7768505536592923, val loss 3.7352722634871802\n",
      "Epoch 48: train loss 0.7530149144048874, val loss 3.0618073874049716\n",
      "Epoch 49: train loss 0.6327690871862265, val loss 2.763805286751853\n",
      "Epoch 50: train loss 0.4437330359449753, val loss 2.7786980734931097\n",
      "Epoch 51: train loss 0.26152189190571123, val loss 2.451449933979246\n",
      "Epoch 52: train loss 0.3336005944472093, val loss 2.793590967853864\n",
      "Epoch 53: train loss 0.5561228669606723, val loss 3.321186997824245\n",
      "Epoch 54: train loss 1.482458349603873, val loss 4.701075914833281\n",
      "Epoch 55: train loss 1.688647176210697, val loss 4.557643297645781\n",
      "Epoch 56: train loss 4.231778401594895, val loss 10.41754424571991\n",
      "Epoch 57: train loss 2.204012957903055, val loss 4.273350639475717\n",
      "Epoch 58: train loss 3.317851580106295, val loss 10.7651948928833\n",
      "Epoch 59: train loss 1.5962371499492571, val loss 3.705977178282208\n",
      "Epoch 60: train loss 2.3003129936181583, val loss 12.512291325463188\n",
      "Epoch 61: train loss 0.9301792764319823, val loss 3.6715877883964114\n",
      "Epoch 62: train loss 0.9044645248124232, val loss 8.820002926720512\n",
      "Epoch 63: train loss 0.4494639655145315, val loss 4.011356342169973\n",
      "Epoch 64: train loss 0.40986707677634865, val loss 6.790965623325771\n",
      "Epoch 65: train loss 0.27067130675109535, val loss 4.177474689152506\n",
      "Epoch 66: train loss 0.2481071759875004, val loss 5.5913393050432205\n",
      "Epoch 67: train loss 0.2067047654149624, val loss 4.1789028727346\n",
      "Epoch 68: train loss 0.19851983847239843, val loss 4.917638515432675\n",
      "Epoch 69: train loss 0.18379837045302758, val loss 4.0669399698575335\n",
      "Epoch 70: train loss 0.17580377453794846, val loss 4.499416475494702\n",
      "Epoch 71: train loss 0.17090104463008735, val loss 3.92608413596948\n",
      "Epoch 72: train loss 0.16480746320807016, val loss 4.128566538294156\n",
      "Epoch 73: train loss 0.164271933814654, val loss 3.7466249797079296\n",
      "Epoch 74: train loss 0.16080534963223797, val loss 3.900154732995563\n",
      "Epoch 75: train loss 0.1597573976390637, val loss 3.5407002601358624\n",
      "Epoch 76: train loss 0.1542080116386597, val loss 3.6614908940262265\n",
      "Epoch 77: train loss 0.15521234875688186, val loss 3.3659980992476144\n",
      "Epoch 78: train loss 0.1501935775606678, val loss 3.4180975556373596\n",
      "Epoch 79: train loss 0.14996837437725985, val loss 3.1722379376490912\n",
      "Epoch 80: train loss 0.14657185384287283, val loss 3.1877043628030353\n",
      "Epoch 81: train loss 0.14692264523070592, val loss 2.983688551518652\n",
      "Epoch 82: train loss 0.1466025227967363, val loss 3.036013854874505\n",
      "Epoch 83: train loss 0.14700078276487497, val loss 2.7955967833598456\n",
      "Epoch 84: train loss 0.14908938883588865, val loss 2.8978615320391126\n",
      "Epoch 85: train loss 0.15246166159900335, val loss 2.6239778796831765\n",
      "Epoch 86: train loss 0.16153870358203465, val loss 2.778529370824496\n",
      "Epoch 87: train loss 0.1766770685521456, val loss 2.4547251049015255\n",
      "Epoch 88: train loss 0.2052750734325785, val loss 2.7826303011841245\n",
      "Epoch 89: train loss 0.2500966073801884, val loss 2.4268138541115656\n",
      "Epoch 90: train loss 0.3554898233940968, val loss 3.164732336997986\n",
      "Epoch 91: train loss 0.43121621671777505, val loss 2.5629006375869117\n",
      "Epoch 92: train loss 0.6702805860684469, val loss 3.9097695499658585\n",
      "Epoch 93: train loss 0.672553844176806, val loss 2.729920362432798\n",
      "Epoch 94: train loss 0.9415005835203024, val loss 4.434564014275868\n",
      "Epoch 95: train loss 0.759010945375149, val loss 2.8170905725823507\n",
      "Epoch 96: train loss 0.9262805237219884, val loss 4.2826608386304645\n",
      "Epoch 97: train loss 0.7434567396457379, val loss 2.793166501654519\n",
      "Epoch 98: train loss 1.065663530276372, val loss 5.096154673231973\n",
      "Epoch 99: train loss 0.8863606452941895, val loss 2.85171810289224\n"
     ]
    }
   ],
   "source": [
    "# RANDOM_SEED = 42\n",
    "# np.random.seed(RANDOM_SEED)\n",
    "# torch.manual_seed(RANDOM_SEED)\n",
    "# torch.cuda.empty_cache()\n",
    "device = torch.device(\"cuda\" if torch.cuda.is_available() else \"cpu\")\n",
    "print(device)\n",
    "\n",
    "model = LSTM(input_size=num_features, seq_length=train_window)\n",
    "model.to(device)\n",
    "\n",
    "model, train_losses, val_losses = train_model(model, device, train_batches, val_batches, num_epochs=100)"
   ]
  },
  {
   "cell_type": "code",
   "execution_count": 17,
   "metadata": {},
   "outputs": [
    {
     "data": {
      "text/plain": [
       "<matplotlib.legend.Legend at 0x7f43d8ec7160>"
      ]
     },
     "execution_count": 17,
     "metadata": {},
     "output_type": "execute_result"
    },
    {
     "data": {
      "image/png": "[encoded data removed]",
      "text/plain": [
       "<Figure size 432x288 with 1 Axes>"
      ]
     },
     "metadata": {
      "needs_background": "light"
     },
     "output_type": "display_data"
    }
   ],
   "source": [
    "plt.plot(train_losses, label=\"Training loss\")\n",
    "plt.plot(val_losses, label=\"Test loss\")\n",
    "plt.legend()"
   ]
  },
  {
   "cell_type": "code",
   "execution_count": 23,
   "metadata": {},
   "outputs": [
    {
     "data": {
      "image/png": "[encoded data removed]",
      "text/plain": [
       "<Figure size 360x360 with 1 Axes>"
      ]
     },
     "metadata": {
      "needs_background": "light"
     },
     "output_type": "display_data"
    }
   ],
   "source": [
    "# fig_dims = (16, 9)\n",
    "# fig, ax = plt.subplots(figsize=fig_dims)\n",
    "sns_plot = sns.displot(train_losses, bins=100, kde=True)\n",
    "plt.title(\"Loss Distribution on Normal Dataset\", fontsize=14)\n",
    "plt.xlim([0, 20])\n",
    "\n",
    "if not os.path.isdir('figures'):\n",
    "    os.mkdir('figures')\n",
    "plt.savefig(\"figures/loss-dist-normal.pdf\",dpi=300, bbox_inches='tight')"
   ]
  },
  {
   "cell_type": "markdown",
   "metadata": {},
   "source": [
    "## Predictions"
   ]
  },
  {
   "cell_type": "code",
   "execution_count": 19,
   "metadata": {},
   "outputs": [],
   "source": [
    "def predict(model, target_seq):\n",
    "    observed, predicted, losses = [], [], []\n",
    "    # device = torch.device(\"cuda\" if torch.cuda.is_available() else \"cpu\")\n",
    "    device = torch.device(\"cpu\")\n",
    "    criterion = nn.L1Loss(reduction='sum').to(device)\n",
    "    model.to(device)\n",
    "    print(device)\n",
    "\n",
    "    X_test, y_test = target_seq\n",
    "    set_size = X_test.size(0)\n",
    "\n",
    "    # model.init_hidden(X_test.size(0), device)\n",
    "    # y_pred = model(X_test)\n",
    "\n",
    "    with torch.no_grad():\n",
    "        model.eval()\n",
    "        for i in range(set_size):\n",
    "            x_i = X_test[i:i+1]\n",
    "            y_i = y_test[i:i+1]\n",
    "            x_i.to(device)\n",
    "            y_i.to(device)\n",
    "            model.init_hidden(x_i.size(0), device)\n",
    "            y_pred = model(x_i)\n",
    "            loss = criterion(y_pred, y_i)\n",
    "            predicted.append(y_pred.item())\n",
    "            losses.append(loss.item())\n",
    "            \n",
    "    observed = y_test.cpu().numpy().flatten()\n",
    "    predictions = np.array(predicted).flatten()\n",
    "    losses = np.array(losses).flatten()\n",
    "    return predictions, observed, losses"
   ]
  },
  {
   "cell_type": "code",
   "execution_count": 20,
   "metadata": {
    "scrolled": true
   },
   "outputs": [
    {
     "name": "stdout",
     "output_type": "stream",
     "text": [
      "cpu\n"
     ]
    }
   ],
   "source": [
    "predictions, observed, pred_losses = predict(model, target_seq)"
   ]
  },
  {
   "cell_type": "code",
   "execution_count": 24,
   "metadata": {},
   "outputs": [
    {
     "data": {
      "text/plain": [
       "<matplotlib.legend.Legend at 0x7f43d979de80>"
      ]
     },
     "execution_count": 24,
     "metadata": {},
     "output_type": "execute_result"
    },
    {
     "data": {
      "image/png": "[encoded data removed]",
      "text/plain": [
       "<Figure size 432x288 with 1 Axes>"
      ]
     },
     "metadata": {
      "needs_background": "light"
     },
     "output_type": "display_data"
    }
   ],
   "source": [
    "plt.plot(datetime_target,predictions, label=\"Predicted\")\n",
    "plt.plot(datetime_target, observed, label=\"Observed\")\n",
    "plt.xticks(rotation=45)\n",
    "plt.legend()"
   ]
  },
  {
   "cell_type": "code",
   "execution_count": 25,
   "metadata": {},
   "outputs": [
    {
     "name": "stdout",
     "output_type": "stream",
     "text": [
      "Prediction loss mean = 68.0131798634487\n"
     ]
    },
    {
     "data": {
      "image/png": "[encoded data removed]",
      "text/plain": [
       "<Figure size 432x288 with 1 Axes>"
      ]
     },
     "metadata": {
      "needs_background": "light"
     },
     "output_type": "display_data"
    }
   ],
   "source": [
    "plt.plot(datetime_target ,pred_losses, label=\"Prediction Loss\")\n",
    "plt.xticks(rotation=45)\n",
    "plt.legend()\n",
    "print(f\"Prediction loss mean = {np.mean(pred_losses)}\")"
   ]
  },
  {
   "cell_type": "code",
   "execution_count": 28,
   "metadata": {},
   "outputs": [
    {
     "data": {
      "text/plain": [
       "<Figure size 1152x648 with 0 Axes>"
      ]
     },
     "metadata": {},
     "output_type": "display_data"
    },
    {
     "data": {
      "image/png": "[encoded data removed]",
      "text/plain": [
       "<Figure size 360x360 with 1 Axes>"
      ]
     },
     "metadata": {
      "needs_background": "light"
     },
     "output_type": "display_data"
    }
   ],
   "source": [
    "plt.figure(figsize=(16, 9))\n",
    "sns.displot(pred_losses, bins=100, kde=True)\n",
    "plt.title('Loss Distribution on Short Squeeze Dataset', fontsize=14)\n",
    "\n",
    "if not os.path.isdir('figures'):\n",
    "    os.mkdir('figures')\n",
    "plt.savefig(\"figures/loss-dist-anomaly.pdf\",dpi=300, bbox_inches='tight')"
   ]
  },
  {
   "cell_type": "code",
   "execution_count": null,
   "metadata": {},
   "outputs": [],
   "source": [
    "test_org_df[label_cols].plot()\n",
    "test_org_df['prediction'].plot()"
   ]
  },
  {
   "cell_type": "code",
   "execution_count": null,
   "metadata": {},
   "outputs": [],
   "source": [
    "# add a prediciton column to the original dataframe\n",
    "predictions, observed, losses = predict(model, gamestop_seq)"
   ]
  },
  {
   "cell_type": "code",
   "execution_count": null,
   "metadata": {},
   "outputs": [],
   "source": [
    "df_gamestop['prediction'] = np.nan\n",
    "X_test, y_test = gamestop_seq\n",
    "set_size = X_test.size(0)\n",
    "for i in range(set_size)\n",
    "    df_gamestop.at[datetime_gamestop[i], 'prediction'] = predictions(i)\n",
    "\n",
    "df_gamestop.to_csv('../foobar/data/processed/wide.csv')\n",
    "print('The wide table is updated with the prediction results')"
   ]
  },
  {
   "cell_type": "code",
   "execution_count": null,
   "metadata": {},
   "outputs": [],
   "source": [
    "plt.plot(datetime_gamestop,predictions, label=\"Predictions\")\n",
    "plt.plot(datetime_gamestop, truth, label=\"Truth\")\n",
    "plt.xticks(rotation=45)\n",
    "plt.legend()"
   ]
  },
  {
   "cell_type": "code",
   "execution_count": null,
   "metadata": {},
   "outputs": [],
   "source": [
    "print('Saving...')\n",
    "state = {\n",
    "    'model': model.state_dict(),\n",
    "    'scaler': train_scaler,\n",
    "    'feature_set': feature_set_wide,\n",
    "    'train_loss': train_losses,\n",
    "    'val_loss': val_losses,\n",
    "    'pred_horizon': prediction_horizon,\n",
    "    'train_window': train_window\n",
    "}\n",
    "\n",
    "if not os.path.isdir('checkpoint'):\n",
    "    os.mkdir('checkpoint')\n",
    "torch.save(state, f'./checkpoint/m2.pth')"
   ]
  }
 ],
 "metadata": {
  "kernelspec": {
   "display_name": "Python 3",
   "language": "python",
   "name": "python3"
  },
  "language_info": {
   "codemirror_mode": {
    "name": "ipython",
    "version": 3
   },
   "file_extension": ".py",
   "mimetype": "text/x-python",
   "name": "python",
   "nbconvert_exporter": "python",
   "pygments_lexer": "ipython3",
   "version": "3.7.3"
  }
 },
 "nbformat": 4,
 "nbformat_minor": 2
}
