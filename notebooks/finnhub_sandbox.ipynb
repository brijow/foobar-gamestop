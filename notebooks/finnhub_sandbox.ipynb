{
 "metadata": {
  "language_info": {
   "codemirror_mode": {
    "name": "ipython",
    "version": 3
   },
   "file_extension": ".py",
   "mimetype": "text/x-python",
   "name": "python",
   "nbconvert_exporter": "python",
   "pygments_lexer": "ipython3",
   "version": "3.8.8"
  },
  "orig_nbformat": 2,
  "kernelspec": {
   "name": "python388jvsc74a57bd0e4b32c4c655fa694298ff80f540860bd845c191a9c38f277b9165c7be10f4e8e",
   "display_name": "Python 3.8.8 64-bit ('cmpt733': conda)"
  }
 },
 "nbformat": 4,
 "nbformat_minor": 2,
 "cells": [
  {
   "source": [
    "## Finnhub Streaming Api"
   ],
   "cell_type": "markdown",
   "metadata": {}
  },
  {
   "cell_type": "code",
   "execution_count": null,
   "metadata": {
    "tags": []
   },
   "outputs": [],
   "source": [
    "import json\n",
    "import pandas as pd\n",
    "import websocket\n",
    "\n",
    "def on_message(ws, message):\n",
    "    js = json.loads(message)\n",
    "    data = js.pop(\"data\")\n",
    "    df = pd.DataFrame(data)\n",
    "    df = df.rename(\n",
    "                columns={\n",
    "                    \"s\": \"symbol\",\n",
    "                    \"p\": \"last_price\",\n",
    "                    \"t\": \"timestamp\",\n",
    "                    \"v\": \"volume\",\n",
    "                    \"t\": \"timestamp\",\n",
    "                    \"c\": \"trade_conditions\",\n",
    "                }\n",
    "    )\n",
    "    print(df)\n",
    "\n",
    "def on_error(ws, error):\n",
    "    print(error)\n",
    "\n",
    "def on_close(ws):\n",
    "    print(\"### closed ###\")\n",
    "\n",
    "def on_open(ws):\n",
    "    ws.send('{\"type\":\"subscribe\",\"symbol\":\"GME\"}')\n",
    "    ws.send('{\"type\":\"subscribe\",\"symbol\":\"AAPL\"}')\n",
    "    ws.send('{\"type\":\"subscribe\",\"symbol\":\"AMZN\"}')\n",
    "    ws.send('{\"type\":\"subscribe\",\"symbol\":\"BINANCE:BTCUSDT\"}')\n",
    "    ws.send('{\"type\":\"subscribe\",\"symbol\":\"IC MARKETS:1\"}')\n",
    "\n",
    "if __name__ == \"__main__\":\n",
    "    websocket.enableTrace(True)\n",
    "    ws = websocket.WebSocketApp(\"wss://ws.finnhub.io?token=c1ljb2237fkt2msk6ueg\",\n",
    "                              on_message = on_message,\n",
    "                              on_error = on_error,\n",
    "                              on_close = on_close)\n",
    "    ws.on_open = on_open\n",
    "    ws.run_forever()"
   ]
  },
  {
   "source": [
    "## Stock Candle Unit Testing"
   ],
   "cell_type": "markdown",
   "metadata": {}
  },
  {
   "cell_type": "code",
   "execution_count": 12,
   "metadata": {},
   "outputs": [
    {
     "output_type": "execute_result",
     "data": {
      "text/plain": [
       "     close_price  high-price  low-price  open_price status   timestamp  \\\n",
       "0           3.83        3.85     3.3900        3.60     ok  1583107200   \n",
       "1           3.63        3.89     3.5000        3.88     ok  1583193600   \n",
       "2           3.77        3.83     3.4600        3.71     ok  1583280000   \n",
       "3           3.96        3.99     3.5900        3.70     ok  1583366400   \n",
       "4           3.92        4.07     3.7600        3.84     ok  1583452800   \n",
       "..           ...         ...        ...         ...    ...         ...   \n",
       "187        13.67       14.26    13.3000       14.23     ok  1606176000   \n",
       "188        14.75       15.25    13.4200       13.60     ok  1606262400   \n",
       "189        16.08       16.74    14.8800       15.29     ok  1606435200   \n",
       "190        16.56       19.42    16.5575       18.17     ok  1606694400   \n",
       "191        15.80       17.40    15.7600       17.11     ok  1606780800   \n",
       "\n",
       "       volume   datetime  \n",
       "0     3208428 2020-03-02  \n",
       "1     4282456 2020-03-03  \n",
       "2     4257629 2020-03-04  \n",
       "3     3599627 2020-03-05  \n",
       "4     2096803 2020-03-06  \n",
       "..        ...        ...  \n",
       "187   7186710 2020-11-24  \n",
       "188   8860092 2020-11-25  \n",
       "189  12504197 2020-11-27  \n",
       "190  31983498 2020-11-30  \n",
       "191  12666027 2020-12-01  \n",
       "\n",
       "[192 rows x 8 columns]"
      ],
      "text/html": "<div>\n<style scoped>\n    .dataframe tbody tr th:only-of-type {\n        vertical-align: middle;\n    }\n\n    .dataframe tbody tr th {\n        vertical-align: top;\n    }\n\n    .dataframe thead th {\n        text-align: right;\n    }\n</style>\n<table border=\"1\" class=\"dataframe\">\n  <thead>\n    <tr style=\"text-align: right;\">\n      <th></th>\n      <th>close_price</th>\n      <th>high-price</th>\n      <th>low-price</th>\n      <th>open_price</th>\n      <th>status</th>\n      <th>timestamp</th>\n      <th>volume</th>\n      <th>datetime</th>\n    </tr>\n  </thead>\n  <tbody>\n    <tr>\n      <th>0</th>\n      <td>3.83</td>\n      <td>3.85</td>\n      <td>3.3900</td>\n      <td>3.60</td>\n      <td>ok</td>\n      <td>1583107200</td>\n      <td>3208428</td>\n      <td>2020-03-02</td>\n    </tr>\n    <tr>\n      <th>1</th>\n      <td>3.63</td>\n      <td>3.89</td>\n      <td>3.5000</td>\n      <td>3.88</td>\n      <td>ok</td>\n      <td>1583193600</td>\n      <td>4282456</td>\n      <td>2020-03-03</td>\n    </tr>\n    <tr>\n      <th>2</th>\n      <td>3.77</td>\n      <td>3.83</td>\n      <td>3.4600</td>\n      <td>3.71</td>\n      <td>ok</td>\n      <td>1583280000</td>\n      <td>4257629</td>\n      <td>2020-03-04</td>\n    </tr>\n    <tr>\n      <th>3</th>\n      <td>3.96</td>\n      <td>3.99</td>\n      <td>3.5900</td>\n      <td>3.70</td>\n      <td>ok</td>\n      <td>1583366400</td>\n      <td>3599627</td>\n      <td>2020-03-05</td>\n    </tr>\n    <tr>\n      <th>4</th>\n      <td>3.92</td>\n      <td>4.07</td>\n      <td>3.7600</td>\n      <td>3.84</td>\n      <td>ok</td>\n      <td>1583452800</td>\n      <td>2096803</td>\n      <td>2020-03-06</td>\n    </tr>\n    <tr>\n      <th>...</th>\n      <td>...</td>\n      <td>...</td>\n      <td>...</td>\n      <td>...</td>\n      <td>...</td>\n      <td>...</td>\n      <td>...</td>\n      <td>...</td>\n    </tr>\n    <tr>\n      <th>187</th>\n      <td>13.67</td>\n      <td>14.26</td>\n      <td>13.3000</td>\n      <td>14.23</td>\n      <td>ok</td>\n      <td>1606176000</td>\n      <td>7186710</td>\n      <td>2020-11-24</td>\n    </tr>\n    <tr>\n      <th>188</th>\n      <td>14.75</td>\n      <td>15.25</td>\n      <td>13.4200</td>\n      <td>13.60</td>\n      <td>ok</td>\n      <td>1606262400</td>\n      <td>8860092</td>\n      <td>2020-11-25</td>\n    </tr>\n    <tr>\n      <th>189</th>\n      <td>16.08</td>\n      <td>16.74</td>\n      <td>14.8800</td>\n      <td>15.29</td>\n      <td>ok</td>\n      <td>1606435200</td>\n      <td>12504197</td>\n      <td>2020-11-27</td>\n    </tr>\n    <tr>\n      <th>190</th>\n      <td>16.56</td>\n      <td>19.42</td>\n      <td>16.5575</td>\n      <td>18.17</td>\n      <td>ok</td>\n      <td>1606694400</td>\n      <td>31983498</td>\n      <td>2020-11-30</td>\n    </tr>\n    <tr>\n      <th>191</th>\n      <td>15.80</td>\n      <td>17.40</td>\n      <td>15.7600</td>\n      <td>17.11</td>\n      <td>ok</td>\n      <td>1606780800</td>\n      <td>12666027</td>\n      <td>2020-12-01</td>\n    </tr>\n  </tbody>\n</table>\n<p>192 rows × 8 columns</p>\n</div>"
     },
     "metadata": {},
     "execution_count": 12
    }
   ],
   "source": [
    "import os\n",
    "import configparser\n",
    "from datetime import datetime, timedelta\n",
    "\n",
    "import finnhub\n",
    "import pandas as pd\n",
    "\n",
    "\n",
    "FINNHUB_FILE_PATH = \"foobar/data/raw/\"\n",
    "\n",
    "config = configparser.ConfigParser()\n",
    "config.read(\"../foobar/data_loader/conf/finnhub.cfg\")\n",
    "api_credential = config[\"api_credential\"]\n",
    "AUTH_TOKEN = api_credential[\"auth_token\"]\n",
    "\n",
    "api_client = finnhub.Client(api_key=AUTH_TOKEN)\n",
    "\n",
    "\n",
    "\n",
    "date_to = datetime(year=2020, month=12, day=1)\n",
    "date_from = datetime(year=2020, month=3, day=1)\n",
    "\n",
    "from_ts = int(datetime.timestamp(date_from))\n",
    "to_ts = int(datetime.timestamp(date_to))\n",
    "\n",
    "df = pd.DataFrame(\n",
    "    api_client.stock_candles(\n",
    "        symbol='GME', resolution='D', _from=from_ts, to=to_ts\n",
    "    )\n",
    ")\n",
    "# print(df)\n",
    "df = df.rename(\n",
    "    columns={\n",
    "        \"c\": \"close_price\",\n",
    "        \"o\": \"open_price\",\n",
    "        \"h\": \"high-price\",\n",
    "        \"l\": \"low-price\",\n",
    "        \"v\": \"volume\",\n",
    "        \"t\": \"timestamp\",\n",
    "        \"s\": \"status\",\n",
    "    }\n",
    ")\n",
    "# pd.to_datetime(df['timestamp'])\n",
    "# df['timestamp'].fromtimestamp()\n",
    "df['datetime'] = pd.to_datetime(df['timestamp'], unit='s')\n",
    "df"
   ]
  },
  {
   "cell_type": "code",
   "execution_count": null,
   "metadata": {},
   "outputs": [],
   "source": [
    "class finnhub_dataloader:\n",
    "    def __init__(self, api_token):\n",
    "        self.api_client = finnhub.Client(api_key=api_token)\n",
    "\n",
    "    def get_filling_sentiment(dataloader, date_from, date_to):\n",
    "        from_str = date_from.strftime(\"%Y-%m-%d\")\n",
    "        to_str = date_to.strftime(\"%Y-%m-%d\")\n",
    "        if os.path.exists(FINNHUB_FILE_PATH + f\"filling_sentiment_{from_str}_{to_str}.csv\"):\n",
    "            print(\"SEC sentiment analysis dataset is already created.\")\n",
    "        else:\n",
    "            sec_filling_sentiment_timeseries = dataloader.query_filling_sentiment(\n",
    "                symbol=\"GME\", date_from=date_from, date_to=date_to\n",
    "            )\n",
    "            sec_filling_sentiment_timeseries.to_csv(\n",
    "                FINNHUB_FILE_PATH + f\"filling_sentiment_{from_str}_{to_str}.csv\",\n",
    "                encoding=\"utf-8\",\n",
    "            )\n",
    "            print(\"SEC sentiment analysis dataset is successfully created.\")\n"
   ]
  },
  {
   "cell_type": "code",
   "execution_count": null,
   "metadata": {},
   "outputs": [],
   "source": [
    "dataloader = finnhub_dataloader(api_token=AUTH_TOKEN)\n",
    "get_filling_sentiment(dataloader, date_from, date_to)"
   ]
  }
 ]
}