{
 "metadata": {
  "language_info": {
   "codemirror_mode": {
    "name": "ipython",
    "version": 3
   },
   "file_extension": ".py",
   "mimetype": "text/x-python",
   "name": "python",
   "nbconvert_exporter": "python",
   "pygments_lexer": "ipython3",
   "version": "3.8.8"
  },
  "orig_nbformat": 2,
  "kernelspec": {
   "name": "python388jvsc74a57bd0e4b32c4c655fa694298ff80f540860bd845c191a9c38f277b9165c7be10f4e8e",
   "display_name": "Python 3.8.8 64-bit ('cmpt733': conda)"
  }
 },
 "nbformat": 4,
 "nbformat_minor": 2,
 "cells": [
  {
   "cell_type": "code",
   "execution_count": 8,
   "metadata": {},
   "outputs": [],
   "source": [
    "import numpy as np\n",
    "import pandas as pd\n",
    "import os\n",
    "import sys\n",
    "from datetime import datetime\n",
    "import matplotlib.pyplot as plt\n",
    "import seaborn as sns\n",
    "\n",
    "foobar_path = os.path.abspath(os.path.join('..'))\n",
    "if foobar_path not in sys.path:\n",
    "    sys.path.append(foobar_path)\n",
    "\n",
    "import torch\n",
    "import torch.nn as nn\n",
    "from torch.utils.data import TensorDataset, DataLoader\n",
    "\n",
    "from sklearn.preprocessing import MinMaxScaler, StandardScaler\n",
    "from foobar.trainer.lstm_trainer import train_model\n",
    "from foobar.ml_preprocessing.timeseries_preprocessing import wind"
   ]
  },
  {
   "cell_type": "code",
   "execution_count": 35,
   "metadata": {},
   "outputs": [
    {
     "output_type": "stream",
     "name": "stdout",
     "text": [
      "                   hour  closeprice\n0   2020-04-09 00:00:00       4.000\n1   2020-04-09 01:00:00       4.000\n2   2020-04-09 02:00:00       4.000\n3   2020-04-09 03:00:00       4.000\n4   2020-04-09 04:00:00       4.000\n5   2020-04-09 05:00:00       4.000\n6   2020-04-09 06:00:00       4.000\n7   2020-04-09 07:00:00       4.000\n8   2020-04-09 08:00:00       4.000\n9   2020-04-09 09:00:00       4.000\n10  2020-04-09 10:00:00       4.000\n11  2020-04-09 11:00:00       4.000\n12  2020-04-09 12:00:00       4.000\n13  2020-04-09 13:00:00       4.000\n14  2020-04-09 14:00:00       4.000\n15  2020-04-09 15:00:00       4.000\n16  2020-04-09 16:00:00       4.000\n17  2020-04-09 17:00:00       4.000\n18  2020-04-09 18:00:00       4.000\n19  2020-04-09 19:00:00       4.000\n20  2020-04-09 20:00:00       4.000\n21  2020-04-09 21:00:00       4.000\n22  2020-04-09 22:00:00       3.950\n23  2020-04-09 23:00:00       3.950\n24  2020-04-13 00:00:00       4.160\n25  2020-04-13 01:00:00       4.160\n26  2020-04-13 02:00:00       4.160\n27  2020-04-13 03:00:00       4.160\n28  2020-04-13 04:00:00       4.160\n29  2020-04-13 05:00:00       4.160\n30  2020-04-13 06:00:00       4.160\n31  2020-04-13 07:00:00       4.160\n32  2020-04-13 08:00:00       4.160\n33  2020-04-13 09:00:00       4.160\n34  2020-04-13 10:00:00       4.160\n35  2020-04-13 11:00:00       4.160\n36  2020-04-13 12:00:00       4.160\n37  2020-04-13 13:00:00       4.490\n38  2020-04-13 14:00:00       4.470\n39  2020-04-13 15:00:00       4.415\n40  2020-04-13 16:00:00       4.455\n41  2020-04-13 17:00:00       4.500\n42  2020-04-13 18:00:00       4.550\n43  2020-04-13 19:00:00       4.750\n44  2020-04-13 20:00:00       4.800\n45  2020-04-13 21:00:00       4.800\n46  2020-04-13 22:00:00       4.800\n47  2020-04-13 23:00:00       4.800\n48  2020-04-14 00:00:00       4.910\n49  2020-04-14 01:00:00       4.910\n"
     ]
    },
    {
     "output_type": "execute_result",
     "data": {
      "text/plain": [
       "                   hour  closeprice\n",
       "0   2020-04-09 13:00:00        3.70\n",
       "1   2020-04-09 14:00:00        3.86\n",
       "2   2020-04-09 15:00:00        4.06\n",
       "3   2020-04-09 16:00:00        4.12\n",
       "4   2020-04-09 17:00:00        4.03\n",
       "5   2020-04-09 18:00:00        3.91\n",
       "6   2020-04-09 19:00:00        3.89\n",
       "7   2020-04-09 20:00:00        3.82\n",
       "8   2020-04-09 21:00:00        4.00\n",
       "9   2020-04-09 22:00:00        3.95\n",
       "10  2020-04-09 23:00:00        3.95\n",
       "11  2020-04-10 00:00:00        3.95\n",
       "12  2020-04-10 01:00:00        3.95\n",
       "13  2020-04-10 02:00:00        3.95\n",
       "14  2020-04-10 03:00:00        3.95\n",
       "15  2020-04-10 04:00:00        3.95\n",
       "16  2020-04-10 05:00:00        3.95\n",
       "17  2020-04-10 06:00:00        3.95\n",
       "18  2020-04-10 07:00:00        3.95\n",
       "19  2020-04-10 08:00:00        3.95\n",
       "20  2020-04-10 09:00:00        3.95\n",
       "21  2020-04-10 10:00:00        3.95\n",
       "22  2020-04-10 11:00:00        3.95\n",
       "23  2020-04-10 12:00:00        3.95\n",
       "24  2020-04-10 13:00:00        3.95\n",
       "25  2020-04-10 14:00:00        3.95\n",
       "26  2020-04-10 15:00:00        3.95\n",
       "27  2020-04-10 16:00:00        3.95\n",
       "28  2020-04-10 17:00:00        3.95\n",
       "29  2020-04-10 18:00:00        3.95\n",
       "30  2020-04-10 19:00:00        3.95\n",
       "31  2020-04-10 20:00:00        3.95\n",
       "32  2020-04-10 21:00:00        3.95\n",
       "33  2020-04-10 22:00:00        3.95\n",
       "34  2020-04-10 23:00:00        3.95\n",
       "35  2020-04-11 00:00:00        3.95\n",
       "36  2020-04-11 01:00:00        3.95\n",
       "37  2020-04-11 02:00:00        3.95\n",
       "38  2020-04-11 03:00:00        3.95\n",
       "39  2020-04-11 04:00:00        3.95\n",
       "40  2020-04-11 05:00:00        3.95\n",
       "41  2020-04-11 06:00:00        3.95\n",
       "42  2020-04-11 07:00:00        3.95\n",
       "43  2020-04-11 08:00:00        3.95\n",
       "44  2020-04-11 09:00:00        3.95\n",
       "45  2020-04-11 10:00:00        3.95\n",
       "46  2020-04-11 11:00:00        3.95\n",
       "47  2020-04-11 12:00:00        3.95\n",
       "48  2020-04-11 13:00:00        3.95\n",
       "49  2020-04-11 14:00:00        3.95"
      ],
      "text/html": "<div>\n<style scoped>\n    .dataframe tbody tr th:only-of-type {\n        vertical-align: middle;\n    }\n\n    .dataframe tbody tr th {\n        vertical-align: top;\n    }\n\n    .dataframe thead th {\n        text-align: right;\n    }\n</style>\n<table border=\"1\" class=\"dataframe\">\n  <thead>\n    <tr style=\"text-align: right;\">\n      <th></th>\n      <th>hour</th>\n      <th>closeprice</th>\n    </tr>\n  </thead>\n  <tbody>\n    <tr>\n      <th>0</th>\n      <td>2020-04-09 13:00:00</td>\n      <td>3.70</td>\n    </tr>\n    <tr>\n      <th>1</th>\n      <td>2020-04-09 14:00:00</td>\n      <td>3.86</td>\n    </tr>\n    <tr>\n      <th>2</th>\n      <td>2020-04-09 15:00:00</td>\n      <td>4.06</td>\n    </tr>\n    <tr>\n      <th>3</th>\n      <td>2020-04-09 16:00:00</td>\n      <td>4.12</td>\n    </tr>\n    <tr>\n      <th>4</th>\n      <td>2020-04-09 17:00:00</td>\n      <td>4.03</td>\n    </tr>\n    <tr>\n      <th>5</th>\n      <td>2020-04-09 18:00:00</td>\n      <td>3.91</td>\n    </tr>\n    <tr>\n      <th>6</th>\n      <td>2020-04-09 19:00:00</td>\n      <td>3.89</td>\n    </tr>\n    <tr>\n      <th>7</th>\n      <td>2020-04-09 20:00:00</td>\n      <td>3.82</td>\n    </tr>\n    <tr>\n      <th>8</th>\n      <td>2020-04-09 21:00:00</td>\n      <td>4.00</td>\n    </tr>\n    <tr>\n      <th>9</th>\n      <td>2020-04-09 22:00:00</td>\n      <td>3.95</td>\n    </tr>\n    <tr>\n      <th>10</th>\n      <td>2020-04-09 23:00:00</td>\n      <td>3.95</td>\n    </tr>\n    <tr>\n      <th>11</th>\n      <td>2020-04-10 00:00:00</td>\n      <td>3.95</td>\n    </tr>\n    <tr>\n      <th>12</th>\n      <td>2020-04-10 01:00:00</td>\n      <td>3.95</td>\n    </tr>\n    <tr>\n      <th>13</th>\n      <td>2020-04-10 02:00:00</td>\n      <td>3.95</td>\n    </tr>\n    <tr>\n      <th>14</th>\n      <td>2020-04-10 03:00:00</td>\n      <td>3.95</td>\n    </tr>\n    <tr>\n      <th>15</th>\n      <td>2020-04-10 04:00:00</td>\n      <td>3.95</td>\n    </tr>\n    <tr>\n      <th>16</th>\n      <td>2020-04-10 05:00:00</td>\n      <td>3.95</td>\n    </tr>\n    <tr>\n      <th>17</th>\n      <td>2020-04-10 06:00:00</td>\n      <td>3.95</td>\n    </tr>\n    <tr>\n      <th>18</th>\n      <td>2020-04-10 07:00:00</td>\n      <td>3.95</td>\n    </tr>\n    <tr>\n      <th>19</th>\n      <td>2020-04-10 08:00:00</td>\n      <td>3.95</td>\n    </tr>\n    <tr>\n      <th>20</th>\n      <td>2020-04-10 09:00:00</td>\n      <td>3.95</td>\n    </tr>\n    <tr>\n      <th>21</th>\n      <td>2020-04-10 10:00:00</td>\n      <td>3.95</td>\n    </tr>\n    <tr>\n      <th>22</th>\n      <td>2020-04-10 11:00:00</td>\n      <td>3.95</td>\n    </tr>\n    <tr>\n      <th>23</th>\n      <td>2020-04-10 12:00:00</td>\n      <td>3.95</td>\n    </tr>\n    <tr>\n      <th>24</th>\n      <td>2020-04-10 13:00:00</td>\n      <td>3.95</td>\n    </tr>\n    <tr>\n      <th>25</th>\n      <td>2020-04-10 14:00:00</td>\n      <td>3.95</td>\n    </tr>\n    <tr>\n      <th>26</th>\n      <td>2020-04-10 15:00:00</td>\n      <td>3.95</td>\n    </tr>\n    <tr>\n      <th>27</th>\n      <td>2020-04-10 16:00:00</td>\n      <td>3.95</td>\n    </tr>\n    <tr>\n      <th>28</th>\n      <td>2020-04-10 17:00:00</td>\n      <td>3.95</td>\n    </tr>\n    <tr>\n      <th>29</th>\n      <td>2020-04-10 18:00:00</td>\n      <td>3.95</td>\n    </tr>\n    <tr>\n      <th>30</th>\n      <td>2020-04-10 19:00:00</td>\n      <td>3.95</td>\n    </tr>\n    <tr>\n      <th>31</th>\n      <td>2020-04-10 20:00:00</td>\n      <td>3.95</td>\n    </tr>\n    <tr>\n      <th>32</th>\n      <td>2020-04-10 21:00:00</td>\n      <td>3.95</td>\n    </tr>\n    <tr>\n      <th>33</th>\n      <td>2020-04-10 22:00:00</td>\n      <td>3.95</td>\n    </tr>\n    <tr>\n      <th>34</th>\n      <td>2020-04-10 23:00:00</td>\n      <td>3.95</td>\n    </tr>\n    <tr>\n      <th>35</th>\n      <td>2020-04-11 00:00:00</td>\n      <td>3.95</td>\n    </tr>\n    <tr>\n      <th>36</th>\n      <td>2020-04-11 01:00:00</td>\n      <td>3.95</td>\n    </tr>\n    <tr>\n      <th>37</th>\n      <td>2020-04-11 02:00:00</td>\n      <td>3.95</td>\n    </tr>\n    <tr>\n      <th>38</th>\n      <td>2020-04-11 03:00:00</td>\n      <td>3.95</td>\n    </tr>\n    <tr>\n      <th>39</th>\n      <td>2020-04-11 04:00:00</td>\n      <td>3.95</td>\n    </tr>\n    <tr>\n      <th>40</th>\n      <td>2020-04-11 05:00:00</td>\n      <td>3.95</td>\n    </tr>\n    <tr>\n      <th>41</th>\n      <td>2020-04-11 06:00:00</td>\n      <td>3.95</td>\n    </tr>\n    <tr>\n      <th>42</th>\n      <td>2020-04-11 07:00:00</td>\n      <td>3.95</td>\n    </tr>\n    <tr>\n      <th>43</th>\n      <td>2020-04-11 08:00:00</td>\n      <td>3.95</td>\n    </tr>\n    <tr>\n      <th>44</th>\n      <td>2020-04-11 09:00:00</td>\n      <td>3.95</td>\n    </tr>\n    <tr>\n      <th>45</th>\n      <td>2020-04-11 10:00:00</td>\n      <td>3.95</td>\n    </tr>\n    <tr>\n      <th>46</th>\n      <td>2020-04-11 11:00:00</td>\n      <td>3.95</td>\n    </tr>\n    <tr>\n      <th>47</th>\n      <td>2020-04-11 12:00:00</td>\n      <td>3.95</td>\n    </tr>\n    <tr>\n      <th>48</th>\n      <td>2020-04-11 13:00:00</td>\n      <td>3.95</td>\n    </tr>\n    <tr>\n      <th>49</th>\n      <td>2020-04-11 14:00:00</td>\n      <td>3.95</td>\n    </tr>\n  </tbody>\n</table>\n</div>"
     },
     "metadata": {},
     "execution_count": 35
    }
   ],
   "source": [
    "S3_FILE_NAME_WIDE = 'wide.csv'\n",
    "S3_FILE_NAME_GAMESTOP = 'gme.csv'\n",
    "\n",
    "LOCAL_FILE_PATH_WIDE = '../foobar/data/processed/wide.csv'\n",
    "LOCAL_FILE_PATH_GAMESTOP = '../foobar/data/processed/gme.csv'\n",
    "\n",
    "\n",
    "df_wide = pd.read_csv(LOCAL_FILE_PATH_WIDE)\n",
    "df_gamestop = pd.read_csv(LOCAL_FILE_PATH_GAMESTOP)\n",
    "print(df_wide[['hour','closeprice']].head(50))\n",
    "df_gamestop[['hour','closeprice']].head(50)"
   ]
  },
  {
   "cell_type": "code",
   "execution_count": 18,
   "metadata": {},
   "outputs": [
    {
     "output_type": "execute_result",
     "data": {
      "text/plain": [
       "Index(['hour', 'avg_all_post_pos', 'avg_all_post_neg', 'avg_all_post_neu',\n",
       "       'cnt_all_user', 'cnt_all_tag', 'cnt_all_post', 'cnt_all_comments',\n",
       "       'avg_gme_post_pos', 'avg_gme_post_neg', 'avg_gme_post_neu',\n",
       "       'cnt_gme_user', 'cnt_gme_tag', 'cnt_gme_post', 'cnt_gme_comments', 'id',\n",
       "       'volume', 'openprice', 'closeprice', 'highprice', 'lowprice',\n",
       "       'prediction'],\n",
       "      dtype='object')"
      ]
     },
     "metadata": {},
     "execution_count": 18
    }
   ],
   "source": [
    "    feature_set_gamestop = ['openprice', 'highprice', 'lowprice', 'volume', 'closeprice']\n",
    "    feature_set_wide = ['avg_all_post_pos', 'avg_all_post_neg', 'avg_all_post_neu',\n",
    "       'cnt_all_user', 'cnt_all_tag', 'cnt_all_post', 'cnt_all_comments',\n",
    "       'avg_gme_post_pos', 'avg_gme_post_neg', 'avg_gme_post_neu',\n",
    "       'cnt_gme_user', 'cnt_gme_tag', 'cnt_gme_post', 'cnt_gme_comments',\n",
    "       'volume', 'openprice', 'closeprice', 'highprice', 'lowprice']\n",
    "\n",
    "    df_wide.columns"
   ]
  },
  {
   "cell_type": "code",
   "execution_count": 30,
   "metadata": {},
   "outputs": [
    {
     "output_type": "execute_result",
     "data": {
      "text/plain": [
       "                                    hour  avg_all_post_pos  avg_all_post_neg  \\\n",
       "datetime                                                                       \n",
       "2020-04-09 00:00:00  2020-04-09 00:00:00          0.097898          0.090536   \n",
       "2020-04-09 01:00:00  2020-04-09 01:00:00          0.099473          0.087383   \n",
       "2020-04-09 02:00:00  2020-04-09 02:00:00          0.099551          0.087438   \n",
       "2020-04-09 03:00:00  2020-04-09 03:00:00          0.099052          0.091373   \n",
       "2020-04-09 04:00:00  2020-04-09 04:00:00          0.093404          0.080233   \n",
       "...                                  ...               ...               ...   \n",
       "2020-12-31 19:00:00  2020-12-31 19:00:00          0.109813          0.079860   \n",
       "2020-12-31 20:00:00  2020-12-31 20:00:00          0.113935          0.081334   \n",
       "2020-12-31 21:00:00  2020-12-31 21:00:00          0.127015          0.069499   \n",
       "2020-12-31 22:00:00  2020-12-31 22:00:00          0.119612          0.076276   \n",
       "2020-12-31 23:00:00  2020-12-31 23:00:00          0.148266          0.075820   \n",
       "\n",
       "                     avg_all_post_neu  cnt_all_user  cnt_all_tag  \\\n",
       "datetime                                                           \n",
       "2020-04-09 00:00:00          0.807021        1201.0        190.0   \n",
       "2020-04-09 01:00:00          0.808619        1202.0        189.0   \n",
       "2020-04-09 02:00:00          0.805654        1107.0        185.0   \n",
       "2020-04-09 03:00:00          0.804884         945.0        183.0   \n",
       "2020-04-09 04:00:00          0.821032         687.0        153.0   \n",
       "...                               ...           ...          ...   \n",
       "2020-12-31 19:00:00          0.810343          91.0         48.0   \n",
       "2020-12-31 20:00:00          0.796540         168.0         51.0   \n",
       "2020-12-31 21:00:00          0.800059         183.0         74.0   \n",
       "2020-12-31 22:00:00          0.804085         147.0         63.0   \n",
       "2020-12-31 23:00:00          0.768220         135.0         60.0   \n",
       "\n",
       "                     cnt_all_post  cnt_all_comments  avg_gme_post_pos  \\\n",
       "datetime                                                                \n",
       "2020-04-09 00:00:00        3500.0            3477.0          0.000000   \n",
       "2020-04-09 01:00:00        3540.0            3519.0          0.000000   \n",
       "2020-04-09 02:00:00        3258.0            3235.0          0.000000   \n",
       "2020-04-09 03:00:00        2781.0            2767.0          0.000000   \n",
       "2020-04-09 04:00:00        1874.0            1858.0          0.000000   \n",
       "...                           ...               ...               ...   \n",
       "2020-12-31 19:00:00         149.0             130.0          0.110126   \n",
       "2020-12-31 20:00:00         243.0             228.0          0.125801   \n",
       "2020-12-31 21:00:00         291.0             281.0          0.142701   \n",
       "2020-12-31 22:00:00         262.0             249.0          0.105401   \n",
       "2020-12-31 23:00:00         260.0             252.0          0.000000   \n",
       "\n",
       "                     avg_gme_post_neg  ...  cnt_gme_tag  cnt_gme_post  \\\n",
       "datetime                               ...                              \n",
       "2020-04-09 00:00:00          0.000000  ...          0.0           0.0   \n",
       "2020-04-09 01:00:00          0.000000  ...          0.0           0.0   \n",
       "2020-04-09 02:00:00          0.000000  ...          0.0           0.0   \n",
       "2020-04-09 03:00:00          0.000000  ...          0.0           0.0   \n",
       "2020-04-09 04:00:00          0.000000  ...          0.0           0.0   \n",
       "...                               ...  ...          ...           ...   \n",
       "2020-12-31 19:00:00          0.087626  ...          1.0           8.0   \n",
       "2020-12-31 20:00:00          0.000001  ...          1.0           5.0   \n",
       "2020-12-31 21:00:00          0.080701  ...          1.0          10.0   \n",
       "2020-12-31 22:00:00          0.038201  ...          1.0           5.0   \n",
       "2020-12-31 23:00:00          0.000000  ...          0.0           0.0   \n",
       "\n",
       "                     cnt_gme_comments      id     volume  openprice  \\\n",
       "datetime                                                              \n",
       "2020-04-09 00:00:00               0.0     1.0     1379.0       3.94   \n",
       "2020-04-09 01:00:00               0.0     1.0     1379.0       3.94   \n",
       "2020-04-09 02:00:00               0.0     1.0     1379.0       3.94   \n",
       "2020-04-09 03:00:00               0.0     1.0     1379.0       3.94   \n",
       "2020-04-09 04:00:00               0.0     1.0     1379.0       3.94   \n",
       "...                               ...     ...        ...        ...   \n",
       "2020-12-31 19:00:00               6.0  1601.0   792064.0      19.47   \n",
       "2020-12-31 20:00:00               4.0  1602.0  1081315.0      18.98   \n",
       "2020-12-31 21:00:00               8.0  1603.0  1270488.0      18.84   \n",
       "2020-12-31 22:00:00               3.0  1603.0  1270488.0      18.84   \n",
       "2020-12-31 23:00:00               0.0  1603.0  1270488.0      18.84   \n",
       "\n",
       "                     closeprice  highprice  lowprice  prediction  \n",
       "datetime                                                          \n",
       "2020-04-09 00:00:00        4.00       4.00      3.94        -1.0  \n",
       "2020-04-09 01:00:00        4.00       4.00      3.94        -1.0  \n",
       "2020-04-09 02:00:00        4.00       4.00      3.94        -1.0  \n",
       "2020-04-09 03:00:00        4.00       4.00      3.94        -1.0  \n",
       "2020-04-09 04:00:00        4.00       4.00      3.94        -1.0  \n",
       "...                         ...        ...       ...         ...  \n",
       "2020-12-31 19:00:00       18.99      19.47     18.91        -1.0  \n",
       "2020-12-31 20:00:00       18.81      19.03     18.80        -1.0  \n",
       "2020-12-31 21:00:00       18.80      18.95     18.29        -1.0  \n",
       "2020-12-31 22:00:00       18.80      18.95     18.29        -1.0  \n",
       "2020-12-31 23:00:00       18.80      18.95     18.29        -1.0  \n",
       "\n",
       "[4560 rows x 22 columns]"
      ],
      "text/html": "<div>\n<style scoped>\n    .dataframe tbody tr th:only-of-type {\n        vertical-align: middle;\n    }\n\n    .dataframe tbody tr th {\n        vertical-align: top;\n    }\n\n    .dataframe thead th {\n        text-align: right;\n    }\n</style>\n<table border=\"1\" class=\"dataframe\">\n  <thead>\n    <tr style=\"text-align: right;\">\n      <th></th>\n      <th>hour</th>\n      <th>avg_all_post_pos</th>\n      <th>avg_all_post_neg</th>\n      <th>avg_all_post_neu</th>\n      <th>cnt_all_user</th>\n      <th>cnt_all_tag</th>\n      <th>cnt_all_post</th>\n      <th>cnt_all_comments</th>\n      <th>avg_gme_post_pos</th>\n      <th>avg_gme_post_neg</th>\n      <th>...</th>\n      <th>cnt_gme_tag</th>\n      <th>cnt_gme_post</th>\n      <th>cnt_gme_comments</th>\n      <th>id</th>\n      <th>volume</th>\n      <th>openprice</th>\n      <th>closeprice</th>\n      <th>highprice</th>\n      <th>lowprice</th>\n      <th>prediction</th>\n    </tr>\n    <tr>\n      <th>datetime</th>\n      <th></th>\n      <th></th>\n      <th></th>\n      <th></th>\n      <th></th>\n      <th></th>\n      <th></th>\n      <th></th>\n      <th></th>\n      <th></th>\n      <th></th>\n      <th></th>\n      <th></th>\n      <th></th>\n      <th></th>\n      <th></th>\n      <th></th>\n      <th></th>\n      <th></th>\n      <th></th>\n      <th></th>\n    </tr>\n  </thead>\n  <tbody>\n    <tr>\n      <th>2020-04-09 00:00:00</th>\n      <td>2020-04-09 00:00:00</td>\n      <td>0.097898</td>\n      <td>0.090536</td>\n      <td>0.807021</td>\n      <td>1201.0</td>\n      <td>190.0</td>\n      <td>3500.0</td>\n      <td>3477.0</td>\n      <td>0.000000</td>\n      <td>0.000000</td>\n      <td>...</td>\n      <td>0.0</td>\n      <td>0.0</td>\n      <td>0.0</td>\n      <td>1.0</td>\n      <td>1379.0</td>\n      <td>3.94</td>\n      <td>4.00</td>\n      <td>4.00</td>\n      <td>3.94</td>\n      <td>-1.0</td>\n    </tr>\n    <tr>\n      <th>2020-04-09 01:00:00</th>\n      <td>2020-04-09 01:00:00</td>\n      <td>0.099473</td>\n      <td>0.087383</td>\n      <td>0.808619</td>\n      <td>1202.0</td>\n      <td>189.0</td>\n      <td>3540.0</td>\n      <td>3519.0</td>\n      <td>0.000000</td>\n      <td>0.000000</td>\n      <td>...</td>\n      <td>0.0</td>\n      <td>0.0</td>\n      <td>0.0</td>\n      <td>1.0</td>\n      <td>1379.0</td>\n      <td>3.94</td>\n      <td>4.00</td>\n      <td>4.00</td>\n      <td>3.94</td>\n      <td>-1.0</td>\n    </tr>\n    <tr>\n      <th>2020-04-09 02:00:00</th>\n      <td>2020-04-09 02:00:00</td>\n      <td>0.099551</td>\n      <td>0.087438</td>\n      <td>0.805654</td>\n      <td>1107.0</td>\n      <td>185.0</td>\n      <td>3258.0</td>\n      <td>3235.0</td>\n      <td>0.000000</td>\n      <td>0.000000</td>\n      <td>...</td>\n      <td>0.0</td>\n      <td>0.0</td>\n      <td>0.0</td>\n      <td>1.0</td>\n      <td>1379.0</td>\n      <td>3.94</td>\n      <td>4.00</td>\n      <td>4.00</td>\n      <td>3.94</td>\n      <td>-1.0</td>\n    </tr>\n    <tr>\n      <th>2020-04-09 03:00:00</th>\n      <td>2020-04-09 03:00:00</td>\n      <td>0.099052</td>\n      <td>0.091373</td>\n      <td>0.804884</td>\n      <td>945.0</td>\n      <td>183.0</td>\n      <td>2781.0</td>\n      <td>2767.0</td>\n      <td>0.000000</td>\n      <td>0.000000</td>\n      <td>...</td>\n      <td>0.0</td>\n      <td>0.0</td>\n      <td>0.0</td>\n      <td>1.0</td>\n      <td>1379.0</td>\n      <td>3.94</td>\n      <td>4.00</td>\n      <td>4.00</td>\n      <td>3.94</td>\n      <td>-1.0</td>\n    </tr>\n    <tr>\n      <th>2020-04-09 04:00:00</th>\n      <td>2020-04-09 04:00:00</td>\n      <td>0.093404</td>\n      <td>0.080233</td>\n      <td>0.821032</td>\n      <td>687.0</td>\n      <td>153.0</td>\n      <td>1874.0</td>\n      <td>1858.0</td>\n      <td>0.000000</td>\n      <td>0.000000</td>\n      <td>...</td>\n      <td>0.0</td>\n      <td>0.0</td>\n      <td>0.0</td>\n      <td>1.0</td>\n      <td>1379.0</td>\n      <td>3.94</td>\n      <td>4.00</td>\n      <td>4.00</td>\n      <td>3.94</td>\n      <td>-1.0</td>\n    </tr>\n    <tr>\n      <th>...</th>\n      <td>...</td>\n      <td>...</td>\n      <td>...</td>\n      <td>...</td>\n      <td>...</td>\n      <td>...</td>\n      <td>...</td>\n      <td>...</td>\n      <td>...</td>\n      <td>...</td>\n      <td>...</td>\n      <td>...</td>\n      <td>...</td>\n      <td>...</td>\n      <td>...</td>\n      <td>...</td>\n      <td>...</td>\n      <td>...</td>\n      <td>...</td>\n      <td>...</td>\n      <td>...</td>\n    </tr>\n    <tr>\n      <th>2020-12-31 19:00:00</th>\n      <td>2020-12-31 19:00:00</td>\n      <td>0.109813</td>\n      <td>0.079860</td>\n      <td>0.810343</td>\n      <td>91.0</td>\n      <td>48.0</td>\n      <td>149.0</td>\n      <td>130.0</td>\n      <td>0.110126</td>\n      <td>0.087626</td>\n      <td>...</td>\n      <td>1.0</td>\n      <td>8.0</td>\n      <td>6.0</td>\n      <td>1601.0</td>\n      <td>792064.0</td>\n      <td>19.47</td>\n      <td>18.99</td>\n      <td>19.47</td>\n      <td>18.91</td>\n      <td>-1.0</td>\n    </tr>\n    <tr>\n      <th>2020-12-31 20:00:00</th>\n      <td>2020-12-31 20:00:00</td>\n      <td>0.113935</td>\n      <td>0.081334</td>\n      <td>0.796540</td>\n      <td>168.0</td>\n      <td>51.0</td>\n      <td>243.0</td>\n      <td>228.0</td>\n      <td>0.125801</td>\n      <td>0.000001</td>\n      <td>...</td>\n      <td>1.0</td>\n      <td>5.0</td>\n      <td>4.0</td>\n      <td>1602.0</td>\n      <td>1081315.0</td>\n      <td>18.98</td>\n      <td>18.81</td>\n      <td>19.03</td>\n      <td>18.80</td>\n      <td>-1.0</td>\n    </tr>\n    <tr>\n      <th>2020-12-31 21:00:00</th>\n      <td>2020-12-31 21:00:00</td>\n      <td>0.127015</td>\n      <td>0.069499</td>\n      <td>0.800059</td>\n      <td>183.0</td>\n      <td>74.0</td>\n      <td>291.0</td>\n      <td>281.0</td>\n      <td>0.142701</td>\n      <td>0.080701</td>\n      <td>...</td>\n      <td>1.0</td>\n      <td>10.0</td>\n      <td>8.0</td>\n      <td>1603.0</td>\n      <td>1270488.0</td>\n      <td>18.84</td>\n      <td>18.80</td>\n      <td>18.95</td>\n      <td>18.29</td>\n      <td>-1.0</td>\n    </tr>\n    <tr>\n      <th>2020-12-31 22:00:00</th>\n      <td>2020-12-31 22:00:00</td>\n      <td>0.119612</td>\n      <td>0.076276</td>\n      <td>0.804085</td>\n      <td>147.0</td>\n      <td>63.0</td>\n      <td>262.0</td>\n      <td>249.0</td>\n      <td>0.105401</td>\n      <td>0.038201</td>\n      <td>...</td>\n      <td>1.0</td>\n      <td>5.0</td>\n      <td>3.0</td>\n      <td>1603.0</td>\n      <td>1270488.0</td>\n      <td>18.84</td>\n      <td>18.80</td>\n      <td>18.95</td>\n      <td>18.29</td>\n      <td>-1.0</td>\n    </tr>\n    <tr>\n      <th>2020-12-31 23:00:00</th>\n      <td>2020-12-31 23:00:00</td>\n      <td>0.148266</td>\n      <td>0.075820</td>\n      <td>0.768220</td>\n      <td>135.0</td>\n      <td>60.0</td>\n      <td>260.0</td>\n      <td>252.0</td>\n      <td>0.000000</td>\n      <td>0.000000</td>\n      <td>...</td>\n      <td>0.0</td>\n      <td>0.0</td>\n      <td>0.0</td>\n      <td>1603.0</td>\n      <td>1270488.0</td>\n      <td>18.84</td>\n      <td>18.80</td>\n      <td>18.95</td>\n      <td>18.29</td>\n      <td>-1.0</td>\n    </tr>\n  </tbody>\n</table>\n<p>4560 rows × 22 columns</p>\n</div>"
     },
     "metadata": {},
     "execution_count": 30
    }
   ],
   "source": [
    "# df_wide = df_wide.set_index('hour')\n",
    "df_wide['datetime'] = pd.to_datetime(df_wide['hour'], format='%Y-%m-%d %H:%M:%S')\n",
    "df_wide = df_wide.set_index('datetime')\n",
    "\n",
    "df_temp = df_wide[df_wide.index.year == 2020]\n",
    "df_temp"
   ]
  },
  {
   "cell_type": "code",
   "execution_count": null,
   "metadata": {},
   "outputs": [],
   "source": []
  }
 ]
}